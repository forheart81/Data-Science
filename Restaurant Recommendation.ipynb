{
 "cells": [
  {
   "cell_type": "code",
   "execution_count": 1,
   "metadata": {},
   "outputs": [],
   "source": [
    "import pandas as pd\n",
    "import numpy as np\n",
    "from sklearn.feature_extraction.text import CountVectorizer\n",
    "from sklearn.metrics.pairwise import cosine_similarity"
   ]
  },
  {
   "cell_type": "code",
   "execution_count": 2,
   "metadata": {},
   "outputs": [],
   "source": [
    "df = pd.read_csv('res_review')"
   ]
  },
  {
   "cell_type": "code",
   "execution_count": 3,
   "metadata": {},
   "outputs": [
    {
     "data": {
      "text/plain": [
       "(60788, 10)"
      ]
     },
     "execution_count": 3,
     "metadata": {},
     "output_type": "execute_result"
    }
   ],
   "source": [
    "df.shape"
   ]
  },
  {
   "cell_type": "code",
   "execution_count": 4,
   "metadata": {},
   "outputs": [
    {
     "data": {
      "text/plain": [
       "Index(['Unnamed: 0', 'business_id', 'cool', 'date', 'funny', 'review_id',\n",
       "       'stars', 'text', 'useful', 'user_id'],\n",
       "      dtype='object')"
      ]
     },
     "execution_count": 4,
     "metadata": {},
     "output_type": "execute_result"
    }
   ],
   "source": [
    "df.columns"
   ]
  },
  {
   "cell_type": "code",
   "execution_count": 5,
   "metadata": {},
   "outputs": [],
   "source": [
    "vec = CountVectorizer(min_df = 2, max_df=0.95, max_features=500, stop_words='english')"
   ]
  },
  {
   "cell_type": "code",
   "execution_count": 6,
   "metadata": {},
   "outputs": [],
   "source": [
    "review_matrix = vec.fit_transform(df['text'])"
   ]
  },
  {
   "cell_type": "code",
   "execution_count": 7,
   "metadata": {},
   "outputs": [],
   "source": [
    "from sklearn.decomposition import NMF"
   ]
  },
  {
   "cell_type": "code",
   "execution_count": 8,
   "metadata": {},
   "outputs": [],
   "source": [
    "nmf = NMF(n_components=20, solver='mu')\n",
    "W = nmf.fit_transform(review_matrix)"
   ]
  },
  {
   "cell_type": "code",
   "execution_count": 9,
   "metadata": {},
   "outputs": [],
   "source": [
    "idx_to_word = np.array(vec.get_feature_names())"
   ]
  },
  {
   "cell_type": "code",
   "execution_count": 10,
   "metadata": {},
   "outputs": [],
   "source": [
    "H = nmf.components_"
   ]
  },
  {
   "cell_type": "code",
   "execution_count": 13,
   "metadata": {},
   "outputs": [
    {
     "data": {
      "text/plain": [
       "(60788, 20)"
      ]
     },
     "execution_count": 13,
     "metadata": {},
     "output_type": "execute_result"
    }
   ],
   "source": [
    "W.shape"
   ]
  },
  {
   "cell_type": "code",
   "execution_count": 20,
   "metadata": {},
   "outputs": [],
   "source": [
    "array = []\n",
    "for i in range(len(df)):\n",
    "    array.append(np.argmax(W[i]))"
   ]
  },
  {
   "cell_type": "code",
   "execution_count": 21,
   "metadata": {},
   "outputs": [],
   "source": [
    "df['category'] = array"
   ]
  },
  {
   "cell_type": "code",
   "execution_count": 22,
   "metadata": {
    "scrolled": false
   },
   "outputs": [
    {
     "data": {
      "text/html": [
       "<div>\n",
       "<style scoped>\n",
       "    .dataframe tbody tr th:only-of-type {\n",
       "        vertical-align: middle;\n",
       "    }\n",
       "\n",
       "    .dataframe tbody tr th {\n",
       "        vertical-align: top;\n",
       "    }\n",
       "\n",
       "    .dataframe thead th {\n",
       "        text-align: right;\n",
       "    }\n",
       "</style>\n",
       "<table border=\"1\" class=\"dataframe\">\n",
       "  <thead>\n",
       "    <tr style=\"text-align: right;\">\n",
       "      <th></th>\n",
       "      <th>Unnamed: 0</th>\n",
       "      <th>business_id</th>\n",
       "      <th>cool</th>\n",
       "      <th>date</th>\n",
       "      <th>funny</th>\n",
       "      <th>review_id</th>\n",
       "      <th>stars</th>\n",
       "      <th>text</th>\n",
       "      <th>useful</th>\n",
       "      <th>user_id</th>\n",
       "      <th>category</th>\n",
       "    </tr>\n",
       "  </thead>\n",
       "  <tbody>\n",
       "    <tr>\n",
       "      <th>0</th>\n",
       "      <td>0</td>\n",
       "      <td>xSs1Z1OrWC_KmhY0SPKJ1Q</td>\n",
       "      <td>0</td>\n",
       "      <td>2016-06-01</td>\n",
       "      <td>0</td>\n",
       "      <td>DsPX83pa6vVSASrHF0U1aQ</td>\n",
       "      <td>2</td>\n",
       "      <td>My server was polite but not very prompt. The ...</td>\n",
       "      <td>0</td>\n",
       "      <td>ubgsST240v6cc5C7Kt4zKQ</td>\n",
       "      <td>2</td>\n",
       "    </tr>\n",
       "    <tr>\n",
       "      <th>1</th>\n",
       "      <td>1</td>\n",
       "      <td>xSs1Z1OrWC_KmhY0SPKJ1Q</td>\n",
       "      <td>0</td>\n",
       "      <td>2015-05-06</td>\n",
       "      <td>0</td>\n",
       "      <td>HGw5_lZQ3lpnRHFmbK0-Ww</td>\n",
       "      <td>4</td>\n",
       "      <td>The food was good and the service was great! W...</td>\n",
       "      <td>1</td>\n",
       "      <td>xdcMl8ghySzhDgKzc7OPtQ</td>\n",
       "      <td>10</td>\n",
       "    </tr>\n",
       "    <tr>\n",
       "      <th>2</th>\n",
       "      <td>2</td>\n",
       "      <td>xSs1Z1OrWC_KmhY0SPKJ1Q</td>\n",
       "      <td>0</td>\n",
       "      <td>2016-10-30</td>\n",
       "      <td>0</td>\n",
       "      <td>VsH5hnYRbksrYnH4Vi-ZSg</td>\n",
       "      <td>3</td>\n",
       "      <td>I like to get the habachi vegetables or chicke...</td>\n",
       "      <td>0</td>\n",
       "      <td>rzY8uwz-JtfLowr2EcHo1A</td>\n",
       "      <td>10</td>\n",
       "    </tr>\n",
       "    <tr>\n",
       "      <th>3</th>\n",
       "      <td>3</td>\n",
       "      <td>xSs1Z1OrWC_KmhY0SPKJ1Q</td>\n",
       "      <td>0</td>\n",
       "      <td>2010-06-17</td>\n",
       "      <td>0</td>\n",
       "      <td>xSRTe2zjKjzYqyC-0EThSQ</td>\n",
       "      <td>2</td>\n",
       "      <td>My daughter and I decided to try Shiki one nig...</td>\n",
       "      <td>1</td>\n",
       "      <td>A2l6pDAwA5SkfuOd7E_npw</td>\n",
       "      <td>11</td>\n",
       "    </tr>\n",
       "    <tr>\n",
       "      <th>4</th>\n",
       "      <td>4</td>\n",
       "      <td>xSs1Z1OrWC_KmhY0SPKJ1Q</td>\n",
       "      <td>0</td>\n",
       "      <td>2015-10-22</td>\n",
       "      <td>0</td>\n",
       "      <td>3gctU9pG-ikd8XVW58p_wg</td>\n",
       "      <td>5</td>\n",
       "      <td>My husband and I don't eat out frequently beca...</td>\n",
       "      <td>0</td>\n",
       "      <td>GljH-HX4zGc-c87NGBDhSQ</td>\n",
       "      <td>15</td>\n",
       "    </tr>\n",
       "  </tbody>\n",
       "</table>\n",
       "</div>"
      ],
      "text/plain": [
       "   Unnamed: 0             business_id  cool        date  funny  \\\n",
       "0           0  xSs1Z1OrWC_KmhY0SPKJ1Q     0  2016-06-01      0   \n",
       "1           1  xSs1Z1OrWC_KmhY0SPKJ1Q     0  2015-05-06      0   \n",
       "2           2  xSs1Z1OrWC_KmhY0SPKJ1Q     0  2016-10-30      0   \n",
       "3           3  xSs1Z1OrWC_KmhY0SPKJ1Q     0  2010-06-17      0   \n",
       "4           4  xSs1Z1OrWC_KmhY0SPKJ1Q     0  2015-10-22      0   \n",
       "\n",
       "                review_id  stars  \\\n",
       "0  DsPX83pa6vVSASrHF0U1aQ      2   \n",
       "1  HGw5_lZQ3lpnRHFmbK0-Ww      4   \n",
       "2  VsH5hnYRbksrYnH4Vi-ZSg      3   \n",
       "3  xSRTe2zjKjzYqyC-0EThSQ      2   \n",
       "4  3gctU9pG-ikd8XVW58p_wg      5   \n",
       "\n",
       "                                                text  useful  \\\n",
       "0  My server was polite but not very prompt. The ...       0   \n",
       "1  The food was good and the service was great! W...       1   \n",
       "2  I like to get the habachi vegetables or chicke...       0   \n",
       "3  My daughter and I decided to try Shiki one nig...       1   \n",
       "4  My husband and I don't eat out frequently beca...       0   \n",
       "\n",
       "                  user_id  category  \n",
       "0  ubgsST240v6cc5C7Kt4zKQ         2  \n",
       "1  xdcMl8ghySzhDgKzc7OPtQ        10  \n",
       "2  rzY8uwz-JtfLowr2EcHo1A        10  \n",
       "3  A2l6pDAwA5SkfuOd7E_npw        11  \n",
       "4  GljH-HX4zGc-c87NGBDhSQ        15  "
      ]
     },
     "execution_count": 22,
     "metadata": {},
     "output_type": "execute_result"
    }
   ],
   "source": [
    "df.head()"
   ]
  },
  {
   "cell_type": "code",
   "execution_count": 12,
   "metadata": {},
   "outputs": [
    {
     "data": {
      "text/plain": [
       "(20, 500)"
      ]
     },
     "execution_count": 12,
     "metadata": {},
     "output_type": "execute_result"
    }
   ],
   "source": [
    "H.shape"
   ]
  },
  {
   "cell_type": "code",
   "execution_count": 11,
   "metadata": {},
   "outputs": [
    {
     "name": "stdout",
     "output_type": "stream",
     "text": [
      "Topic 1: server,asked,said,did,good,didn,table,food,got,came\n",
      "Topic 2: amazing,wait,fast,great,staff,mexican,quality,place,service,food\n",
      "Topic 3: price,bit,definitely,try,overall,little,nice,pretty,place,good\n",
      "Topic 4: area,don,nice,friendly,staff,try,like,love,great,place\n",
      "Topic 5: night,staff,definitely,menu,atmosphere,nice,service,delicious,amazing,great\n",
      "Topic 6: beef,curry,food,soup,spicy,sauce,fried,thai,rice,chicken\n",
      "Topic 7: feel,eat,think,taste,know,tasted,just,food,don,like\n",
      "Topic 8: style,garlic,best,order,delivery,new,wings,sauce,cheese,pizza\n",
      "Topic 9: vegas,restaurants,thai,best,delicious,dish,dishes,service,menu,restaurant\n",
      "Topic 10: come,second,don,times,lunch,went,long,just,wait,time\n",
      "Topic 11: location,come,server,minutes,times,slow,bad,like,customer,service\n",
      "Topic 12: say,wasn,don,better,bad,good,right,ok,service,just\n",
      "Topic 13: tuna,rice,quality,salmon,fresh,sashimi,fish,rolls,roll,sushi\n",
      "Topic 14: come,definitely,pretty,think,liked,little,enjoyed,just,nice,really\n",
      "Topic 15: definitely,menu,try,love,fresh,amazing,tacos,sauce,cheese,delicious\n",
      "Topic 16: wrong,make,ordering,don,delivery,told,said,called,minutes,order\n",
      "Topic 17: don,worth,best,line,eat,vegas,breakfast,dinner,lunch,buffet\n",
      "Topic 18: potato,just,bacon,beer,onion,menu,cheese,burgers,fries,burger\n",
      "Topic 19: got,vegas,say,far,tried,better,don,times,best,ve\n",
      "Topic 20: medium,meal,tasted,good,steak,salad,cheese,order,time,ordered\n"
     ]
    }
   ],
   "source": [
    "for i, topic in enumerate(H):\n",
    "    print(\"Topic {}: {}\".format(i + 1, \",\".join([str(x) for x in idx_to_word[topic.argsort()[-10:]]])))"
   ]
  },
  {
   "cell_type": "code",
   "execution_count": 23,
   "metadata": {
    "scrolled": true
   },
   "outputs": [
    {
     "data": {
      "text/plain": [
       "1     5134\n",
       "4     5102\n",
       "3     4859\n",
       "2     4804\n",
       "10    4390\n",
       "14    3486\n",
       "0     3142\n",
       "13    3076\n",
       "8     3049\n",
       "5     2860\n",
       "9     2855\n",
       "11    2684\n",
       "18    2512\n",
       "7     2493\n",
       "6     2091\n",
       "19    1960\n",
       "12    1923\n",
       "15    1894\n",
       "17    1410\n",
       "16    1064\n",
       "Name: category, dtype: int64"
      ]
     },
     "execution_count": 23,
     "metadata": {},
     "output_type": "execute_result"
    }
   ],
   "source": [
    "df.category.value_counts()"
   ]
  },
  {
   "cell_type": "code",
   "execution_count": 24,
   "metadata": {},
   "outputs": [],
   "source": [
    "df16 = df[df.category==16]"
   ]
  },
  {
   "cell_type": "code",
   "execution_count": 25,
   "metadata": {},
   "outputs": [],
   "source": [
    "vec = CountVectorizer(min_df = 2, max_df=0.95, max_features=500, stop_words='english')"
   ]
  },
  {
   "cell_type": "code",
   "execution_count": 26,
   "metadata": {},
   "outputs": [],
   "source": [
    "review_matrix = vec.fit_transform(df16['text'])"
   ]
  },
  {
   "cell_type": "code",
   "execution_count": 27,
   "metadata": {},
   "outputs": [],
   "source": [
    "similarity = cosine_similarity(review_matrix)"
   ]
  },
  {
   "cell_type": "code",
   "execution_count": 35,
   "metadata": {},
   "outputs": [
    {
     "data": {
      "text/html": [
       "<div>\n",
       "<style scoped>\n",
       "    .dataframe tbody tr th:only-of-type {\n",
       "        vertical-align: middle;\n",
       "    }\n",
       "\n",
       "    .dataframe tbody tr th {\n",
       "        vertical-align: top;\n",
       "    }\n",
       "\n",
       "    .dataframe thead th {\n",
       "        text-align: right;\n",
       "    }\n",
       "</style>\n",
       "<table border=\"1\" class=\"dataframe\">\n",
       "  <thead>\n",
       "    <tr style=\"text-align: right;\">\n",
       "      <th></th>\n",
       "      <th>Unnamed: 0</th>\n",
       "      <th>business_id</th>\n",
       "      <th>cool</th>\n",
       "      <th>date</th>\n",
       "      <th>funny</th>\n",
       "      <th>review_id</th>\n",
       "      <th>stars</th>\n",
       "      <th>text</th>\n",
       "      <th>useful</th>\n",
       "      <th>user_id</th>\n",
       "      <th>category</th>\n",
       "    </tr>\n",
       "  </thead>\n",
       "  <tbody>\n",
       "    <tr>\n",
       "      <th>197</th>\n",
       "      <td>197</td>\n",
       "      <td>pF7994Vz1kuReP9f-4HOng</td>\n",
       "      <td>0</td>\n",
       "      <td>2018-06-22</td>\n",
       "      <td>0</td>\n",
       "      <td>lThZp4FI5OQzP9-dOS91gA</td>\n",
       "      <td>1</td>\n",
       "      <td>Gross!! I came here to have lunch but I'm tota...</td>\n",
       "      <td>0</td>\n",
       "      <td>rTIVsxvTEm5b94C2th5xQQ</td>\n",
       "      <td>16</td>\n",
       "    </tr>\n",
       "    <tr>\n",
       "      <th>342</th>\n",
       "      <td>342</td>\n",
       "      <td>8PNXDkWz3hyZFi7E4tYhjw</td>\n",
       "      <td>0</td>\n",
       "      <td>2014-01-01</td>\n",
       "      <td>0</td>\n",
       "      <td>kLqxpSamRULkkSoYKDcsXA</td>\n",
       "      <td>5</td>\n",
       "      <td>Really exceptional food, nice menu, quality in...</td>\n",
       "      <td>0</td>\n",
       "      <td>wNs8Pu7Ia-_2Q-7J-WlEWQ</td>\n",
       "      <td>16</td>\n",
       "    </tr>\n",
       "    <tr>\n",
       "      <th>486</th>\n",
       "      <td>486</td>\n",
       "      <td>91FlIjn-FabJYjJ819gwbQ</td>\n",
       "      <td>0</td>\n",
       "      <td>2016-08-11</td>\n",
       "      <td>0</td>\n",
       "      <td>jlMbmYqicSiUluI6_OStDg</td>\n",
       "      <td>5</td>\n",
       "      <td>Solid breakfast / lunch spot with every bevera...</td>\n",
       "      <td>0</td>\n",
       "      <td>doXxdj4RJhk04-xxm5J1kw</td>\n",
       "      <td>16</td>\n",
       "    </tr>\n",
       "    <tr>\n",
       "      <th>603</th>\n",
       "      <td>603</td>\n",
       "      <td>91FlIjn-FabJYjJ819gwbQ</td>\n",
       "      <td>0</td>\n",
       "      <td>2016-06-21</td>\n",
       "      <td>0</td>\n",
       "      <td>xPfYShts-TSVlsRQn51LOw</td>\n",
       "      <td>5</td>\n",
       "      <td>10 minutes walk to the convention center.  I w...</td>\n",
       "      <td>0</td>\n",
       "      <td>SXeMGP5lNgc03z7cl9Xihg</td>\n",
       "      <td>16</td>\n",
       "    </tr>\n",
       "    <tr>\n",
       "      <th>915</th>\n",
       "      <td>915</td>\n",
       "      <td>L23qeWacyCZFjF9DL6o04w</td>\n",
       "      <td>0</td>\n",
       "      <td>2014-08-28</td>\n",
       "      <td>0</td>\n",
       "      <td>hRlBNL7L1cpxkDzveGjlkA</td>\n",
       "      <td>1</td>\n",
       "      <td>Awful,dried out, rubbery.  Tried this as smart...</td>\n",
       "      <td>0</td>\n",
       "      <td>QjmhwWSEhIZzG7CETkLw6g</td>\n",
       "      <td>16</td>\n",
       "    </tr>\n",
       "    <tr>\n",
       "      <th>1333</th>\n",
       "      <td>1333</td>\n",
       "      <td>mjeolbU52n--a9Lg4ygg6w</td>\n",
       "      <td>0</td>\n",
       "      <td>2016-07-22</td>\n",
       "      <td>0</td>\n",
       "      <td>dngdvsy3kLXJXU9uTnhnSg</td>\n",
       "      <td>3</td>\n",
       "      <td>A normal and clean sub shop. I tried Engineer ...</td>\n",
       "      <td>0</td>\n",
       "      <td>8ZhO7ixP3HRtrry5ygfYFQ</td>\n",
       "      <td>16</td>\n",
       "    </tr>\n",
       "    <tr>\n",
       "      <th>1403</th>\n",
       "      <td>1403</td>\n",
       "      <td>nM2Jl9GS7IGlluey8ieivg</td>\n",
       "      <td>0</td>\n",
       "      <td>2016-08-20</td>\n",
       "      <td>0</td>\n",
       "      <td>PlXSkOqL03_zIMODPpYb0Q</td>\n",
       "      <td>1</td>\n",
       "      <td>Their salads suck! Mushy apples - overload of ...</td>\n",
       "      <td>0</td>\n",
       "      <td>pnLFy7olymhwmXqRaDXzpg</td>\n",
       "      <td>16</td>\n",
       "    </tr>\n",
       "    <tr>\n",
       "      <th>1424</th>\n",
       "      <td>1424</td>\n",
       "      <td>nM2Jl9GS7IGlluey8ieivg</td>\n",
       "      <td>0</td>\n",
       "      <td>2014-05-02</td>\n",
       "      <td>1</td>\n",
       "      <td>5PGrMCNSDQO_bIuyWInnuw</td>\n",
       "      <td>3</td>\n",
       "      <td>Highlights/lowlights \\n\\n1) lots of gluten fre...</td>\n",
       "      <td>0</td>\n",
       "      <td>Q1IENmNc6bdDruACmhy4mg</td>\n",
       "      <td>16</td>\n",
       "    </tr>\n",
       "    <tr>\n",
       "      <th>2076</th>\n",
       "      <td>2076</td>\n",
       "      <td>sU1sSEOHvd4ex72miOKMEQ</td>\n",
       "      <td>1</td>\n",
       "      <td>2017-12-13</td>\n",
       "      <td>1</td>\n",
       "      <td>5azk8uZnxQNFmnjB5tNing</td>\n",
       "      <td>1</td>\n",
       "      <td>The guy was nice but the sub looked gross and ...</td>\n",
       "      <td>0</td>\n",
       "      <td>TsoR_8KYAvvKzretmQ5Oew</td>\n",
       "      <td>16</td>\n",
       "    </tr>\n",
       "    <tr>\n",
       "      <th>2088</th>\n",
       "      <td>2088</td>\n",
       "      <td>sU1sSEOHvd4ex72miOKMEQ</td>\n",
       "      <td>0</td>\n",
       "      <td>2017-07-24</td>\n",
       "      <td>0</td>\n",
       "      <td>JlPXD8jewIemt2kIXtnKxA</td>\n",
       "      <td>5</td>\n",
       "      <td>I always prefer Blimpies over subway and was o...</td>\n",
       "      <td>0</td>\n",
       "      <td>AhJCWoJ1m2UjPrVc1D5Ejg</td>\n",
       "      <td>16</td>\n",
       "    </tr>\n",
       "  </tbody>\n",
       "</table>\n",
       "</div>"
      ],
      "text/plain": [
       "      Unnamed: 0             business_id  cool        date  funny  \\\n",
       "197          197  pF7994Vz1kuReP9f-4HOng     0  2018-06-22      0   \n",
       "342          342  8PNXDkWz3hyZFi7E4tYhjw     0  2014-01-01      0   \n",
       "486          486  91FlIjn-FabJYjJ819gwbQ     0  2016-08-11      0   \n",
       "603          603  91FlIjn-FabJYjJ819gwbQ     0  2016-06-21      0   \n",
       "915          915  L23qeWacyCZFjF9DL6o04w     0  2014-08-28      0   \n",
       "1333        1333  mjeolbU52n--a9Lg4ygg6w     0  2016-07-22      0   \n",
       "1403        1403  nM2Jl9GS7IGlluey8ieivg     0  2016-08-20      0   \n",
       "1424        1424  nM2Jl9GS7IGlluey8ieivg     0  2014-05-02      1   \n",
       "2076        2076  sU1sSEOHvd4ex72miOKMEQ     1  2017-12-13      1   \n",
       "2088        2088  sU1sSEOHvd4ex72miOKMEQ     0  2017-07-24      0   \n",
       "\n",
       "                   review_id  stars  \\\n",
       "197   lThZp4FI5OQzP9-dOS91gA      1   \n",
       "342   kLqxpSamRULkkSoYKDcsXA      5   \n",
       "486   jlMbmYqicSiUluI6_OStDg      5   \n",
       "603   xPfYShts-TSVlsRQn51LOw      5   \n",
       "915   hRlBNL7L1cpxkDzveGjlkA      1   \n",
       "1333  dngdvsy3kLXJXU9uTnhnSg      3   \n",
       "1403  PlXSkOqL03_zIMODPpYb0Q      1   \n",
       "1424  5PGrMCNSDQO_bIuyWInnuw      3   \n",
       "2076  5azk8uZnxQNFmnjB5tNing      1   \n",
       "2088  JlPXD8jewIemt2kIXtnKxA      5   \n",
       "\n",
       "                                                   text  useful  \\\n",
       "197   Gross!! I came here to have lunch but I'm tota...       0   \n",
       "342   Really exceptional food, nice menu, quality in...       0   \n",
       "486   Solid breakfast / lunch spot with every bevera...       0   \n",
       "603   10 minutes walk to the convention center.  I w...       0   \n",
       "915   Awful,dried out, rubbery.  Tried this as smart...       0   \n",
       "1333  A normal and clean sub shop. I tried Engineer ...       0   \n",
       "1403  Their salads suck! Mushy apples - overload of ...       0   \n",
       "1424  Highlights/lowlights \\n\\n1) lots of gluten fre...       0   \n",
       "2076  The guy was nice but the sub looked gross and ...       0   \n",
       "2088  I always prefer Blimpies over subway and was o...       0   \n",
       "\n",
       "                     user_id  category  \n",
       "197   rTIVsxvTEm5b94C2th5xQQ        16  \n",
       "342   wNs8Pu7Ia-_2Q-7J-WlEWQ        16  \n",
       "486   doXxdj4RJhk04-xxm5J1kw        16  \n",
       "603   SXeMGP5lNgc03z7cl9Xihg        16  \n",
       "915   QjmhwWSEhIZzG7CETkLw6g        16  \n",
       "1333  8ZhO7ixP3HRtrry5ygfYFQ        16  \n",
       "1403  pnLFy7olymhwmXqRaDXzpg        16  \n",
       "1424  Q1IENmNc6bdDruACmhy4mg        16  \n",
       "2076  TsoR_8KYAvvKzretmQ5Oew        16  \n",
       "2088  AhJCWoJ1m2UjPrVc1D5Ejg        16  "
      ]
     },
     "execution_count": 35,
     "metadata": {},
     "output_type": "execute_result"
    }
   ],
   "source": [
    "df16.head(10)"
   ]
  },
  {
   "cell_type": "code",
   "execution_count": 31,
   "metadata": {},
   "outputs": [],
   "source": [
    "similar_restaurant = list(enumerate(similarity[197]))"
   ]
  },
  {
   "cell_type": "code",
   "execution_count": 32,
   "metadata": {},
   "outputs": [
    {
     "data": {
      "text/plain": [
       "[(0, 0.0),\n",
       " (1, 0.04212627318711346),\n",
       " (2, 0.04662524041201569),\n",
       " (3, 0.07944407119985641),\n",
       " (4, 0.0)]"
      ]
     },
     "execution_count": 32,
     "metadata": {},
     "output_type": "execute_result"
    }
   ],
   "source": [
    "similar_restaurant[:5]"
   ]
  },
  {
   "cell_type": "code",
   "execution_count": 33,
   "metadata": {},
   "outputs": [],
   "source": [
    "sorted_similar_restaurants = sorted(similar_restaurant, key=lambda x:x[1], reverse=True)"
   ]
  },
  {
   "cell_type": "code",
   "execution_count": 34,
   "metadata": {},
   "outputs": [
    {
     "name": "stdout",
     "output_type": "stream",
     "text": [
      "197\n",
      "200\n",
      "412\n",
      "207\n",
      "198\n",
      "280\n",
      "276\n",
      "349\n",
      "318\n",
      "394\n",
      "251\n"
     ]
    }
   ],
   "source": [
    "i = 0\n",
    "for restaurant in sorted_similar_restaurants:\n",
    "    print(restaurant[0])\n",
    "    i += 1\n",
    "    if i> 10:\n",
    "        break"
   ]
  },
  {
   "cell_type": "code",
   "execution_count": null,
   "metadata": {},
   "outputs": [],
   "source": []
  },
  {
   "cell_type": "code",
   "execution_count": null,
   "metadata": {},
   "outputs": [],
   "source": []
  },
  {
   "cell_type": "code",
   "execution_count": null,
   "metadata": {},
   "outputs": [],
   "source": []
  }
 ],
 "metadata": {
  "kernelspec": {
   "display_name": "Python 3",
   "language": "python",
   "name": "python3"
  },
  "language_info": {
   "codemirror_mode": {
    "name": "ipython",
    "version": 3
   },
   "file_extension": ".py",
   "mimetype": "text/x-python",
   "name": "python",
   "nbconvert_exporter": "python",
   "pygments_lexer": "ipython3",
   "version": "3.6.8"
  }
 },
 "nbformat": 4,
 "nbformat_minor": 2
}
