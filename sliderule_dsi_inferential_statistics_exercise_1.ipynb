{
 "cells": [
  {
   "cell_type": "markdown",
   "metadata": {},
   "source": [
    "# What is the True Normal Human Body Temperature? \n",
    "\n",
    "#### Background\n",
    "\n",
    "The mean normal body temperature was held to be 37$^{\\circ}$C or 98.6$^{\\circ}$F for more than 120 years since it was first conceptualized and reported by Carl Wunderlich in a famous 1868 book. But, is this value statistically correct?"
   ]
  },
  {
   "cell_type": "markdown",
   "metadata": {},
   "source": [
    "<h3>Exercises</h3>\n",
    "\n",
    "<p>In this exercise, you will analyze a dataset of human body temperatures and employ the concepts of hypothesis testing, confidence intervals, and statistical significance.</p>\n",
    "\n",
    "<p>Answer the following questions <b>in this notebook below and submit to your Github account</b>.</p> \n",
    "\n",
    "<ol>\n",
    "<li>  Is the distribution of body temperatures normal? \n",
    "    <ul>\n",
    "    <li> Although this is not a requirement for the Central Limit Theorem to hold (read the introduction on Wikipedia's page about the CLT carefully: https://en.wikipedia.org/wiki/Central_limit_theorem), it gives us some peace of mind that the population may also be normally distributed if we assume that this sample is representative of the population.\n",
    "    <li> Think about the way you're going to check for the normality of the distribution. Graphical methods are usually used first, but there are also other ways: https://en.wikipedia.org/wiki/Normality_test\n",
    "    </ul>\n",
    "<li>  Is the sample size large? Are the observations independent?\n",
    "    <ul>\n",
    "    <li> Remember that this is a condition for the Central Limit Theorem, and hence the statistical tests we are using, to apply.\n",
    "    </ul>\n",
    "<li>  Is the true population mean really 98.6 degrees F?\n",
    "    <ul>\n",
    "    <li> First, try a bootstrap hypothesis test.\n",
    "    <li> Now, let's try frequentist statistical testing. Would you use a one-sample or two-sample test? Why?\n",
    "    <li> In this situation, is it appropriate to use the $t$ or $z$ statistic? \n",
    "    <li> Now try using the other test. How is the result be different? Why?\n",
    "    </ul>\n",
    "<li>  Draw a small sample of size 10 from the data and repeat both frequentist tests. \n",
    "    <ul>\n",
    "    <li> Which one is the correct one to use? \n",
    "    <li> What do you notice? What does this tell you about the difference in application of the $t$ and $z$ statistic?\n",
    "    </ul>\n",
    "<li>  At what temperature should we consider someone's temperature to be \"abnormal\"?\n",
    "    <ul>\n",
    "    <li> As in the previous example, try calculating everything using the boostrap approach, as well as the frequentist approach.\n",
    "    <li> Start by computing the margin of error and confidence interval. When calculating the confidence interval, keep in mind that you should use the appropriate formula for one draw, and not N draws.\n",
    "    </ul>\n",
    "<li>  Is there a significant difference between males and females in normal temperature?\n",
    "    <ul>\n",
    "    <li> What testing approach did you use and why?\n",
    "    <li> Write a story with your conclusion in the context of the original problem.\n",
    "    </ul>\n",
    "</ol>\n",
    "\n",
    "You can include written notes in notebook cells using Markdown: \n",
    "   - In the control panel at the top, choose Cell > Cell Type > Markdown\n",
    "   - Markdown syntax: http://nestacms.com/docs/creating-content/markdown-cheat-sheet\n",
    "\n",
    "#### Resources\n",
    "\n",
    "+ Information and data sources: http://www.amstat.org/publications/jse/datasets/normtemp.txt, http://www.amstat.org/publications/jse/jse_data_archive.htm\n",
    "+ Markdown syntax: http://nestacms.com/docs/creating-content/markdown-cheat-sheet\n",
    "\n",
    "****"
   ]
  },
  {
   "cell_type": "code",
   "execution_count": 2,
   "metadata": {},
   "outputs": [],
   "source": [
    "import pandas as pd\n",
    "\n",
    "df = pd.read_csv('data/human_body_temperature.csv')"
   ]
  },
  {
   "cell_type": "code",
   "execution_count": 3,
   "metadata": {},
   "outputs": [
    {
     "data": {
      "text/html": [
       "<div>\n",
       "<style scoped>\n",
       "    .dataframe tbody tr th:only-of-type {\n",
       "        vertical-align: middle;\n",
       "    }\n",
       "\n",
       "    .dataframe tbody tr th {\n",
       "        vertical-align: top;\n",
       "    }\n",
       "\n",
       "    .dataframe thead th {\n",
       "        text-align: right;\n",
       "    }\n",
       "</style>\n",
       "<table border=\"1\" class=\"dataframe\">\n",
       "  <thead>\n",
       "    <tr style=\"text-align: right;\">\n",
       "      <th></th>\n",
       "      <th>temperature</th>\n",
       "      <th>gender</th>\n",
       "      <th>heart_rate</th>\n",
       "    </tr>\n",
       "  </thead>\n",
       "  <tbody>\n",
       "    <tr>\n",
       "      <th>0</th>\n",
       "      <td>99.3</td>\n",
       "      <td>F</td>\n",
       "      <td>68.0</td>\n",
       "    </tr>\n",
       "    <tr>\n",
       "      <th>1</th>\n",
       "      <td>98.4</td>\n",
       "      <td>F</td>\n",
       "      <td>81.0</td>\n",
       "    </tr>\n",
       "    <tr>\n",
       "      <th>2</th>\n",
       "      <td>97.8</td>\n",
       "      <td>M</td>\n",
       "      <td>73.0</td>\n",
       "    </tr>\n",
       "    <tr>\n",
       "      <th>3</th>\n",
       "      <td>99.2</td>\n",
       "      <td>F</td>\n",
       "      <td>66.0</td>\n",
       "    </tr>\n",
       "    <tr>\n",
       "      <th>4</th>\n",
       "      <td>98.0</td>\n",
       "      <td>F</td>\n",
       "      <td>73.0</td>\n",
       "    </tr>\n",
       "  </tbody>\n",
       "</table>\n",
       "</div>"
      ],
      "text/plain": [
       "   temperature gender  heart_rate\n",
       "0         99.3      F        68.0\n",
       "1         98.4      F        81.0\n",
       "2         97.8      M        73.0\n",
       "3         99.2      F        66.0\n",
       "4         98.0      F        73.0"
      ]
     },
     "execution_count": 3,
     "metadata": {},
     "output_type": "execute_result"
    }
   ],
   "source": [
    "df.head()"
   ]
  },
  {
   "cell_type": "markdown",
   "metadata": {},
   "source": [
    "## 1. Is the distribution of body temperatures normal?\n",
    "Although this is not a requirement for the Central Limit Theorem to hold (read the introduction on Wikipedia's page about the CLT carefully: https://en.wikipedia.org/wiki/Central_limit_theorem), it gives us some peace of mind that the population may also be normally distributed if we assume that this sample is representative of the population.\n",
    "Think about the way you're going to check for the normality of the distribution. Graphical methods are usually used first, but there are also other ways: https://en.wikipedia.org/wiki/Normality_test"
   ]
  },
  {
   "cell_type": "code",
   "execution_count": 4,
   "metadata": {},
   "outputs": [],
   "source": [
    "import matplotlib.pyplot as plt"
   ]
  },
  {
   "cell_type": "code",
   "execution_count": 5,
   "metadata": {},
   "outputs": [
    {
     "data": {
      "text/plain": [
       "(array([ 4.,  6., 15., 26., 30., 30., 15.,  1.,  2.,  1.]),\n",
       " array([ 96.3 ,  96.75,  97.2 ,  97.65,  98.1 ,  98.55,  99.  ,  99.45,\n",
       "         99.9 , 100.35, 100.8 ]),\n",
       " <a list of 1 Patch objects>)"
      ]
     },
     "execution_count": 5,
     "metadata": {},
     "output_type": "execute_result"
    },
    {
     "data": {
      "image/png": "[encoded data removed]",
      "text/plain": [
       "<matplotlib.figure.Figure at 0x107b3f0b8>"
      ]
     },
     "metadata": {},
     "output_type": "display_data"
    }
   ],
   "source": [
    "# Make a histogram of the temperature data\n",
    "plt.hist(df['temperature'], bins=10, histtype='step')"
   ]
  },
  {
   "cell_type": "markdown",
   "metadata": {},
   "source": [
    "A histogram of the temperature data can show if the distribution looks like a normal distribution. The temperature data here has a peak but the tails are not perfectly symmetric."
   ]
  },
  {
   "cell_type": "code",
   "execution_count": 6,
   "metadata": {},
   "outputs": [],
   "source": [
    "import numpy as np\n",
    "import seaborn as sns"
   ]
  },
  {
   "cell_type": "code",
   "execution_count": 7,
   "metadata": {},
   "outputs": [],
   "source": [
    "sample_mean = np.mean(df['temperature'])\n",
    "sample_std = np.std(df['temperature'])"
   ]
  },
  {
   "cell_type": "code",
   "execution_count": 8,
   "metadata": {},
   "outputs": [],
   "source": [
    "samples = np.random.normal(sample_mean, sample_std, size=1000)"
   ]
  },
  {
   "cell_type": "code",
   "execution_count": 9,
   "metadata": {},
   "outputs": [],
   "source": [
    "def ecdf(data):\n",
    "    \"\"\"Compute ECDF for a one-dimensional array of measurements.\"\"\"\n",
    "    # Number of data points: n\n",
    "    n = len(data)\n",
    "    # x-data for the ECDF: x\n",
    "    x = np.sort(data)\n",
    "    # y-data for the ECDF: y\n",
    "    y = np.arange(1, n+1) / n\n",
    "\n",
    "    return x, y"
   ]
  },
  {
   "cell_type": "code",
   "execution_count": 10,
   "metadata": {},
   "outputs": [],
   "source": [
    "x, y = ecdf(df['temperature']) \n",
    "x_theor, y_theor = ecdf(samples) "
   ]
  },
  {
   "cell_type": "code",
   "execution_count": 11,
   "metadata": {},
   "outputs": [
    {
     "data": {
      "image/png": "[encoded data removed]",
      "text/plain": [
       "<matplotlib.figure.Figure at 0x1a11af7d68>"
      ]
     },
     "metadata": {},
     "output_type": "display_data"
    }
   ],
   "source": [
    "sns.set()\n",
    "plt.plot(x_theor, y_theor)\n",
    "plt.plot(x, y, marker='.', linestyle='none')\n",
    "plt.xlabel('temperature')\n",
    "plt.ylabel('CDF')\n",
    "plt.show()"
   ]
  },
  {
   "cell_type": "markdown",
   "metadata": {},
   "source": [
    "The theoretical CDF and the ECDF of the data suggest that the body temperatures are, indeed, Normally distributed. "
   ]
  },
  {
   "cell_type": "markdown",
   "metadata": {},
   "source": [
    "## 2. Is the sample size large? Are the observations independent?\n",
    "Remember that this is a condition for the Central Limit Theorem, and hence the statistical tests we are using, to apply."
   ]
  },
  {
   "cell_type": "code",
   "execution_count": 12,
   "metadata": {},
   "outputs": [
    {
     "data": {
      "text/plain": [
       "130"
      ]
     },
     "execution_count": 12,
     "metadata": {},
     "output_type": "execute_result"
    }
   ],
   "source": [
    "len(df['temperature'])"
   ]
  },
  {
   "cell_type": "markdown",
   "metadata": {},
   "source": [
    "The Central Limit Theorem states that the sampling distribution of the sample means approaches a normal distribution as the sample size gets larger — no matter what the shape of the population distribution. This fact holds especially true for sample sizes over 30. The sample size is 130 here, large enough for the CLT to apply. \n"
   ]
  },
  {
   "cell_type": "markdown",
   "metadata": {},
   "source": [
    "The observations are independent because the occurance of one event, the body temperature of one person, has no influence on the body temperature of the next event, that is the body temperature of the next person."
   ]
  },
  {
   "cell_type": "markdown",
   "metadata": {},
   "source": [
    "## 3. Is the true population mean really 98.6 degrees F?\n",
    "First, try a bootstrap hypothesis test.\n",
    "Now, let's try frequentist statistical testing. Would you use a one-sample or two-sample test? Why?\n",
    "In this situation, is it appropriate to use the  tt  or  zz  statistic?\n",
    "Now try using the other test. How is the result be different? Why?"
   ]
  },
  {
   "cell_type": "code",
   "execution_count": 13,
   "metadata": {},
   "outputs": [
    {
     "name": "stdout",
     "output_type": "stream",
     "text": [
      "p-value is  0.0\n"
     ]
    }
   ],
   "source": [
    "# Bootstrap Test:\n",
    "# Translate all of the data such that the mean is 98.6 degrees F by adding the new mean 98.6 and subtracting the mean \n",
    "# of the original data set.\n",
    "# Set the significance level alpha = 0.05\n",
    "temp = np.array(df['temperature'])\n",
    "temp_mean = np.mean(temp)\n",
    "empirical = 98.6\n",
    "new_sample = temp + empirical - temp_mean\n",
    "\n",
    "bs_mean = np.empty(10000)\n",
    "for i in range(10000): \n",
    "    bs_sample = np.random.choice(new_sample, size=len(temp))\n",
    "    bs_mean[i] = np.mean(bs_sample)\n",
    "    \n",
    "p = np.sum(bs_mean <= temp_mean) / 10000\n",
    "print('p-value is ', p)"
   ]
  },
  {
   "cell_type": "markdown",
   "metadata": {},
   "source": [
    "#### So the bootstrap hypothesis test with a low p-value suggests that the null hypothesis \"the true mean of this body temperature sample is 98.6\" is false."
   ]
  },
  {
   "cell_type": "markdown",
   "metadata": {},
   "source": [
    "I will use a one-sample test to test the hypothesis if the true mean of this body temperature sample is really 98.6 degrees F. Because we don't have a distribution of the population and we are comparing a sample mean to another number. \n",
    "In this situation, it is appropriate to use the t statistic, because we don't know the standard deviation of the population. If the population standard deviation is known, it is more appropriate to use z statistic also because the sample size is bigger than 30. \n"
   ]
  },
  {
   "cell_type": "code",
   "execution_count": 14,
   "metadata": {},
   "outputs": [
    {
     "name": "stdout",
     "output_type": "stream",
     "text": [
      "The sample mean is 98.24923076923075\n",
      "The population mean is 98.6\n",
      "The sample deviation is 0.730357778905038\n",
      "The number of observation is 130\n"
     ]
    }
   ],
   "source": [
    "#The sample mean(x̄)\n",
    "print ('The sample mean is', temp_mean)\n",
    "#The population mean(μ) \n",
    "print ('The population mean is', empirical)\n",
    "#The sample standard deviation(s)\n",
    "print ('The sample deviation is', np.std(temp))\n",
    "# Number of observations(n)\n",
    "print ('The number of observation is', len(temp))"
   ]
  },
  {
   "cell_type": "code",
   "execution_count": 15,
   "metadata": {},
   "outputs": [
    {
     "name": "stdout",
     "output_type": "stream",
     "text": [
      "t-statistic is -5.4759252020785585\n"
     ]
    }
   ],
   "source": [
    "#Calculate the t-score by using the formula t=(x̄-μ)/(s/sqrt(n))\n",
    "t = (temp_mean-empirical)/(np.std(temp)/np.sqrt(len(temp)))\n",
    "print ('t-statistic is', t )"
   ]
  },
  {
   "cell_type": "code",
   "execution_count": 16,
   "metadata": {},
   "outputs": [
    {
     "name": "stdout",
     "output_type": "stream",
     "text": [
      "The significance leve is 0.05\n",
      "The degree of freedom is 129\n"
     ]
    }
   ],
   "source": [
    "#The alpha level\n",
    "alpha = 0.05\n",
    "print('The significance leve is', alpha)\n",
    "#The degrees of freedom\n",
    "dof = len(temp) -1\n",
    "print('The degree of freedom is', dof)"
   ]
  },
  {
   "cell_type": "code",
   "execution_count": 17,
   "metadata": {},
   "outputs": [],
   "source": [
    "from scipy import stats"
   ]
  },
  {
   "cell_type": "code",
   "execution_count": 18,
   "metadata": {},
   "outputs": [
    {
     "name": "stdout",
     "output_type": "stream",
     "text": [
      "The p-value is 2.1887464624050777e-07\n"
     ]
    }
   ],
   "source": [
    "#Two sided p-value\n",
    "pval = stats.t.sf(np.abs(t), dof)*2\n",
    "print('The p-value is', pval)"
   ]
  },
  {
   "cell_type": "markdown",
   "metadata": {},
   "source": [
    "#### The p-value so low that is is close to zero, the same as what we got from the bootstrap hypothesis testing. So the conclusion is the same, that the null hypothesis is false."
   ]
  },
  {
   "cell_type": "markdown",
   "metadata": {},
   "source": [
    "### 4. Draw a small sample of size 10 from the data and repeat both frequentist tests.\n",
    "Which one is the correct one to use?\n",
    "\n",
    "What do you notice? What does this tell you about the difference in application of the  tt  and  zz  statistic?"
   ]
  },
  {
   "cell_type": "markdown",
   "metadata": {},
   "source": [
    "#### t-statistic is still the correct one to use, because 1) the sample size is smaller than 30, 2) the population standard deviation is unknown."
   ]
  },
  {
   "cell_type": "code",
   "execution_count": 19,
   "metadata": {},
   "outputs": [],
   "source": [
    "# draw a sample of size 10 from the data\n",
    "sample = np.random.choice(temp, size=10)"
   ]
  },
  {
   "cell_type": "code",
   "execution_count": 20,
   "metadata": {},
   "outputs": [
    {
     "name": "stdout",
     "output_type": "stream",
     "text": [
      "The sample mean is 98.35\n",
      "The population mean is 98.6\n",
      "The sample deviation is 0.5835237784358085\n",
      "The number of observation is 10\n"
     ]
    }
   ],
   "source": [
    "# t-test\n",
    "#The sample mean(x̄)\n",
    "mean = np.mean(sample)\n",
    "print ('The sample mean is', mean)\n",
    "#The population mean(μ) \n",
    "print ('The population mean is', empirical)\n",
    "#The sample standard deviation(s)\n",
    "std = np.std(sample)\n",
    "print ('The sample deviation is', np.std(sample))\n",
    "# Number of observations(n)\n",
    "n = 10\n",
    "print ('The number of observation is', n)"
   ]
  },
  {
   "cell_type": "code",
   "execution_count": 21,
   "metadata": {},
   "outputs": [
    {
     "name": "stdout",
     "output_type": "stream",
     "text": [
      "t-statistic is -1.3548195365085072\n",
      "The significance leve is 0.05\n",
      "The degree of freedom is 9\n",
      "The p-value for the t-test is 0.20850317202859425\n"
     ]
    }
   ],
   "source": [
    "#Calculate the t-score by using the formula t=(x̄-μ)/(s/sqrt(n))\n",
    "tt = (mean-empirical)/(std/np.sqrt(n))\n",
    "print ('t-statistic is', tt )\n",
    "#The alpha level\n",
    "alpha1 = 0.05\n",
    "print('The significance leve is', alpha1)\n",
    "#The degrees of freedom\n",
    "dof1 = n -1\n",
    "print('The degree of freedom is', dof1)\n",
    "#Two sided p-value\n",
    "pval1 = stats.t.sf(np.abs(tt), dof1)*2\n",
    "print('The p-value for the t-test is', pval1)"
   ]
  },
  {
   "cell_type": "code",
   "execution_count": 22,
   "metadata": {},
   "outputs": [
    {
     "name": "stdout",
     "output_type": "stream",
     "text": [
      "z-statistic is -0.34229799041067693\n"
     ]
    }
   ],
   "source": [
    "# z-test  z = (X-μ)/σ, since population standard deviation is unknown, the original sample standard deviation is used.\n",
    "zz = (mean-empirical)/np.std(temp)\n",
    "print('z-statistic is', zz)"
   ]
  },
  {
   "cell_type": "code",
   "execution_count": 23,
   "metadata": {},
   "outputs": [
    {
     "name": "stdout",
     "output_type": "stream",
     "text": [
      "The p-value for the z-test is 0.7321266477566113\n"
     ]
    }
   ],
   "source": [
    "pval2 = stats.norm.sf(abs(zz))*2\n",
    "print('The p-value for the z-test is', pval2)"
   ]
  },
  {
   "cell_type": "markdown",
   "metadata": {},
   "source": [
    "#### The high p-values for both tests suggest that this sample of size 10 does not have a significant different mean from the population mean. Compared to the results for the larger sample hypothesis test, the higher p-value for the z-statistic suggests that the z-test is a worse method to test the hypothesis. "
   ]
  },
  {
   "cell_type": "markdown",
   "metadata": {},
   "source": [
    "### 5. At what temperature should we consider someone's temperature to be \"abnormal\"?\n",
    "As in the previous example, try calculating everything using the boostrap approach, as well as the frequentist approach.\n",
    "\n",
    "Start by computing the margin of error and confidence interval. When calculating the confidence interval, keep in mind that you should use the appropriate formula for one draw, and not N draws."
   ]
  },
  {
   "cell_type": "code",
   "execution_count": 24,
   "metadata": {},
   "outputs": [],
   "source": [
    "# Use the bootstrap approach\n",
    "\n",
    "bs_sample1 = np.empty(10000)\n",
    "for i in range(10000):\n",
    "    bs_sample1[i] = np.mean(np.random.choice(temp, size=len(temp)))"
   ]
  },
  {
   "cell_type": "code",
   "execution_count": 25,
   "metadata": {},
   "outputs": [
    {
     "name": "stdout",
     "output_type": "stream",
     "text": [
      "The 95% confidence interval is [98.12307692 98.37692308]\n"
     ]
    }
   ],
   "source": [
    "# Compute the 95% confidence interval: conf_int\n",
    "conf_int = np.percentile(bs_sample1, [2.5, 97.5])\n",
    "print('The 95% confidence interval is', conf_int)"
   ]
  },
  {
   "cell_type": "markdown",
   "metadata": {},
   "source": [
    "Since the bootstrap distribution is approximately Normal (see question 2), 95% of the bootstrap statistics are within 2 SE of the boostrap center (i.e., original sample stat.). So the margin of error shoule be (98.37-98.12)/2 = 0.13. The temperature that is outside of this range is considered \"abnormal\"."
   ]
  },
  {
   "cell_type": "code",
   "execution_count": 26,
   "metadata": {},
   "outputs": [
    {
     "name": "stdout",
     "output_type": "stream",
     "text": [
      "The margin of error is 0.12555096480257902\n",
      "The 95% confidence interval is [ 98.12367980442816 98.37478173403333 ]\n"
     ]
    }
   ],
   "source": [
    "# Use the frequentist approach\n",
    "# For a 95% confidence interval\n",
    "# Calculate the margin of error\n",
    "me = np.abs(1.96 * np.std(temp)/np.sqrt(len(temp)) )\n",
    "print('The margin of error is', me)\n",
    "print('The 95% confidence interval is [', np.mean(temp)-me, np.mean(temp)+me, ']')"
   ]
  },
  {
   "cell_type": "markdown",
   "metadata": {},
   "source": [
    "#### The 95% confidence interval using the bootstraping and frequentist approach are the same. "
   ]
  },
  {
   "cell_type": "markdown",
   "metadata": {},
   "source": [
    "### 6. Is there a significant difference between males and females in normal temperature?\n",
    "What testing approach did you use and why?\n",
    "\n",
    "Write a story with your conclusion in the context of the original problem."
   ]
  },
  {
   "cell_type": "markdown",
   "metadata": {},
   "source": [
    "I am going to use the bootstrap resampling to test the hypothesis that that this no significant difference between males and females in normal temperature."
   ]
  },
  {
   "cell_type": "code",
   "execution_count": 28,
   "metadata": {},
   "outputs": [],
   "source": [
    "male = np.array(df[df['gender'] == 'M']['temperature'])\n",
    "female = np.array(df[df['gender'] == 'F']['temperature'])"
   ]
  },
  {
   "cell_type": "code",
   "execution_count": 29,
   "metadata": {},
   "outputs": [
    {
     "name": "stdout",
     "output_type": "stream",
     "text": [
      "The average male body temperature in this sample is 98.10461538461537\n",
      "The average female body temperature in this sample is 98.39384615384614\n"
     ]
    }
   ],
   "source": [
    "print('The average male body temperature in this sample is', np.mean(male))\n",
    "print('The average female body temperature in this sample is',np.mean(female))"
   ]
  },
  {
   "cell_type": "code",
   "execution_count": 37,
   "metadata": {},
   "outputs": [
    {
     "name": "stdout",
     "output_type": "stream",
     "text": [
      "p-value = 0.007\n"
     ]
    }
   ],
   "source": [
    "# Bootstrap resampling method\n",
    "# Compute mean of all data: temp_mean\n",
    "\n",
    "# Generate shifted arrays, assuming there is no difference between male and female.\n",
    "male_shifted = male - np.mean(male) + temp_mean\n",
    "female_shifted = female - np.mean(female) + temp_mean\n",
    "\n",
    "# Compute 1,000 bootstrap replicates from shifted arrays\n",
    "bs_mean_m = np.empty(1000)\n",
    "bs_mean_f = np.empty(1000)\n",
    "for i in range(1000): \n",
    "    bs_sample_m = np.random.choice(male_shifted, size=len(male))\n",
    "    bs_sample_f = np.random.choice(female_shifted, size=len(female))\n",
    "    bs_mean_m[i] = np.mean(bs_sample_m)\n",
    "    bs_mean_f[i] = np.mean(bs_sample_f)\n",
    "\n",
    "# Get replicates of difference of means: bs_replicates\n",
    "bs_diff = bs_mean_f - bs_mean_m\n",
    "\n",
    "# Compute and print p-value: p\n",
    "p = np.sum(bs_diff>(np.mean(female)-np.mean(male)))/ len(bs_diff)\n",
    "print('p-value =', p)"
   ]
  },
  {
   "cell_type": "markdown",
   "metadata": {},
   "source": [
    "#### The bootstrap resampling approach suggest the null hypothesis is false and there is significant difference between male and female in body temperature."
   ]
  },
  {
   "cell_type": "code",
   "execution_count": null,
   "metadata": {},
   "outputs": [],
   "source": []
  },
  {
   "cell_type": "code",
   "execution_count": null,
   "metadata": {},
   "outputs": [],
   "source": []
  }
 ],
 "metadata": {
  "kernelspec": {
   "display_name": "Python 3",
   "language": "python",
   "name": "python3"
  },
  "language_info": {
   "codemirror_mode": {
    "name": "ipython",
    "version": 3
   },
   "file_extension": ".py",
   "mimetype": "text/x-python",
   "name": "python",
   "nbconvert_exporter": "python",
   "pygments_lexer": "ipython3",
   "version": "3.6.4"
  }
 },
 "nbformat": 4,
 "nbformat_minor": 1
}
