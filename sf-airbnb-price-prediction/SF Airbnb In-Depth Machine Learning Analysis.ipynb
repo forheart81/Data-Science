{
 "cells": [
  {
   "cell_type": "markdown",
   "metadata": {},
   "source": [
    "# San Francisco Airbnb Price Prediction Using Supervised Learning Algorithms"
   ]
  },
  {
   "cell_type": "markdown",
   "metadata": {},
   "source": [
    "## The data analysis below uses Airbnb data of San Francisco in March 2018"
   ]
  },
  {
   "cell_type": "code",
   "execution_count": 1,
   "metadata": {},
   "outputs": [],
   "source": [
    "#Import packages\n",
    "\n",
    "import pandas as pd\n",
    "import matplotlib.pyplot as plt\n",
    "import numpy as np\n",
    "import seaborn as sns"
   ]
  },
  {
   "cell_type": "code",
   "execution_count": 76,
   "metadata": {},
   "outputs": [],
   "source": [
    "#Read SF listings from March 2018 csv file to a Pandas DataFrame\n",
    "\n",
    "url_listing = '/Users/forheart/Dropbox/Data Scientist/Capstone Project 1/2018_march_listings.csv.gz'\n",
    "df = pd.read_csv(url_listing, sep=',')\n",
    "pd.set_option('display.max_columns', None)"
   ]
  },
  {
   "cell_type": "markdown",
   "metadata": {},
   "source": [
    "## Data Preprocessing"
   ]
  },
  {
   "cell_type": "code",
   "execution_count": 3,
   "metadata": {},
   "outputs": [],
   "source": [
    "# Drop non-relevant, redundant, empty or not useful columns\n",
    "df = df.drop(columns=['id', 'listing_url', 'scrape_id', 'last_scraped', 'experiences_offered', 'thumbnail_url', 'medium_url', 'picture_url', \n",
    "'xl_picture_url', 'host_url', 'host_name', 'host_location', 'host_acceptance_rate', 'host_thumbnail_url', 'host_picture_url', 'host_since',\n",
    "'host_neighbourhood', 'host_total_listings_count', 'host_verifications', 'street', 'neighbourhood', 'weekly_price', 'monthly_price', 'square_feet',\n",
    "'neighbourhood_group_cleansed', 'city', 'state', 'zipcode', 'market', 'smart_location', 'country_code', 'country', 'latitude', 'host_response_time', \n",
    "'longitude', 'calendar_last_scraped', 'jurisdiction_names', 'has_availability', 'first_review', 'last_review', 'license', 'host_id', 'calendar_updated',])"
   ]
  },
  {
   "cell_type": "markdown",
   "metadata": {},
   "source": [
    "Some of these columns were dropped due to the information is not related to price prediction, for example, 'id', 'listing_url', 'last_scraped', 'medium_url', 'picture_url', 'host_neighbourhood', 'license',  etc.\n",
    "Some of these columns were dropped because there is no content in these columns except NaN, for example, 'host_acceptance_rate', 'experiences_offered', etc.\n",
    "Some of these columns provide redundant information, for example, 'zipcode', 'country_code', 'country', 'state' can all be reflected in the 'neighbourhood'."
   ]
  },
  {
   "cell_type": "code",
   "execution_count": 4,
   "metadata": {},
   "outputs": [
    {
     "name": "stdout",
     "output_type": "stream",
     "text": [
      "host_is_superhost                   category\n",
      "host_has_profile_pic                category\n",
      "host_identity_verified              category\n",
      "is_location_exact                   category\n",
      "property_type                       category\n",
      "room_type                           category\n",
      "bed_type                            category\n",
      "requires_license                    category\n",
      "instant_bookable                    category\n",
      "is_business_travel_ready            category\n",
      "cancellation_policy                 category\n",
      "require_guest_profile_picture       category\n",
      "require_guest_phone_verification    category\n",
      "neighbourhood_cleansed              category\n",
      "dtype: object\n"
     ]
    }
   ],
   "source": [
    "# Create a list of column names for columns that can be categorical\n",
    "Category = ['host_is_superhost', 'host_has_profile_pic', 'host_identity_verified', 'is_location_exact', 'property_type', 'room_type',\n",
    "          'bed_type', 'requires_license', 'instant_bookable', 'is_business_travel_ready', 'cancellation_policy', \n",
    "          'require_guest_profile_picture', 'require_guest_phone_verification', 'neighbourhood_cleansed']\n",
    "\n",
    "# Define the lambda function: categorize\n",
    "categorize= lambda x: x.astype('category')\n",
    "\n",
    "# Convert df[Category] to a categorical type\n",
    "df[Category] = df[Category].apply(categorize, axis=0)\n",
    "\n",
    "# Check the converted dtypes\n",
    "print(df[Category].dtypes)"
   ]
  },
  {
   "cell_type": "code",
   "execution_count": 5,
   "metadata": {},
   "outputs": [],
   "source": [
    "# Create a list of column names for columns that are binary categorical\n",
    "binary_cat = ['host_is_superhost', 'host_has_profile_pic', 'host_identity_verified', 'is_location_exact', 'requires_license', \n",
    "              'instant_bookable', 'is_business_travel_ready', 'require_guest_profile_picture', 'require_guest_phone_verification']\n",
    "\n",
    "# Change the entries of \"t\" (\"true\") or \"f\" (\"faulse\") to 1 and 0 in binary categorical columns\n",
    "for column in binary_cat:\n",
    "    df[column] = df[column].map({'t': 1, 'f': 0})\n",
    "\n",
    "# Change the bed_type colume to binary categorical column too\n",
    "df['bed_type'] = df['bed_type'].eq('Real Bed').mul(1)"
   ]
  },
  {
   "cell_type": "code",
   "execution_count": 6,
   "metadata": {},
   "outputs": [
    {
     "data": {
      "text/plain": [
       "Index(['name', 'summary', 'space', 'description', 'neighborhood_overview',\n",
       "       'notes', 'transit', 'access', 'interaction', 'house_rules',\n",
       "       'host_about', 'host_response_rate', 'amenities', 'price',\n",
       "       'security_deposit', 'cleaning_fee', 'extra_people'],\n",
       "      dtype='object')"
      ]
     },
     "execution_count": 6,
     "metadata": {},
     "output_type": "execute_result"
    }
   ],
   "source": [
    "# Create only numeric columns right now. This will include the categorical columns since they can be converted later to numericals.\n",
    "numerics = ['int64', 'float64', 'category']\n",
    "df_num = df.select_dtypes(include=numerics)\n",
    "df_others = df.select_dtypes(exclude=numerics)\n",
    "df_others.columns"
   ]
  },
  {
   "cell_type": "code",
   "execution_count": 7,
   "metadata": {},
   "outputs": [],
   "source": [
    "# We can see that in the \"object\" dtype columns, there are still many numerical columns that were stored as strings. \n",
    "# So convert these columns to numerical columns as well.\n",
    "\n",
    "# Create a list of column names for columns to be converted from strings to numbers\n",
    "\n",
    "strtonum = ['price', 'security_deposit', 'cleaning_fee','extra_people']\n",
    "\n",
    "for column in strtonum:\n",
    "    df[column] = df[column].str.replace('$', '')\n",
    "    df[column] = df[column].str.replace(',', '')\n",
    "    df[column] = df[column].astype(float)\n",
    "\n",
    "df['host_response_rate'] = df['host_response_rate'].str.strip('%').astype('float')/100\n",
    "\n",
    "# Update the numeric and text dataframe.\n",
    "df_num = df.select_dtypes(include=numerics)\n",
    "df_others = df.select_dtypes(exclude=numerics)\n",
    "\n",
    "# Take a look at the df_others again, they are all text data, save the names of these text columns for later use.\n",
    "TEXT = ['name', 'summary', 'space', 'description', 'neighborhood_overview', 'notes', 'transit', 'access', \n",
    "        'interaction', 'house_rules', 'host_about', 'amenities']"
   ]
  },
  {
   "cell_type": "code",
   "execution_count": 8,
   "metadata": {},
   "outputs": [
    {
     "data": {
      "text/plain": [
       "host_response_rate                   394\n",
       "host_is_superhost                     28\n",
       "host_listings_count                   28\n",
       "host_has_profile_pic                  28\n",
       "host_identity_verified                28\n",
       "neighbourhood_cleansed                 0\n",
       "is_location_exact                      0\n",
       "property_type                          0\n",
       "room_type                              0\n",
       "accommodates                           0\n",
       "bathrooms                             23\n",
       "bedrooms                               0\n",
       "beds                                   6\n",
       "bed_type                               0\n",
       "price                                  0\n",
       "security_deposit                    1129\n",
       "cleaning_fee                         477\n",
       "guests_included                        0\n",
       "extra_people                           0\n",
       "minimum_nights                         0\n",
       "maximum_nights                         0\n",
       "availability_30                        0\n",
       "availability_60                        0\n",
       "availability_90                        0\n",
       "availability_365                       0\n",
       "number_of_reviews                      0\n",
       "review_scores_rating                 434\n",
       "review_scores_accuracy               435\n",
       "review_scores_cleanliness            434\n",
       "review_scores_checkin                436\n",
       "review_scores_communication          435\n",
       "review_scores_location               436\n",
       "review_scores_value                  437\n",
       "requires_license                       0\n",
       "instant_bookable                       0\n",
       "is_business_travel_ready               0\n",
       "cancellation_policy                    0\n",
       "require_guest_profile_picture          0\n",
       "require_guest_phone_verification       0\n",
       "calculated_host_listings_count         0\n",
       "reviews_per_month                    423\n",
       "dtype: int64"
      ]
     },
     "execution_count": 8,
     "metadata": {},
     "output_type": "execute_result"
    }
   ],
   "source": [
    "# Check missing data in each column\n",
    "df_num.isnull().sum()"
   ]
  },
  {
   "cell_type": "code",
   "execution_count": 9,
   "metadata": {
    "scrolled": true
   },
   "outputs": [
    {
     "name": "stderr",
     "output_type": "stream",
     "text": [
      "/Users/forheart/anaconda3/lib/python3.6/site-packages/pandas/core/indexing.py:537: SettingWithCopyWarning: \n",
      "A value is trying to be set on a copy of a slice from a DataFrame.\n",
      "Try using .loc[row_indexer,col_indexer] = value instead\n",
      "\n",
      "See the caveats in the documentation: http://pandas.pydata.org/pandas-docs/stable/indexing.html#indexing-view-versus-copy\n",
      "  self.obj[item] = s\n",
      "/Users/forheart/anaconda3/lib/python3.6/site-packages/pandas/core/frame.py:2540: SettingWithCopyWarning: \n",
      "A value is trying to be set on a copy of a slice from a DataFrame.\n",
      "Try using .loc[row_indexer,col_indexer] = value instead\n",
      "\n",
      "See the caveats in the documentation: http://pandas.pydata.org/pandas-docs/stable/indexing.html#indexing-view-versus-copy\n",
      "  self[k1] = value[k2]\n"
     ]
    }
   ],
   "source": [
    "# There are many missing values in the numerical dataframe. \n",
    "# For numerical columns, we can replace NaN in some columns with 0, some with 1, depending on the variables\n",
    "\n",
    "# Fill the missing values in the host_listings_count column with 1.\n",
    "df_num.loc[:,'host_listings_count'] = df_num['host_listings_count'].fillna(value=1, inplace=False)\n",
    "\n",
    "# Fill the missing values in the rest of columns with 0.\n",
    "fillna_col = ['host_response_rate', 'host_is_superhost', 'host_has_profile_pic', 'host_identity_verified', 'bathrooms', \n",
    "              'security_deposit', 'cleaning_fee', 'reviews_per_month', 'beds', 'review_scores_rating', 'review_scores_accuracy', \n",
    "              'review_scores_cleanliness', 'review_scores_checkin', 'review_scores_checkin', 'review_scores_communication', \n",
    "              'review_scores_location', 'review_scores_value']\n",
    "df_num[fillna_col] = df_num[fillna_col].fillna(value=0, inplace=False)\n",
    "\n",
    "# Now there is non missing values in the df_num dataframe."
   ]
  },
  {
   "cell_type": "code",
   "execution_count": 10,
   "metadata": {},
   "outputs": [
    {
     "data": {
      "text/html": [
       "<div>\n",
       "<style scoped>\n",
       "    .dataframe tbody tr th:only-of-type {\n",
       "        vertical-align: middle;\n",
       "    }\n",
       "\n",
       "    .dataframe tbody tr th {\n",
       "        vertical-align: top;\n",
       "    }\n",
       "\n",
       "    .dataframe thead th {\n",
       "        text-align: right;\n",
       "    }\n",
       "</style>\n",
       "<table border=\"1\" class=\"dataframe\">\n",
       "  <thead>\n",
       "    <tr style=\"text-align: right;\">\n",
       "      <th></th>\n",
       "      <th>neighbourhood</th>\n",
       "      <th>government district</th>\n",
       "      <th>real estate districts</th>\n",
       "    </tr>\n",
       "  </thead>\n",
       "  <tbody>\n",
       "    <tr>\n",
       "      <th>0</th>\n",
       "      <td>Bayview</td>\n",
       "      <td>10</td>\n",
       "      <td>10.0</td>\n",
       "    </tr>\n",
       "    <tr>\n",
       "      <th>1</th>\n",
       "      <td>Bernal Heights</td>\n",
       "      <td>9</td>\n",
       "      <td>9.0</td>\n",
       "    </tr>\n",
       "    <tr>\n",
       "      <th>2</th>\n",
       "      <td>Castro/Upper Market</td>\n",
       "      <td>8</td>\n",
       "      <td>5.0</td>\n",
       "    </tr>\n",
       "    <tr>\n",
       "      <th>3</th>\n",
       "      <td>Chinatown</td>\n",
       "      <td>3</td>\n",
       "      <td>8.0</td>\n",
       "    </tr>\n",
       "    <tr>\n",
       "      <th>4</th>\n",
       "      <td>Crocker Amazon</td>\n",
       "      <td>11</td>\n",
       "      <td>10.0</td>\n",
       "    </tr>\n",
       "  </tbody>\n",
       "</table>\n",
       "</div>"
      ],
      "text/plain": [
       "         neighbourhood  government district  real estate districts\n",
       "0              Bayview                   10                   10.0\n",
       "1       Bernal Heights                    9                    9.0\n",
       "2  Castro/Upper Market                    8                    5.0\n",
       "3            Chinatown                    3                    8.0\n",
       "4       Crocker Amazon                   11                   10.0"
      ]
     },
     "execution_count": 10,
     "metadata": {},
     "output_type": "execute_result"
    }
   ],
   "source": [
    "# Combine some of the neighbourhoods into larger realestate distrcits\n",
    "# Open neighbourhood CSV \n",
    "link = '/Users/forheart/Dropbox/Data Scientist/Capstone Project 1/Districts.csv'\n",
    "df_district = pd.read_csv(link, index_col=False)\n",
    "df_district.head()"
   ]
  },
  {
   "cell_type": "code",
   "execution_count": 11,
   "metadata": {},
   "outputs": [
    {
     "name": "stderr",
     "output_type": "stream",
     "text": [
      "/Users/forheart/anaconda3/lib/python3.6/site-packages/ipykernel_launcher.py:6: SettingWithCopyWarning: \n",
      "A value is trying to be set on a copy of a slice from a DataFrame.\n",
      "Try using .loc[row_indexer,col_indexer] = value instead\n",
      "\n",
      "See the caveats in the documentation: http://pandas.pydata.org/pandas-docs/stable/indexing.html#indexing-view-versus-copy\n",
      "  \n"
     ]
    }
   ],
   "source": [
    "# This dataframe shows what the real estate districts each neighbourhood is in.\n",
    "\n",
    "# There are 11 official government districts, and 10 inofficial real estate districts.\n",
    "df_district = df_district.dropna(axis=0, how='any')\n",
    "df_district['government district'] = df_district['government district'].astype(str)\n",
    "df_num['neighbourhood'] = df_num['neighbourhood_cleansed']\n",
    "df_num = pd.merge(df_district, df_num, on='neighbourhood')\n",
    "\n",
    "# Use only the government districts here, and delete the other neighbourhood or district clumns and rename \n",
    "# the \"government district\" column to simply \"district\", and convert the data type to category\n",
    "df_num = df_num.drop(columns = ['neighbourhood', 'neighbourhood_cleansed', 'real estate districts'])\n",
    "\n",
    "df_num = df_num.rename(columns={'government district':'district'})\n",
    "\n",
    "df_num['district'] = df_num['district'].astype('category')"
   ]
  },
  {
   "cell_type": "code",
   "execution_count": 12,
   "metadata": {},
   "outputs": [
    {
     "data": {
      "text/html": [
       "<div>\n",
       "<style scoped>\n",
       "    .dataframe tbody tr th:only-of-type {\n",
       "        vertical-align: middle;\n",
       "    }\n",
       "\n",
       "    .dataframe tbody tr th {\n",
       "        vertical-align: top;\n",
       "    }\n",
       "\n",
       "    .dataframe thead th {\n",
       "        text-align: right;\n",
       "    }\n",
       "</style>\n",
       "<table border=\"1\" class=\"dataframe\">\n",
       "  <thead>\n",
       "    <tr style=\"text-align: right;\">\n",
       "      <th></th>\n",
       "      <th>host_response_rate</th>\n",
       "      <th>host_is_superhost</th>\n",
       "      <th>host_listings_count</th>\n",
       "      <th>host_has_profile_pic</th>\n",
       "      <th>host_identity_verified</th>\n",
       "      <th>is_location_exact</th>\n",
       "      <th>accommodates</th>\n",
       "      <th>bathrooms</th>\n",
       "      <th>bedrooms</th>\n",
       "      <th>beds</th>\n",
       "      <th>bed_type</th>\n",
       "      <th>price</th>\n",
       "      <th>security_deposit</th>\n",
       "      <th>cleaning_fee</th>\n",
       "      <th>guests_included</th>\n",
       "      <th>extra_people</th>\n",
       "      <th>minimum_nights</th>\n",
       "      <th>maximum_nights</th>\n",
       "      <th>availability_30</th>\n",
       "      <th>availability_60</th>\n",
       "      <th>availability_90</th>\n",
       "      <th>availability_365</th>\n",
       "      <th>number_of_reviews</th>\n",
       "      <th>review_scores_rating</th>\n",
       "      <th>review_scores_accuracy</th>\n",
       "      <th>review_scores_cleanliness</th>\n",
       "      <th>review_scores_checkin</th>\n",
       "      <th>review_scores_communication</th>\n",
       "      <th>review_scores_location</th>\n",
       "      <th>review_scores_value</th>\n",
       "      <th>requires_license</th>\n",
       "      <th>instant_bookable</th>\n",
       "      <th>is_business_travel_ready</th>\n",
       "      <th>require_guest_profile_picture</th>\n",
       "      <th>require_guest_phone_verification</th>\n",
       "      <th>calculated_host_listings_count</th>\n",
       "      <th>reviews_per_month</th>\n",
       "      <th>district_1</th>\n",
       "      <th>district_10</th>\n",
       "      <th>district_11</th>\n",
       "      <th>district_2</th>\n",
       "      <th>district_3</th>\n",
       "      <th>district_4</th>\n",
       "      <th>district_5</th>\n",
       "      <th>district_6</th>\n",
       "      <th>district_7</th>\n",
       "      <th>district_8</th>\n",
       "      <th>district_9</th>\n",
       "      <th>property_type_Aparthotel</th>\n",
       "      <th>property_type_Apartment</th>\n",
       "      <th>property_type_Barn</th>\n",
       "      <th>property_type_Bed and breakfast</th>\n",
       "      <th>property_type_Boat</th>\n",
       "      <th>property_type_Boutique hotel</th>\n",
       "      <th>property_type_Bungalow</th>\n",
       "      <th>property_type_Cabin</th>\n",
       "      <th>property_type_Castle</th>\n",
       "      <th>property_type_Condominium</th>\n",
       "      <th>property_type_Dorm</th>\n",
       "      <th>property_type_Guest suite</th>\n",
       "      <th>property_type_Guesthouse</th>\n",
       "      <th>property_type_Hostel</th>\n",
       "      <th>property_type_Hotel</th>\n",
       "      <th>property_type_House</th>\n",
       "      <th>property_type_In-law</th>\n",
       "      <th>property_type_Loft</th>\n",
       "      <th>property_type_Other</th>\n",
       "      <th>property_type_Resort</th>\n",
       "      <th>property_type_Serviced apartment</th>\n",
       "      <th>property_type_Timeshare</th>\n",
       "      <th>property_type_Tiny house</th>\n",
       "      <th>property_type_Townhouse</th>\n",
       "      <th>property_type_Treehouse</th>\n",
       "      <th>property_type_Vacation home</th>\n",
       "      <th>room_type_Entire home/apt</th>\n",
       "      <th>room_type_Private room</th>\n",
       "      <th>room_type_Shared room</th>\n",
       "      <th>cancellation_policy_flexible</th>\n",
       "      <th>cancellation_policy_moderate</th>\n",
       "      <th>cancellation_policy_strict</th>\n",
       "      <th>cancellation_policy_super_strict_30</th>\n",
       "      <th>cancellation_policy_super_strict_60</th>\n",
       "    </tr>\n",
       "  </thead>\n",
       "  <tbody>\n",
       "    <tr>\n",
       "      <th>0</th>\n",
       "      <td>1.0</td>\n",
       "      <td>0.0</td>\n",
       "      <td>1.0</td>\n",
       "      <td>1.0</td>\n",
       "      <td>0.0</td>\n",
       "      <td>1</td>\n",
       "      <td>4</td>\n",
       "      <td>1.0</td>\n",
       "      <td>2</td>\n",
       "      <td>2.0</td>\n",
       "      <td>1</td>\n",
       "      <td>120.0</td>\n",
       "      <td>300.0</td>\n",
       "      <td>150.0</td>\n",
       "      <td>2</td>\n",
       "      <td>10.0</td>\n",
       "      <td>30</td>\n",
       "      <td>730</td>\n",
       "      <td>3</td>\n",
       "      <td>33</td>\n",
       "      <td>63</td>\n",
       "      <td>338</td>\n",
       "      <td>8</td>\n",
       "      <td>93.0</td>\n",
       "      <td>10.0</td>\n",
       "      <td>9.0</td>\n",
       "      <td>10.0</td>\n",
       "      <td>10.0</td>\n",
       "      <td>9.0</td>\n",
       "      <td>10.0</td>\n",
       "      <td>1</td>\n",
       "      <td>0</td>\n",
       "      <td>0</td>\n",
       "      <td>0</td>\n",
       "      <td>0</td>\n",
       "      <td>1</td>\n",
       "      <td>0.10</td>\n",
       "      <td>0</td>\n",
       "      <td>1</td>\n",
       "      <td>0</td>\n",
       "      <td>0</td>\n",
       "      <td>0</td>\n",
       "      <td>0</td>\n",
       "      <td>0</td>\n",
       "      <td>0</td>\n",
       "      <td>0</td>\n",
       "      <td>0</td>\n",
       "      <td>0</td>\n",
       "      <td>0</td>\n",
       "      <td>0</td>\n",
       "      <td>0</td>\n",
       "      <td>0</td>\n",
       "      <td>0</td>\n",
       "      <td>0</td>\n",
       "      <td>0</td>\n",
       "      <td>0</td>\n",
       "      <td>0</td>\n",
       "      <td>0</td>\n",
       "      <td>0</td>\n",
       "      <td>0</td>\n",
       "      <td>0</td>\n",
       "      <td>0</td>\n",
       "      <td>0</td>\n",
       "      <td>1</td>\n",
       "      <td>0</td>\n",
       "      <td>0</td>\n",
       "      <td>0</td>\n",
       "      <td>0</td>\n",
       "      <td>0</td>\n",
       "      <td>0</td>\n",
       "      <td>0</td>\n",
       "      <td>0</td>\n",
       "      <td>0</td>\n",
       "      <td>0</td>\n",
       "      <td>1</td>\n",
       "      <td>0</td>\n",
       "      <td>0</td>\n",
       "      <td>0</td>\n",
       "      <td>0</td>\n",
       "      <td>1</td>\n",
       "      <td>0</td>\n",
       "      <td>0</td>\n",
       "    </tr>\n",
       "    <tr>\n",
       "      <th>1</th>\n",
       "      <td>1.0</td>\n",
       "      <td>0.0</td>\n",
       "      <td>1.0</td>\n",
       "      <td>1.0</td>\n",
       "      <td>1.0</td>\n",
       "      <td>1</td>\n",
       "      <td>5</td>\n",
       "      <td>1.5</td>\n",
       "      <td>1</td>\n",
       "      <td>2.0</td>\n",
       "      <td>1</td>\n",
       "      <td>112.0</td>\n",
       "      <td>0.0</td>\n",
       "      <td>12.0</td>\n",
       "      <td>1</td>\n",
       "      <td>10.0</td>\n",
       "      <td>2</td>\n",
       "      <td>1125</td>\n",
       "      <td>5</td>\n",
       "      <td>23</td>\n",
       "      <td>53</td>\n",
       "      <td>53</td>\n",
       "      <td>338</td>\n",
       "      <td>88.0</td>\n",
       "      <td>9.0</td>\n",
       "      <td>9.0</td>\n",
       "      <td>10.0</td>\n",
       "      <td>10.0</td>\n",
       "      <td>8.0</td>\n",
       "      <td>9.0</td>\n",
       "      <td>1</td>\n",
       "      <td>0</td>\n",
       "      <td>0</td>\n",
       "      <td>0</td>\n",
       "      <td>0</td>\n",
       "      <td>1</td>\n",
       "      <td>4.25</td>\n",
       "      <td>0</td>\n",
       "      <td>1</td>\n",
       "      <td>0</td>\n",
       "      <td>0</td>\n",
       "      <td>0</td>\n",
       "      <td>0</td>\n",
       "      <td>0</td>\n",
       "      <td>0</td>\n",
       "      <td>0</td>\n",
       "      <td>0</td>\n",
       "      <td>0</td>\n",
       "      <td>0</td>\n",
       "      <td>0</td>\n",
       "      <td>0</td>\n",
       "      <td>0</td>\n",
       "      <td>0</td>\n",
       "      <td>0</td>\n",
       "      <td>0</td>\n",
       "      <td>0</td>\n",
       "      <td>0</td>\n",
       "      <td>0</td>\n",
       "      <td>0</td>\n",
       "      <td>0</td>\n",
       "      <td>0</td>\n",
       "      <td>0</td>\n",
       "      <td>0</td>\n",
       "      <td>1</td>\n",
       "      <td>0</td>\n",
       "      <td>0</td>\n",
       "      <td>0</td>\n",
       "      <td>0</td>\n",
       "      <td>0</td>\n",
       "      <td>0</td>\n",
       "      <td>0</td>\n",
       "      <td>0</td>\n",
       "      <td>0</td>\n",
       "      <td>0</td>\n",
       "      <td>0</td>\n",
       "      <td>1</td>\n",
       "      <td>0</td>\n",
       "      <td>0</td>\n",
       "      <td>0</td>\n",
       "      <td>1</td>\n",
       "      <td>0</td>\n",
       "      <td>0</td>\n",
       "    </tr>\n",
       "    <tr>\n",
       "      <th>2</th>\n",
       "      <td>0.8</td>\n",
       "      <td>0.0</td>\n",
       "      <td>1.0</td>\n",
       "      <td>1.0</td>\n",
       "      <td>1.0</td>\n",
       "      <td>1</td>\n",
       "      <td>2</td>\n",
       "      <td>1.5</td>\n",
       "      <td>2</td>\n",
       "      <td>1.0</td>\n",
       "      <td>1</td>\n",
       "      <td>79.0</td>\n",
       "      <td>400.0</td>\n",
       "      <td>125.0</td>\n",
       "      <td>1</td>\n",
       "      <td>40.0</td>\n",
       "      <td>30</td>\n",
       "      <td>120</td>\n",
       "      <td>26</td>\n",
       "      <td>56</td>\n",
       "      <td>86</td>\n",
       "      <td>361</td>\n",
       "      <td>7</td>\n",
       "      <td>100.0</td>\n",
       "      <td>10.0</td>\n",
       "      <td>10.0</td>\n",
       "      <td>10.0</td>\n",
       "      <td>10.0</td>\n",
       "      <td>10.0</td>\n",
       "      <td>10.0</td>\n",
       "      <td>1</td>\n",
       "      <td>1</td>\n",
       "      <td>0</td>\n",
       "      <td>0</td>\n",
       "      <td>0</td>\n",
       "      <td>1</td>\n",
       "      <td>0.69</td>\n",
       "      <td>0</td>\n",
       "      <td>1</td>\n",
       "      <td>0</td>\n",
       "      <td>0</td>\n",
       "      <td>0</td>\n",
       "      <td>0</td>\n",
       "      <td>0</td>\n",
       "      <td>0</td>\n",
       "      <td>0</td>\n",
       "      <td>0</td>\n",
       "      <td>0</td>\n",
       "      <td>0</td>\n",
       "      <td>1</td>\n",
       "      <td>0</td>\n",
       "      <td>0</td>\n",
       "      <td>0</td>\n",
       "      <td>0</td>\n",
       "      <td>0</td>\n",
       "      <td>0</td>\n",
       "      <td>0</td>\n",
       "      <td>0</td>\n",
       "      <td>0</td>\n",
       "      <td>0</td>\n",
       "      <td>0</td>\n",
       "      <td>0</td>\n",
       "      <td>0</td>\n",
       "      <td>0</td>\n",
       "      <td>0</td>\n",
       "      <td>0</td>\n",
       "      <td>0</td>\n",
       "      <td>0</td>\n",
       "      <td>0</td>\n",
       "      <td>0</td>\n",
       "      <td>0</td>\n",
       "      <td>0</td>\n",
       "      <td>0</td>\n",
       "      <td>0</td>\n",
       "      <td>0</td>\n",
       "      <td>1</td>\n",
       "      <td>0</td>\n",
       "      <td>0</td>\n",
       "      <td>0</td>\n",
       "      <td>1</td>\n",
       "      <td>0</td>\n",
       "      <td>0</td>\n",
       "    </tr>\n",
       "    <tr>\n",
       "      <th>3</th>\n",
       "      <td>1.0</td>\n",
       "      <td>1.0</td>\n",
       "      <td>1.0</td>\n",
       "      <td>1.0</td>\n",
       "      <td>1.0</td>\n",
       "      <td>1</td>\n",
       "      <td>2</td>\n",
       "      <td>1.5</td>\n",
       "      <td>1</td>\n",
       "      <td>1.0</td>\n",
       "      <td>1</td>\n",
       "      <td>90.0</td>\n",
       "      <td>0.0</td>\n",
       "      <td>25.0</td>\n",
       "      <td>1</td>\n",
       "      <td>0.0</td>\n",
       "      <td>3</td>\n",
       "      <td>7</td>\n",
       "      <td>3</td>\n",
       "      <td>10</td>\n",
       "      <td>19</td>\n",
       "      <td>183</td>\n",
       "      <td>228</td>\n",
       "      <td>99.0</td>\n",
       "      <td>10.0</td>\n",
       "      <td>10.0</td>\n",
       "      <td>10.0</td>\n",
       "      <td>10.0</td>\n",
       "      <td>9.0</td>\n",
       "      <td>10.0</td>\n",
       "      <td>1</td>\n",
       "      <td>0</td>\n",
       "      <td>0</td>\n",
       "      <td>1</td>\n",
       "      <td>1</td>\n",
       "      <td>1</td>\n",
       "      <td>3.38</td>\n",
       "      <td>0</td>\n",
       "      <td>1</td>\n",
       "      <td>0</td>\n",
       "      <td>0</td>\n",
       "      <td>0</td>\n",
       "      <td>0</td>\n",
       "      <td>0</td>\n",
       "      <td>0</td>\n",
       "      <td>0</td>\n",
       "      <td>0</td>\n",
       "      <td>0</td>\n",
       "      <td>0</td>\n",
       "      <td>0</td>\n",
       "      <td>0</td>\n",
       "      <td>0</td>\n",
       "      <td>0</td>\n",
       "      <td>0</td>\n",
       "      <td>0</td>\n",
       "      <td>0</td>\n",
       "      <td>0</td>\n",
       "      <td>0</td>\n",
       "      <td>0</td>\n",
       "      <td>0</td>\n",
       "      <td>0</td>\n",
       "      <td>0</td>\n",
       "      <td>0</td>\n",
       "      <td>1</td>\n",
       "      <td>0</td>\n",
       "      <td>0</td>\n",
       "      <td>0</td>\n",
       "      <td>0</td>\n",
       "      <td>0</td>\n",
       "      <td>0</td>\n",
       "      <td>0</td>\n",
       "      <td>0</td>\n",
       "      <td>0</td>\n",
       "      <td>0</td>\n",
       "      <td>0</td>\n",
       "      <td>1</td>\n",
       "      <td>0</td>\n",
       "      <td>0</td>\n",
       "      <td>1</td>\n",
       "      <td>0</td>\n",
       "      <td>0</td>\n",
       "      <td>0</td>\n",
       "    </tr>\n",
       "    <tr>\n",
       "      <th>4</th>\n",
       "      <td>1.0</td>\n",
       "      <td>1.0</td>\n",
       "      <td>4.0</td>\n",
       "      <td>1.0</td>\n",
       "      <td>1.0</td>\n",
       "      <td>1</td>\n",
       "      <td>1</td>\n",
       "      <td>1.5</td>\n",
       "      <td>1</td>\n",
       "      <td>1.0</td>\n",
       "      <td>1</td>\n",
       "      <td>56.0</td>\n",
       "      <td>375.0</td>\n",
       "      <td>65.0</td>\n",
       "      <td>1</td>\n",
       "      <td>0.0</td>\n",
       "      <td>1</td>\n",
       "      <td>220</td>\n",
       "      <td>12</td>\n",
       "      <td>37</td>\n",
       "      <td>58</td>\n",
       "      <td>242</td>\n",
       "      <td>37</td>\n",
       "      <td>94.0</td>\n",
       "      <td>9.0</td>\n",
       "      <td>9.0</td>\n",
       "      <td>10.0</td>\n",
       "      <td>10.0</td>\n",
       "      <td>8.0</td>\n",
       "      <td>9.0</td>\n",
       "      <td>1</td>\n",
       "      <td>0</td>\n",
       "      <td>0</td>\n",
       "      <td>0</td>\n",
       "      <td>0</td>\n",
       "      <td>3</td>\n",
       "      <td>0.63</td>\n",
       "      <td>0</td>\n",
       "      <td>1</td>\n",
       "      <td>0</td>\n",
       "      <td>0</td>\n",
       "      <td>0</td>\n",
       "      <td>0</td>\n",
       "      <td>0</td>\n",
       "      <td>0</td>\n",
       "      <td>0</td>\n",
       "      <td>0</td>\n",
       "      <td>0</td>\n",
       "      <td>0</td>\n",
       "      <td>0</td>\n",
       "      <td>0</td>\n",
       "      <td>0</td>\n",
       "      <td>0</td>\n",
       "      <td>0</td>\n",
       "      <td>0</td>\n",
       "      <td>0</td>\n",
       "      <td>0</td>\n",
       "      <td>0</td>\n",
       "      <td>0</td>\n",
       "      <td>0</td>\n",
       "      <td>0</td>\n",
       "      <td>0</td>\n",
       "      <td>0</td>\n",
       "      <td>1</td>\n",
       "      <td>0</td>\n",
       "      <td>0</td>\n",
       "      <td>0</td>\n",
       "      <td>0</td>\n",
       "      <td>0</td>\n",
       "      <td>0</td>\n",
       "      <td>0</td>\n",
       "      <td>0</td>\n",
       "      <td>0</td>\n",
       "      <td>0</td>\n",
       "      <td>0</td>\n",
       "      <td>1</td>\n",
       "      <td>0</td>\n",
       "      <td>0</td>\n",
       "      <td>0</td>\n",
       "      <td>1</td>\n",
       "      <td>0</td>\n",
       "      <td>0</td>\n",
       "    </tr>\n",
       "  </tbody>\n",
       "</table>\n",
       "</div>"
      ],
      "text/plain": [
       "   host_response_rate  host_is_superhost  host_listings_count  \\\n",
       "0                 1.0                0.0                  1.0   \n",
       "1                 1.0                0.0                  1.0   \n",
       "2                 0.8                0.0                  1.0   \n",
       "3                 1.0                1.0                  1.0   \n",
       "4                 1.0                1.0                  4.0   \n",
       "\n",
       "   host_has_profile_pic  host_identity_verified  is_location_exact  \\\n",
       "0                   1.0                     0.0                  1   \n",
       "1                   1.0                     1.0                  1   \n",
       "2                   1.0                     1.0                  1   \n",
       "3                   1.0                     1.0                  1   \n",
       "4                   1.0                     1.0                  1   \n",
       "\n",
       "   accommodates  bathrooms  bedrooms  beds  bed_type  price  security_deposit  \\\n",
       "0             4        1.0         2   2.0         1  120.0             300.0   \n",
       "1             5        1.5         1   2.0         1  112.0               0.0   \n",
       "2             2        1.5         2   1.0         1   79.0             400.0   \n",
       "3             2        1.5         1   1.0         1   90.0               0.0   \n",
       "4             1        1.5         1   1.0         1   56.0             375.0   \n",
       "\n",
       "   cleaning_fee  guests_included  extra_people  minimum_nights  \\\n",
       "0         150.0                2          10.0              30   \n",
       "1          12.0                1          10.0               2   \n",
       "2         125.0                1          40.0              30   \n",
       "3          25.0                1           0.0               3   \n",
       "4          65.0                1           0.0               1   \n",
       "\n",
       "   maximum_nights  availability_30  availability_60  availability_90  \\\n",
       "0             730                3               33               63   \n",
       "1            1125                5               23               53   \n",
       "2             120               26               56               86   \n",
       "3               7                3               10               19   \n",
       "4             220               12               37               58   \n",
       "\n",
       "   availability_365  number_of_reviews  review_scores_rating  \\\n",
       "0               338                  8                  93.0   \n",
       "1                53                338                  88.0   \n",
       "2               361                  7                 100.0   \n",
       "3               183                228                  99.0   \n",
       "4               242                 37                  94.0   \n",
       "\n",
       "   review_scores_accuracy  review_scores_cleanliness  review_scores_checkin  \\\n",
       "0                    10.0                        9.0                   10.0   \n",
       "1                     9.0                        9.0                   10.0   \n",
       "2                    10.0                       10.0                   10.0   \n",
       "3                    10.0                       10.0                   10.0   \n",
       "4                     9.0                        9.0                   10.0   \n",
       "\n",
       "   review_scores_communication  review_scores_location  review_scores_value  \\\n",
       "0                         10.0                     9.0                 10.0   \n",
       "1                         10.0                     8.0                  9.0   \n",
       "2                         10.0                    10.0                 10.0   \n",
       "3                         10.0                     9.0                 10.0   \n",
       "4                         10.0                     8.0                  9.0   \n",
       "\n",
       "   requires_license  instant_bookable  is_business_travel_ready  \\\n",
       "0                 1                 0                         0   \n",
       "1                 1                 0                         0   \n",
       "2                 1                 1                         0   \n",
       "3                 1                 0                         0   \n",
       "4                 1                 0                         0   \n",
       "\n",
       "   require_guest_profile_picture  require_guest_phone_verification  \\\n",
       "0                              0                                 0   \n",
       "1                              0                                 0   \n",
       "2                              0                                 0   \n",
       "3                              1                                 1   \n",
       "4                              0                                 0   \n",
       "\n",
       "   calculated_host_listings_count  reviews_per_month  district_1  district_10  \\\n",
       "0                               1               0.10           0            1   \n",
       "1                               1               4.25           0            1   \n",
       "2                               1               0.69           0            1   \n",
       "3                               1               3.38           0            1   \n",
       "4                               3               0.63           0            1   \n",
       "\n",
       "   district_11  district_2  district_3  district_4  district_5  district_6  \\\n",
       "0            0           0           0           0           0           0   \n",
       "1            0           0           0           0           0           0   \n",
       "2            0           0           0           0           0           0   \n",
       "3            0           0           0           0           0           0   \n",
       "4            0           0           0           0           0           0   \n",
       "\n",
       "   district_7  district_8  district_9  property_type_Aparthotel  \\\n",
       "0           0           0           0                         0   \n",
       "1           0           0           0                         0   \n",
       "2           0           0           0                         0   \n",
       "3           0           0           0                         0   \n",
       "4           0           0           0                         0   \n",
       "\n",
       "   property_type_Apartment  property_type_Barn  \\\n",
       "0                        0                   0   \n",
       "1                        0                   0   \n",
       "2                        1                   0   \n",
       "3                        0                   0   \n",
       "4                        0                   0   \n",
       "\n",
       "   property_type_Bed and breakfast  property_type_Boat  \\\n",
       "0                                0                   0   \n",
       "1                                0                   0   \n",
       "2                                0                   0   \n",
       "3                                0                   0   \n",
       "4                                0                   0   \n",
       "\n",
       "   property_type_Boutique hotel  property_type_Bungalow  property_type_Cabin  \\\n",
       "0                             0                       0                    0   \n",
       "1                             0                       0                    0   \n",
       "2                             0                       0                    0   \n",
       "3                             0                       0                    0   \n",
       "4                             0                       0                    0   \n",
       "\n",
       "   property_type_Castle  property_type_Condominium  property_type_Dorm  \\\n",
       "0                     0                          0                   0   \n",
       "1                     0                          0                   0   \n",
       "2                     0                          0                   0   \n",
       "3                     0                          0                   0   \n",
       "4                     0                          0                   0   \n",
       "\n",
       "   property_type_Guest suite  property_type_Guesthouse  property_type_Hostel  \\\n",
       "0                          0                         0                     0   \n",
       "1                          0                         0                     0   \n",
       "2                          0                         0                     0   \n",
       "3                          0                         0                     0   \n",
       "4                          0                         0                     0   \n",
       "\n",
       "   property_type_Hotel  property_type_House  property_type_In-law  \\\n",
       "0                    0                    1                     0   \n",
       "1                    0                    1                     0   \n",
       "2                    0                    0                     0   \n",
       "3                    0                    1                     0   \n",
       "4                    0                    1                     0   \n",
       "\n",
       "   property_type_Loft  property_type_Other  property_type_Resort  \\\n",
       "0                   0                    0                     0   \n",
       "1                   0                    0                     0   \n",
       "2                   0                    0                     0   \n",
       "3                   0                    0                     0   \n",
       "4                   0                    0                     0   \n",
       "\n",
       "   property_type_Serviced apartment  property_type_Timeshare  \\\n",
       "0                                 0                        0   \n",
       "1                                 0                        0   \n",
       "2                                 0                        0   \n",
       "3                                 0                        0   \n",
       "4                                 0                        0   \n",
       "\n",
       "   property_type_Tiny house  property_type_Townhouse  property_type_Treehouse  \\\n",
       "0                         0                        0                        0   \n",
       "1                         0                        0                        0   \n",
       "2                         0                        0                        0   \n",
       "3                         0                        0                        0   \n",
       "4                         0                        0                        0   \n",
       "\n",
       "   property_type_Vacation home  room_type_Entire home/apt  \\\n",
       "0                            0                          1   \n",
       "1                            0                          0   \n",
       "2                            0                          0   \n",
       "3                            0                          0   \n",
       "4                            0                          0   \n",
       "\n",
       "   room_type_Private room  room_type_Shared room  \\\n",
       "0                       0                      0   \n",
       "1                       1                      0   \n",
       "2                       1                      0   \n",
       "3                       1                      0   \n",
       "4                       1                      0   \n",
       "\n",
       "   cancellation_policy_flexible  cancellation_policy_moderate  \\\n",
       "0                             0                             0   \n",
       "1                             0                             0   \n",
       "2                             0                             0   \n",
       "3                             0                             1   \n",
       "4                             0                             0   \n",
       "\n",
       "   cancellation_policy_strict  cancellation_policy_super_strict_30  \\\n",
       "0                           1                                    0   \n",
       "1                           1                                    0   \n",
       "2                           1                                    0   \n",
       "3                           0                                    0   \n",
       "4                           1                                    0   \n",
       "\n",
       "   cancellation_policy_super_strict_60  \n",
       "0                                    0  \n",
       "1                                    0  \n",
       "2                                    0  \n",
       "3                                    0  \n",
       "4                                    0  "
      ]
     },
     "execution_count": 12,
     "metadata": {},
     "output_type": "execute_result"
    }
   ],
   "source": [
    "# Now all categorical columns can be converted to numerical columns by using the get_dummies method\n",
    "df_with_dummies = pd.get_dummies(df_num, columns = ['district', 'property_type', 'room_type', 'cancellation_policy'] )\n",
    "df_with_dummies.head()"
   ]
  },
  {
   "cell_type": "markdown",
   "metadata": {},
   "source": [
    "There are extreme numbers for this column. I will use the 97.5 percentile to cap those values."
   ]
  },
  {
   "cell_type": "code",
   "execution_count": 13,
   "metadata": {
    "scrolled": true
   },
   "outputs": [],
   "source": [
    "percentile = np.percentile(df_with_dummies.minimum_nights, [1, 99])"
   ]
  },
  {
   "cell_type": "code",
   "execution_count": 14,
   "metadata": {},
   "outputs": [
    {
     "name": "stderr",
     "output_type": "stream",
     "text": [
      "/Users/forheart/anaconda3/lib/python3.6/site-packages/ipykernel_launcher.py:1: SettingWithCopyWarning: \n",
      "A value is trying to be set on a copy of a slice from a DataFrame\n",
      "\n",
      "See the caveats in the documentation: http://pandas.pydata.org/pandas-docs/stable/indexing.html#indexing-view-versus-copy\n",
      "  \"\"\"Entry point for launching an IPython kernel.\n"
     ]
    }
   ],
   "source": [
    "df_with_dummies['minimum_nights'][df_with_dummies.minimum_nights > percentile[1]] = percentile[1]"
   ]
  },
  {
   "cell_type": "code",
   "execution_count": 15,
   "metadata": {},
   "outputs": [
    {
     "name": "stderr",
     "output_type": "stream",
     "text": [
      "/Users/forheart/anaconda3/lib/python3.6/site-packages/ipykernel_launcher.py:2: SettingWithCopyWarning: \n",
      "A value is trying to be set on a copy of a slice from a DataFrame\n",
      "\n",
      "See the caveats in the documentation: http://pandas.pydata.org/pandas-docs/stable/indexing.html#indexing-view-versus-copy\n",
      "  \n"
     ]
    }
   ],
   "source": [
    "percentile1 = np.percentile(df_with_dummies.maximum_nights, [1, 99])\n",
    "df_with_dummies['maximum_nights'][df_with_dummies.maximum_nights > percentile1[1]] = percentile1[1]"
   ]
  },
  {
   "cell_type": "code",
   "execution_count": 16,
   "metadata": {},
   "outputs": [
    {
     "data": {
      "text/plain": [
       "4804"
      ]
     },
     "execution_count": 16,
     "metadata": {},
     "output_type": "execute_result"
    }
   ],
   "source": [
    "len(df_with_dummies)"
   ]
  },
  {
   "cell_type": "code",
   "execution_count": 17,
   "metadata": {},
   "outputs": [
    {
     "data": {
      "image/png": "[encoded data removed]",
      "text/plain": [
       "<matplotlib.figure.Figure at 0x11589aba8>"
      ]
     },
     "metadata": {},
     "output_type": "display_data"
    }
   ],
   "source": [
    "# Check outliers for the target variable \"price\"\n",
    "sns.boxplot(y='price', data=df_with_dummies)\n",
    "plt.show()"
   ]
  },
  {
   "cell_type": "code",
   "execution_count": 18,
   "metadata": {
    "scrolled": true
   },
   "outputs": [
    {
     "data": {
      "text/plain": [
       "<matplotlib.axes._subplots.AxesSubplot at 0x1a18a54eb8>"
      ]
     },
     "execution_count": 18,
     "metadata": {},
     "output_type": "execute_result"
    },
    {
     "data": {
      "image/png": "[encoded data removed]",
      "text/plain": [
       "<matplotlib.figure.Figure at 0x1a18a3c588>"
      ]
     },
     "metadata": {},
     "output_type": "display_data"
    }
   ],
   "source": [
    "# The plot shows that there are many outliers in the distribution of the target variable price.\n",
    "\n",
    "# Get rid of the outliers.\n",
    "percentile2 = np.percentile(df_with_dummies.price, [2.5, 97.5])\n",
    "newdf = df_with_dummies[(df_with_dummies.price > percentile2[0]) & (df_with_dummies.price < percentile2[1])]\n",
    "\n",
    "sns.boxplot(y='price', data=newdf)"
   ]
  },
  {
   "cell_type": "code",
   "execution_count": 19,
   "metadata": {},
   "outputs": [
    {
     "data": {
      "text/plain": [
       "4557"
      ]
     },
     "execution_count": 19,
     "metadata": {},
     "output_type": "execute_result"
    }
   ],
   "source": [
    "len(newdf)"
   ]
  },
  {
   "cell_type": "code",
   "execution_count": 20,
   "metadata": {},
   "outputs": [],
   "source": [
    "# Prep the feature variables and target variable\n",
    "# Use the numerical features only for now\n",
    "\n",
    "X = newdf.drop('price', axis=1).values\n",
    "y = newdf['price'].values\n",
    "\n",
    "# Split into training and test set\n",
    "\n",
    "from sklearn.model_selection import train_test_split\n",
    "\n",
    "X_train, X_test, y_train, y_test = train_test_split(X, y, test_size = 0.3, random_state=42)"
   ]
  },
  {
   "cell_type": "code",
   "execution_count": 21,
   "metadata": {},
   "outputs": [
    {
     "data": {
      "text/plain": [
       "(3189, 81)"
      ]
     },
     "execution_count": 21,
     "metadata": {},
     "output_type": "execute_result"
    }
   ],
   "source": [
    "X_train.shape"
   ]
  },
  {
   "cell_type": "markdown",
   "metadata": {},
   "source": [
    "## Linear Regression"
   ]
  },
  {
   "cell_type": "code",
   "execution_count": 22,
   "metadata": {},
   "outputs": [],
   "source": [
    "from sklearn import linear_model\n",
    "from sklearn.linear_model import LinearRegression\n",
    "from sklearn.metrics import mean_squared_error\n",
    "from sklearn.model_selection import cross_val_score"
   ]
  },
  {
   "cell_type": "code",
   "execution_count": 23,
   "metadata": {},
   "outputs": [
    {
     "data": {
      "text/plain": [
       "LinearRegression(copy_X=True, fit_intercept=True, n_jobs=None,\n",
       "         normalize=False)"
      ]
     },
     "execution_count": 23,
     "metadata": {},
     "output_type": "execute_result"
    }
   ],
   "source": [
    "lr = linear_model.LinearRegression()\n",
    "\n",
    "lr.fit(X_train, y_train)"
   ]
  },
  {
   "cell_type": "code",
   "execution_count": 24,
   "metadata": {},
   "outputs": [
    {
     "name": "stdout",
     "output_type": "stream",
     "text": [
      "The R2 for the training set is  0.6408284127749263\n",
      "The R2 for the testing set is  0.6212299290481289\n",
      "The root mean squared error is $ 76.15076580098325\n"
     ]
    }
   ],
   "source": [
    "y_pred = lr.predict(X_test)\n",
    "# R2 for the trainig set\n",
    "print('The R2 for the training set is ', lr.score(X_train, y_train))\n",
    "# R2 for the test set\n",
    "print('The R2 for the testing set is ', lr.score(X_test, y_test))\n",
    "# Root Mean Squared Error\n",
    "rmse = np.sqrt(mean_squared_error(y_test, y_pred))\n",
    "print('The root mean squared error is $', rmse)"
   ]
  },
  {
   "cell_type": "code",
   "execution_count": 25,
   "metadata": {},
   "outputs": [
    {
     "data": {
      "image/png": "[encoded data removed]",
      "text/plain": [
       "<matplotlib.figure.Figure at 0x1a226f4908>"
      ]
     },
     "metadata": {},
     "output_type": "display_data"
    }
   ],
   "source": [
    "plt.scatter(y_test, y_pred)\n",
    "plt.plot([0,600], [0, 600], linewidth=3, color='red')\n",
    "plt.xlabel('True Price')\n",
    "plt.ylabel('Predicted Price')\n",
    "plt.show()"
   ]
  },
  {
   "cell_type": "markdown",
   "metadata": {},
   "source": [
    "#### The above figure shows that linear regression here tends to underestimate the price for the expensive listings."
   ]
  },
  {
   "cell_type": "markdown",
   "metadata": {},
   "source": [
    "#### Try 5-fold cross-validation"
   ]
  },
  {
   "cell_type": "code",
   "execution_count": 26,
   "metadata": {},
   "outputs": [
    {
     "data": {
      "text/plain": [
       "array([0.64329215, 0.60764696, 0.56652396, 0.61427633, 0.58285007])"
      ]
     },
     "execution_count": 26,
     "metadata": {},
     "output_type": "execute_result"
    }
   ],
   "source": [
    "cv_score = cross_val_score(lr, X_train, y_train, cv=5)\n",
    "cv_score"
   ]
  },
  {
   "cell_type": "code",
   "execution_count": 27,
   "metadata": {},
   "outputs": [
    {
     "data": {
      "text/plain": [
       "0.6029178952430996"
      ]
     },
     "execution_count": 27,
     "metadata": {},
     "output_type": "execute_result"
    }
   ],
   "source": [
    "np.mean(cv_score)"
   ]
  },
  {
   "cell_type": "markdown",
   "metadata": {},
   "source": [
    "## Lasso Regression"
   ]
  },
  {
   "cell_type": "code",
   "execution_count": 28,
   "metadata": {},
   "outputs": [
    {
     "data": {
      "text/plain": [
       "Lasso(alpha=0.5, copy_X=True, fit_intercept=True, max_iter=1000,\n",
       "   normalize=True, positive=False, precompute=False, random_state=None,\n",
       "   selection='cyclic', tol=0.0001, warm_start=False)"
      ]
     },
     "execution_count": 28,
     "metadata": {},
     "output_type": "execute_result"
    }
   ],
   "source": [
    "# Try regularized regression: Lasso Regression\n",
    "from sklearn.linear_model import Lasso\n",
    "\n",
    "# Start with a random alpha\n",
    "lasso = Lasso(alpha=0.5, normalize=True)\n",
    "lasso.fit(X_train, y_train)"
   ]
  },
  {
   "cell_type": "code",
   "execution_count": 29,
   "metadata": {},
   "outputs": [
    {
     "data": {
      "text/plain": [
       "array(['accommodates', 'cleaning_fee', 'room_type_Entire home/apt'],\n",
       "      dtype=object)"
      ]
     },
     "execution_count": 29,
     "metadata": {},
     "output_type": "execute_result"
    }
   ],
   "source": [
    "# Using lasso coefficients to select the most important features\n",
    "\n",
    "lasso_coef = lasso.coef_\n",
    "df_feature = newdf.drop('price', axis=1)\n",
    "df_feature.columns.values[np.abs(lasso_coef) != 0]"
   ]
  },
  {
   "cell_type": "markdown",
   "metadata": {},
   "source": [
    "#### Lasso coefficients showed that the number of people the listing accommodates, cleaning_fee, and whether it is an entire home are the three most important features for predicting price."
   ]
  },
  {
   "cell_type": "code",
   "execution_count": 30,
   "metadata": {},
   "outputs": [
    {
     "data": {
      "text/plain": [
       "0.40213807363025705"
      ]
     },
     "execution_count": 30,
     "metadata": {},
     "output_type": "execute_result"
    }
   ],
   "source": [
    "y_pred = lasso.predict(X_test)\n",
    "# R2 for the training set.\n",
    "lasso.score(X_train, y_train)"
   ]
  },
  {
   "cell_type": "code",
   "execution_count": 31,
   "metadata": {},
   "outputs": [
    {
     "data": {
      "text/plain": [
       "0.42366483459452703"
      ]
     },
     "execution_count": 31,
     "metadata": {},
     "output_type": "execute_result"
    }
   ],
   "source": [
    "# R2 for the testing set.\n",
    "lasso.score(X_test, y_test)"
   ]
  },
  {
   "cell_type": "code",
   "execution_count": 32,
   "metadata": {},
   "outputs": [
    {
     "data": {
      "text/plain": [
       "93.9342575370826"
      ]
     },
     "execution_count": 32,
     "metadata": {},
     "output_type": "execute_result"
    }
   ],
   "source": [
    "# Root Mean Squared Error\n",
    "rmse = np.sqrt(mean_squared_error(y_test, y_pred))\n",
    "rmse"
   ]
  },
  {
   "cell_type": "markdown",
   "metadata": {},
   "source": [
    "#### Hyperparameter tuning with GridSearchCV"
   ]
  },
  {
   "cell_type": "code",
   "execution_count": 33,
   "metadata": {},
   "outputs": [],
   "source": [
    "# hyperparameter tuning with GridSearchCV\n",
    "from sklearn.model_selection import GridSearchCV"
   ]
  },
  {
   "cell_type": "code",
   "execution_count": 34,
   "metadata": {},
   "outputs": [
    {
     "data": {
      "text/plain": [
       "GridSearchCV(cv=5, error_score='raise-deprecating',\n",
       "       estimator=Lasso(alpha=0.5, copy_X=True, fit_intercept=True, max_iter=1000,\n",
       "   normalize=True, positive=False, precompute=False, random_state=None,\n",
       "   selection='cyclic', tol=0.0001, warm_start=False),\n",
       "       fit_params=None, iid='warn', n_jobs=None,\n",
       "       param_grid={'alpha': array([1.00000e-02, 1.62378e-02, 2.63665e-02, 4.28133e-02, 6.95193e-02,\n",
       "       1.12884e-01, 1.83298e-01, 2.97635e-01, 4.83293e-01, 7.84760e-01,\n",
       "       1.27427e+00, 2.06914e+00, 3.35982e+00, 5.45559e+00, 8.85867e+00,\n",
       "       1.43845e+01, 2.33572e+01, 3.79269e+01, 6.15848e+01, 1.00000e+02])},\n",
       "       pre_dispatch='2*n_jobs', refit=True, return_train_score='warn',\n",
       "       scoring=None, verbose=0)"
      ]
     },
     "execution_count": 34,
     "metadata": {},
     "output_type": "execute_result"
    }
   ],
   "source": [
    "# Setup the hyperparameter grid\n",
    "alpha_space = np.logspace(-2, 2, num=20)\n",
    "param_grid = {'alpha': alpha_space}\n",
    "grid = GridSearchCV(lasso, param_grid, cv=5)\n",
    "\n",
    "grid.fit(X_train, y_train)"
   ]
  },
  {
   "cell_type": "code",
   "execution_count": 35,
   "metadata": {},
   "outputs": [
    {
     "name": "stdout",
     "output_type": "stream",
     "text": [
      "The R2 for the training set is  0.6341243321439884\n",
      "The R2 for the test set is  0.6306969645633541\n",
      "The root mean squared error is $ 75.1930820256336\n",
      "The best hyperparameter is  {'alpha': 0.01}\n"
     ]
    }
   ],
   "source": [
    "y_pred = grid.predict(X_test)\n",
    "# R2 for the trainig set\n",
    "print('The R2 for the training set is ', grid.score(X_train, y_train))\n",
    "# R2 for the test set\n",
    "print('The R2 for the test set is ', grid.score(X_test, y_test))\n",
    "# Root Mean Squared Error\n",
    "rmse = np.sqrt(mean_squared_error(y_test, y_pred))\n",
    "print('The root mean squared error is $', rmse)\n",
    "print('The best hyperparameter is ', grid.best_params_)"
   ]
  },
  {
   "cell_type": "markdown",
   "metadata": {},
   "source": [
    "#### The RMSE for the regulated Lasso Regression is so far the lowest using GridSearchCV, which is $75.19"
   ]
  },
  {
   "cell_type": "markdown",
   "metadata": {},
   "source": [
    "## Ridge Regression"
   ]
  },
  {
   "cell_type": "code",
   "execution_count": 36,
   "metadata": {},
   "outputs": [],
   "source": [
    "# Try Ridge regression using GridSearchCV\n",
    "from sklearn.linear_model import Ridge"
   ]
  },
  {
   "cell_type": "code",
   "execution_count": 37,
   "metadata": {},
   "outputs": [
    {
     "data": {
      "text/plain": [
       "GridSearchCV(cv=5, error_score='raise-deprecating',\n",
       "       estimator=Ridge(alpha=1.0, copy_X=True, fit_intercept=True, max_iter=None,\n",
       "   normalize=True, random_state=None, solver='auto', tol=0.001),\n",
       "       fit_params=None, iid='warn', n_jobs=None,\n",
       "       param_grid={'alpha': array([1.00000e-04, 1.20679e-04, 1.45635e-04, 1.75751e-04, 2.12095e-04,\n",
       "       2.55955e-04, 3.08884e-04, 3.72759e-04, 4.49843e-04, 5.42868e-04,\n",
       "       6.55129e-04, 7.90604e-04, 9.54095e-04, 1.15140e-03, 1.38950e-03,\n",
       "       1.67683e-03, 2.02359e-03, 2.44205e-03, 2.94705e-03, 3.55... 3.23746e-01, 3.90694e-01,\n",
       "       4.71487e-01, 5.68987e-01, 6.86649e-01, 8.28643e-01, 1.00000e+00])},\n",
       "       pre_dispatch='2*n_jobs', refit=True, return_train_score='warn',\n",
       "       scoring=None, verbose=0)"
      ]
     },
     "execution_count": 37,
     "metadata": {},
     "output_type": "execute_result"
    }
   ],
   "source": [
    "# Setup the array of alphas\n",
    "alpha_space = np.logspace(-4, 0, 50)\n",
    "\n",
    "# Create a ridge regressor: ridge\n",
    "ridge = Ridge(normalize=True)\n",
    "\n",
    "param_grid = {'alpha': alpha_space}\n",
    "grid = GridSearchCV(ridge, param_grid, cv=5)\n",
    "\n",
    "grid.fit(X_train, y_train)"
   ]
  },
  {
   "cell_type": "code",
   "execution_count": 38,
   "metadata": {},
   "outputs": [
    {
     "name": "stdout",
     "output_type": "stream",
     "text": [
      "The R2 for the training set is  0.6373563739288903\n",
      "The R2 for the testing set is  0.628789435813389\n",
      "The root mean squared error is $ 75.3870260409418\n",
      "The best hyperparameter is  {'alpha': 0.02811768697974228}\n"
     ]
    }
   ],
   "source": [
    "y_pred = grid.predict(X_test)\n",
    "# R2 for the trainig set\n",
    "print('The R2 for the training set is ', grid.score(X_train, y_train))\n",
    "# R2 for the test set\n",
    "print('The R2 for the testing set is ', grid.score(X_test, y_test))\n",
    "# Root Mean Squared Error\n",
    "rmse = np.sqrt(mean_squared_error(y_test, y_pred))\n",
    "print('The root mean squared error is $', rmse)\n",
    "print('The best hyperparameter is ', grid.best_params_)"
   ]
  },
  {
   "cell_type": "markdown",
   "metadata": {},
   "source": [
    "### ElasticNet"
   ]
  },
  {
   "cell_type": "code",
   "execution_count": 39,
   "metadata": {},
   "outputs": [],
   "source": [
    "# Try ElasticNet\n",
    "from sklearn.linear_model import ElasticNet"
   ]
  },
  {
   "cell_type": "code",
   "execution_count": 40,
   "metadata": {},
   "outputs": [],
   "source": [
    "# Setup the array of l1_ratio\n",
    "l1_space = np.linspace(0.1, 1, 5)\n",
    "alpha_space = np.logspace(-3, 0, 4)\n",
    "\n",
    "# Create a ridge regressor: ridge\n",
    "elastic = ElasticNet(normalize=True)\n",
    "\n",
    "param_grid = {'alpha': alpha_space, 'l1_ratio': l1_space}\n",
    "\n",
    "grid = GridSearchCV(elastic, param_grid, cv=5)"
   ]
  },
  {
   "cell_type": "code",
   "execution_count": 41,
   "metadata": {
    "scrolled": true
   },
   "outputs": [
    {
     "data": {
      "text/plain": [
       "GridSearchCV(cv=5, error_score='raise-deprecating',\n",
       "       estimator=ElasticNet(alpha=1.0, copy_X=True, fit_intercept=True, l1_ratio=0.5,\n",
       "      max_iter=1000, normalize=True, positive=False, precompute=False,\n",
       "      random_state=None, selection='cyclic', tol=0.0001, warm_start=False),\n",
       "       fit_params=None, iid='warn', n_jobs=None,\n",
       "       param_grid={'alpha': array([0.001, 0.01 , 0.1  , 1.   ]), 'l1_ratio': array([0.1  , 0.325, 0.55 , 0.775, 1.   ])},\n",
       "       pre_dispatch='2*n_jobs', refit=True, return_train_score='warn',\n",
       "       scoring=None, verbose=0)"
      ]
     },
     "execution_count": 41,
     "metadata": {},
     "output_type": "execute_result"
    }
   ],
   "source": [
    "grid.fit(X_train, y_train)"
   ]
  },
  {
   "cell_type": "code",
   "execution_count": 42,
   "metadata": {},
   "outputs": [
    {
     "name": "stdout",
     "output_type": "stream",
     "text": [
      "The R2 for the training set is  0.6341243321439884\n",
      "The R2 for the testing set is  0.6306969645633541\n",
      "The root mean squared error is $ 75.1930820256336\n",
      "The best hyperparameter is  {'alpha': 0.01, 'l1_ratio': 1.0}\n"
     ]
    }
   ],
   "source": [
    "y_pred = grid.predict(X_test)\n",
    "# R2 for the trainig set\n",
    "print('The R2 for the training set is ', grid.score(X_train, y_train))\n",
    "# R2 for the test set\n",
    "print('The R2 for the testing set is ', grid.score(X_test, y_test))\n",
    "# Root Mean Squared Error\n",
    "rmse = np.sqrt(mean_squared_error(y_test, y_pred))\n",
    "print('The root mean squared error is $', rmse)\n",
    "print('The best hyperparameter is ', grid.best_params_)"
   ]
  },
  {
   "cell_type": "markdown",
   "metadata": {},
   "source": [
    "#### The best l1_ratio is 1, which means that it is better to use a lasso regression instead of a ridge regression. And the RMSE for the ElasticNet regression here is exactly the same with the Lasso result. This indicted that a lasso regression is better than a ridge regression here."
   ]
  },
  {
   "cell_type": "markdown",
   "metadata": {},
   "source": [
    "## Gradient Boosting Machine"
   ]
  },
  {
   "cell_type": "code",
   "execution_count": 43,
   "metadata": {},
   "outputs": [],
   "source": [
    "from sklearn.ensemble import GradientBoostingRegressor"
   ]
  },
  {
   "cell_type": "code",
   "execution_count": 44,
   "metadata": {},
   "outputs": [
    {
     "data": {
      "text/plain": [
       "GradientBoostingRegressor(alpha=0.9, criterion='friedman_mse', init=None,\n",
       "             learning_rate=0.1, loss='ls', max_depth=3, max_features=None,\n",
       "             max_leaf_nodes=None, min_impurity_decrease=0.0,\n",
       "             min_impurity_split=None, min_samples_leaf=1,\n",
       "             min_samples_split=2, min_weight_fraction_leaf=0.0,\n",
       "             n_estimators=100, n_iter_no_change=None, presort='auto',\n",
       "             random_state=None, subsample=1.0, tol=0.0001,\n",
       "             validation_fraction=0.1, verbose=0, warm_start=False)"
      ]
     },
     "execution_count": 44,
     "metadata": {},
     "output_type": "execute_result"
    }
   ],
   "source": [
    "gbr = GradientBoostingRegressor()\n",
    "gbr.fit(X_train, y_train)"
   ]
  },
  {
   "cell_type": "code",
   "execution_count": 45,
   "metadata": {},
   "outputs": [
    {
     "name": "stdout",
     "output_type": "stream",
     "text": [
      "The R2 for the training set is  0.7772626051337959\n",
      "The R2 for the testing set is  0.6994519053944454\n",
      "The root mean squared error is $ 67.83337677565407\n"
     ]
    }
   ],
   "source": [
    "y_pred = gbr.predict(X_test)\n",
    "# R2 for the trainig set\n",
    "print('The R2 for the training set is ', gbr.score(X_train, y_train))\n",
    "# R2 for the test set\n",
    "print('The R2 for the testing set is ', gbr.score(X_test, y_test))\n",
    "# Root Mean Squared Error\n",
    "rmse = np.sqrt(mean_squared_error(y_test, y_pred))\n",
    "print('The root mean squared error is $', rmse)"
   ]
  },
  {
   "cell_type": "markdown",
   "metadata": {},
   "source": [
    "### Fine tuning of hyperparameters of Gradient Boosting Regressor"
   ]
  },
  {
   "cell_type": "code",
   "execution_count": 46,
   "metadata": {},
   "outputs": [],
   "source": [
    "from sklearn.model_selection import RandomizedSearchCV\n",
    "\n",
    "# Specify if the scores don't improve by at least 0.001 for the previous 5 iterations, stop fitting.\n",
    "\n",
    "gbr = GradientBoostingRegressor(n_estimators=500, validation_fraction=0.2, n_iter_no_change=5, tol=0.001)"
   ]
  },
  {
   "cell_type": "code",
   "execution_count": 47,
   "metadata": {},
   "outputs": [],
   "source": [
    "param_grid={'learning_rate': [0.02, 0.2, 0.4, 1],\n",
    "            'max_depth':[2, 3, 4], \n",
    "            'min_samples_leaf':[1,2,3], \n",
    "            'max_features':[1.0, 0.5, 0.25],\n",
    "            'subsample':[0.2, 0.5, 1]\n",
    "           } \n",
    "estimator = RandomizedSearchCV(gbr, param_grid, cv=5)"
   ]
  },
  {
   "cell_type": "code",
   "execution_count": 48,
   "metadata": {},
   "outputs": [
    {
     "data": {
      "text/plain": [
       "RandomizedSearchCV(cv=5, error_score='raise-deprecating',\n",
       "          estimator=GradientBoostingRegressor(alpha=0.9, criterion='friedman_mse', init=None,\n",
       "             learning_rate=0.1, loss='ls', max_depth=3, max_features=None,\n",
       "             max_leaf_nodes=None, min_impurity_decrease=0.0,\n",
       "             min_impurity_split=None, min_samples_leaf=1,\n",
       "             min_sampl...e=None, subsample=1.0, tol=0.001,\n",
       "             validation_fraction=0.2, verbose=0, warm_start=False),\n",
       "          fit_params=None, iid='warn', n_iter=10, n_jobs=None,\n",
       "          param_distributions={'learning_rate': [0.02, 0.2, 0.4, 1], 'max_depth': [2, 3, 4], 'min_samples_leaf': [1, 2, 3], 'max_features': [1.0, 0.5, 0.25], 'subsample': [0.2, 0.5, 1]},\n",
       "          pre_dispatch='2*n_jobs', random_state=None, refit=True,\n",
       "          return_train_score='warn', scoring=None, verbose=0)"
      ]
     },
     "execution_count": 48,
     "metadata": {},
     "output_type": "execute_result"
    }
   ],
   "source": [
    "estimator.fit(X_train, y_train)"
   ]
  },
  {
   "cell_type": "code",
   "execution_count": 49,
   "metadata": {
    "scrolled": true
   },
   "outputs": [
    {
     "name": "stdout",
     "output_type": "stream",
     "text": [
      "The R2 for the training set is  0.7742279434887704\n",
      "The R2 for the testing set is  0.7032968773903856\n",
      "The root mean squared error is $ 67.39807708463933\n",
      "The best hyperparameter is  {'subsample': 0.5, 'min_samples_leaf': 1, 'max_features': 1.0, 'max_depth': 4, 'learning_rate': 0.02}\n"
     ]
    }
   ],
   "source": [
    "y_pred = estimator.predict(X_test)\n",
    "# R2 for the trainig set\n",
    "print('The R2 for the training set is ', estimator.score(X_train, y_train))\n",
    "# R2 for the test set\n",
    "print('The R2 for the testing set is ', estimator.score(X_test, y_test))\n",
    "# Root Mean Squared Error\n",
    "rmse = np.sqrt(mean_squared_error(y_test, y_pred))\n",
    "print('The root mean squared error is $', rmse)\n",
    "print('The best hyperparameter is ', estimator.best_params_)"
   ]
  },
  {
   "cell_type": "code",
   "execution_count": 50,
   "metadata": {},
   "outputs": [
    {
     "data": {
      "text/plain": [
       "GradientBoostingRegressor(alpha=0.9, criterion='friedman_mse', init=None,\n",
       "             learning_rate=0.4, loss='ls', max_depth=2, max_features=1,\n",
       "             max_leaf_nodes=None, min_impurity_decrease=0.0,\n",
       "             min_impurity_split=None, min_samples_leaf=2,\n",
       "             min_samples_split=2, min_weight_fraction_leaf=0.0,\n",
       "             n_estimators=500, n_iter_no_change=5, presort='auto',\n",
       "             random_state=None, subsample=0.5, tol=0.001,\n",
       "             validation_fraction=0.2, verbose=0, warm_start=False)"
      ]
     },
     "execution_count": 50,
     "metadata": {},
     "output_type": "execute_result"
    }
   ],
   "source": [
    "# Using the best hyperparameters to fit the model again\n",
    "gbr=GradientBoostingRegressor(n_estimators=500, validation_fraction=0.2, n_iter_no_change=5, tol=0.001,\n",
    "                             min_samples_leaf=2, max_features=1, max_depth=2, learning_rate=0.4, \n",
    "                              subsample=0.5)\n",
    "gbr.fit(X_train, y_train)"
   ]
  },
  {
   "cell_type": "code",
   "execution_count": 51,
   "metadata": {},
   "outputs": [
    {
     "name": "stdout",
     "output_type": "stream",
     "text": [
      "With early stopping, the number of boosting stages performed is  97\n"
     ]
    }
   ],
   "source": [
    "print('With early stopping, the number of boosting stages performed is ', gbr.n_estimators_)"
   ]
  },
  {
   "cell_type": "markdown",
   "metadata": {},
   "source": [
    "#### This is the best R2, 0.71 for the testing set and the lowest RMSE $66.48 so far. "
   ]
  },
  {
   "cell_type": "markdown",
   "metadata": {},
   "source": [
    "### Partial Dependence Plots"
   ]
  },
  {
   "cell_type": "code",
   "execution_count": 52,
   "metadata": {},
   "outputs": [],
   "source": [
    "from sklearn.ensemble.partial_dependence import plot_partial_dependence\n",
    "from sklearn.ensemble.partial_dependence import partial_dependence\n",
    "from mpl_toolkits.mplot3d import Axes3D"
   ]
  },
  {
   "cell_type": "code",
   "execution_count": 53,
   "metadata": {},
   "outputs": [],
   "source": [
    "names = newdf.drop(columns=['price']).columns.values"
   ]
  },
  {
   "cell_type": "code",
   "execution_count": 54,
   "metadata": {},
   "outputs": [
    {
     "data": {
      "text/plain": [
       "GradientBoostingRegressor(alpha=0.9, criterion='friedman_mse', init=None,\n",
       "             learning_rate=0.4, loss='ls', max_depth=2, max_features=1,\n",
       "             max_leaf_nodes=None, min_impurity_decrease=0.0,\n",
       "             min_impurity_split=None, min_samples_leaf=2,\n",
       "             min_samples_split=2, min_weight_fraction_leaf=0.0,\n",
       "             n_estimators=100, n_iter_no_change=None, presort='auto',\n",
       "             random_state=None, subsample=1.0, tol=0.0001,\n",
       "             validation_fraction=0.1, verbose=0, warm_start=False)"
      ]
     },
     "execution_count": 54,
     "metadata": {},
     "output_type": "execute_result"
    }
   ],
   "source": [
    "gbr=GradientBoostingRegressor(n_estimators=100, min_samples_leaf=2, max_features=1, max_depth=2, \n",
    "                              learning_rate=0.4)\n",
    "gbr.fit(X_train, y_train)"
   ]
  },
  {
   "cell_type": "code",
   "execution_count": 55,
   "metadata": {},
   "outputs": [
    {
     "data": {
      "image/png": "[encoded data removed]",
      "text/plain": [
       "<matplotlib.figure.Figure at 0x1a23a33cf8>"
      ]
     },
     "metadata": {},
     "output_type": "display_data"
    },
    {
     "data": {
      "image/png": "[encoded data removed]",
      "text/plain": [
       "<matplotlib.figure.Figure at 0x1a241e2a20>"
      ]
     },
     "metadata": {},
     "output_type": "display_data"
    }
   ],
   "source": [
    "# Get important features from the dataframe\n",
    "features = [6, 7, 8, 9, 11, 12, 21, 22]\n",
    "\n",
    "fig, axs = plot_partial_dependence(gbr, X_train, features, feature_names=names, grid_resolution=50)\n",
    "\n",
    "plt.title('Partial dependence of listing price on nonlocation features\\n'\n",
    "                 'for the San Francisco Airbnb Dataset', y=3.9)\n",
    "plt.subplots_adjust(left=0.125, bottom=0.1, right=2, top=2, wspace=0.2)  \n",
    "fig = plt.figure()\n",
    "    \n",
    "target_feature = (12, 6)\n",
    "pdp, axes = partial_dependence(gbr, target_feature, X=X_train, grid_resolution=100)\n",
    "XX, YY = np.meshgrid(axes[0], axes[1])\n",
    "Z = pdp[0].reshape(list(map(np.size, axes))).T\n",
    "ax = Axes3D(fig)\n",
    "surf = ax.plot_surface(XX, YY, Z, rstride=1, cstride=1, cmap=plt.cm.BuPu, edgecolor='k')\n",
    "ax.set_xlabel(names[target_feature[0]])\n",
    "ax.set_ylabel(names[target_feature[1]])\n",
    "ax.set_zlabel('Partial dependence')\n",
    "#  pretty init view\n",
    "ax.view_init(elev=22, azim=122)\n",
    "plt.colorbar(surf)\n",
    "plt.suptitle('Partial dependence of listing price on \\n'\n",
    "                 'number of people it accommadates and cleaning fee')\n",
    "plt.subplots_adjust(top=1.2)\n",
    "\n",
    "plt.show()"
   ]
  },
  {
   "cell_type": "markdown",
   "metadata": {},
   "source": [
    "#### The above Partial Dependence Plots shows the listing price is in linear relationship with number of people it accommodates, bathrooms, bedrooms, security deposit, cleaning fee within a certain range of these variables. The listing price does not change much with the number of reviews much. And the listing price increases with review rating score."
   ]
  },
  {
   "cell_type": "markdown",
   "metadata": {},
   "source": [
    "#### The two-way partial dependence plot shows the dependence of listing price on joint values of # accommadotes and cleaning fee. "
   ]
  },
  {
   "cell_type": "markdown",
   "metadata": {},
   "source": [
    "### Variable Importance"
   ]
  },
  {
   "cell_type": "code",
   "execution_count": 56,
   "metadata": {},
   "outputs": [
    {
     "name": "stdout",
     "output_type": "stream",
     "text": [
      "[False False False False False False  True False  True False False False\n",
      "  True False False False False False False False False False False False\n",
      " False False False False False False False False False False False False\n",
      " False False False False False False False False False False False False\n",
      " False False False False False False False False False False False False\n",
      " False False False False False False False False False False False False\n",
      " False False False False False False False False False]\n",
      "[46 28 42 59 23 33  1  2  1 12 52  4  1  3 51 16 15 13 14 17  6 19  5 36\n",
      " 69 75 31 24 18 27 32  7 58 41  8 57 21 48  9 44 11 60 54 10 38 29 22 67\n",
      " 45 63 76 62 47 66 70 53 39 77 26 35 68 78 25 64 34 30 56 73 20 61 40 65\n",
      " 72 50 49 71 37 43 55 74 79]\n"
     ]
    }
   ],
   "source": [
    "# The Recursive Feature Elimination (RFE) method is a feature selection approach. It works by recursively \n",
    "# removing attributes and building a model on those attributes that remain.\n",
    "\n",
    "from sklearn.feature_selection import RFE\n",
    "\n",
    "# create a gradient boosting regressor\n",
    "model = GradientBoostingRegressor(n_estimators=500, validation_fraction=0.2, n_iter_no_change=5, tol=0.001,\n",
    "                             min_samples_leaf=2, max_features=1, max_depth=2, learning_rate=0.4, \n",
    "                              subsample=0.5)\n",
    "# create the RFE model and select 3 attributes\n",
    "rfe = RFE(model, 3)\n",
    "rfe = rfe.fit(X_train, y_train)\n",
    "# summarize the selection of the attributes\n",
    "print(rfe.support_)\n",
    "print(rfe.ranking_)"
   ]
  },
  {
   "cell_type": "code",
   "execution_count": 57,
   "metadata": {},
   "outputs": [
    {
     "data": {
      "text/plain": [
       "array(['accommodates', 'bedrooms', 'cleaning_fee'], dtype=object)"
      ]
     },
     "execution_count": 57,
     "metadata": {},
     "output_type": "execute_result"
    }
   ],
   "source": [
    "# Get the three most important features\n",
    "names[rfe.support_]"
   ]
  },
  {
   "cell_type": "code",
   "execution_count": 58,
   "metadata": {},
   "outputs": [
    {
     "name": "stdout",
     "output_type": "stream",
     "text": [
      "['bathrooms', 'guests_included', 'security_deposit', 'review_scores_rating', 'availability_365', 'is_business_travel_ready', 'calculated_host_listings_count', 'district_11']\n"
     ]
    }
   ],
   "source": [
    "# Get other important features\n",
    "rank = list(rfe.ranking_)\n",
    "important = []\n",
    "for i in range(2, 10):\n",
    "    index = rank.index(i)\n",
    "    important.append(names[index])\n",
    "print(important)"
   ]
  },
  {
   "cell_type": "markdown",
   "metadata": {},
   "source": [
    "#### The Recursive Feature Elimination selected three important features and ranked them according to their importance. RFE selected \"accommodates\" (the number of people it accommodates), \"bathrooms\", and \"beds\" as the three most important features to predict the price of the listing. Other important features include reviews per month, room type, cleaning_fee, guests_included,  minimum nights, available days in the next two months."
   ]
  },
  {
   "cell_type": "code",
   "execution_count": 59,
   "metadata": {},
   "outputs": [
    {
     "name": "stdout",
     "output_type": "stream",
     "text": [
      "0.7772228503153974\n",
      "0.8601786372103677\n",
      "0.8542567566964578\n"
     ]
    }
   ],
   "source": [
    "# Calculate the correlation coefficient between these three features, \"accommodates\",\n",
    "# \"bedrooms\", and \"beds\":\n",
    "print(newdf['accommodates'].corr(newdf['bedrooms']))\n",
    "print(newdf['accommodates'].corr(newdf['beds']))\n",
    "print(newdf['bedrooms'].corr(newdf['beds']))"
   ]
  },
  {
   "cell_type": "code",
   "execution_count": 60,
   "metadata": {},
   "outputs": [],
   "source": [
    "# Since the feature \"accommodates\" is highly correlated with \"beds\" and \"bedrooms\", delete the feature\n",
    "# 'beds' to test it again.\n",
    "X1 = newdf.drop(['price', 'beds'], axis=1).values\n",
    "y1 = newdf['price'].values\n",
    "\n",
    "# Split into training and test set\n",
    "\n",
    "from sklearn.model_selection import train_test_split\n",
    "\n",
    "X_train, X_test, y_train, y_test = train_test_split(X, y, test_size = 0.3, random_state=42)"
   ]
  },
  {
   "cell_type": "code",
   "execution_count": 61,
   "metadata": {},
   "outputs": [
    {
     "data": {
      "text/plain": [
       "GradientBoostingRegressor(alpha=0.9, criterion='friedman_mse', init=None,\n",
       "             learning_rate=0.4, loss='ls', max_depth=2, max_features=1,\n",
       "             max_leaf_nodes=None, min_impurity_decrease=0.0,\n",
       "             min_impurity_split=None, min_samples_leaf=2,\n",
       "             min_samples_split=2, min_weight_fraction_leaf=0.0,\n",
       "             n_estimators=500, n_iter_no_change=5, presort='auto',\n",
       "             random_state=None, subsample=0.5, tol=0.001,\n",
       "             validation_fraction=0.2, verbose=0, warm_start=False)"
      ]
     },
     "execution_count": 61,
     "metadata": {},
     "output_type": "execute_result"
    }
   ],
   "source": [
    "# Still use the same parameters for gradient boosting regression\n",
    "gbr1=GradientBoostingRegressor(n_estimators=500, validation_fraction=0.2, n_iter_no_change=5, tol=0.001,\n",
    "                             min_samples_leaf=2, max_features=1, max_depth=2, learning_rate=0.4, \n",
    "                              subsample=0.5)\n",
    "gbr1.fit(X_train, y_train)"
   ]
  },
  {
   "cell_type": "code",
   "execution_count": 62,
   "metadata": {},
   "outputs": [
    {
     "name": "stdout",
     "output_type": "stream",
     "text": [
      "The R2 for the training set is  0.7742279434887704\n",
      "The R2 for the testing set is  0.7032968773903856\n",
      "The root mean squared error is $ 67.39807708463933\n",
      "The best hyperparameter is  {'subsample': 0.5, 'min_samples_leaf': 1, 'max_features': 1.0, 'max_depth': 4, 'learning_rate': 0.02}\n"
     ]
    }
   ],
   "source": [
    "y_pred = estimator.predict(X_test)\n",
    "# R2 for the trainig set\n",
    "print('The R2 for the training set is ', estimator.score(X_train, y_train))\n",
    "# R2 for the test set\n",
    "print('The R2 for the testing set is ', estimator.score(X_test, y_test))\n",
    "# Root Mean Squared Error\n",
    "rmse = np.sqrt(mean_squared_error(y_test, y_pred))\n",
    "print('The root mean squared error is $', rmse)\n",
    "print('The best hyperparameter is ', estimator.best_params_)"
   ]
  },
  {
   "cell_type": "markdown",
   "metadata": {},
   "source": [
    "### After deleting the column \"beds\", both the R2 and RMSE are worse than with the feature, so it is best to keep it."
   ]
  },
  {
   "cell_type": "markdown",
   "metadata": {},
   "source": [
    "## Random Forest Regression"
   ]
  },
  {
   "cell_type": "code",
   "execution_count": 63,
   "metadata": {},
   "outputs": [],
   "source": [
    "from sklearn.ensemble import RandomForestRegressor"
   ]
  },
  {
   "cell_type": "code",
   "execution_count": 64,
   "metadata": {},
   "outputs": [],
   "source": [
    "# Test with some basic parameters.\n",
    "rf = RandomForestRegressor(max_depth=10, n_estimators=300)"
   ]
  },
  {
   "cell_type": "code",
   "execution_count": 65,
   "metadata": {},
   "outputs": [
    {
     "data": {
      "text/plain": [
       "RandomForestRegressor(bootstrap=True, criterion='mse', max_depth=10,\n",
       "           max_features='auto', max_leaf_nodes=None,\n",
       "           min_impurity_decrease=0.0, min_impurity_split=None,\n",
       "           min_samples_leaf=1, min_samples_split=2,\n",
       "           min_weight_fraction_leaf=0.0, n_estimators=300, n_jobs=None,\n",
       "           oob_score=False, random_state=None, verbose=0, warm_start=False)"
      ]
     },
     "execution_count": 65,
     "metadata": {},
     "output_type": "execute_result"
    }
   ],
   "source": [
    "rf.fit(X_train, y_train)"
   ]
  },
  {
   "cell_type": "code",
   "execution_count": 66,
   "metadata": {},
   "outputs": [
    {
     "name": "stdout",
     "output_type": "stream",
     "text": [
      "The R2 for the training set is  0.8805220096357339\n",
      "The R2 for the testing set is  0.6791306308960339\n",
      "The root mean squared error is $ 70.0891152229774\n"
     ]
    }
   ],
   "source": [
    "y_pred = rf.predict(X_test)\n",
    "# R2 for the trainig set\n",
    "print('The R2 for the training set is ', rf.score(X_train, y_train))\n",
    "# R2 for the test set\n",
    "print('The R2 for the testing set is ', rf.score(X_test, y_test))\n",
    "# Root Mean Squared Error\n",
    "rmse = np.sqrt(mean_squared_error(y_test, y_pred))\n",
    "print('The root mean squared error is $', rmse)"
   ]
  },
  {
   "cell_type": "markdown",
   "metadata": {},
   "source": [
    "### Fine tuning of hyperparameters of Random Forest Regression"
   ]
  },
  {
   "cell_type": "code",
   "execution_count": 67,
   "metadata": {},
   "outputs": [],
   "source": [
    "rf = RandomForestRegressor()\n",
    "\n",
    "param_grid={'n_estimators':[100, 200, 300], \n",
    "            'max_depth': np.linspace(10, 50, 5),\n",
    "            'min_samples_leaf':[1,2,3,4], \n",
    "            'min_samples_split': [2, 5, 10],\n",
    "            'max_features':[1.0, 0.5, 0.25],\n",
    "            } \n",
    "estimator = RandomizedSearchCV(rf, param_grid, cv=5)"
   ]
  },
  {
   "cell_type": "code",
   "execution_count": 68,
   "metadata": {},
   "outputs": [
    {
     "data": {
      "text/plain": [
       "RandomizedSearchCV(cv=5, error_score='raise-deprecating',\n",
       "          estimator=RandomForestRegressor(bootstrap=True, criterion='mse', max_depth=None,\n",
       "           max_features='auto', max_leaf_nodes=None,\n",
       "           min_impurity_decrease=0.0, min_impurity_split=None,\n",
       "           min_samples_leaf=1, min_samples_split=2,\n",
       "           min_weight_fraction_leaf=0.0, n_estimators='warn', n_jobs=None,\n",
       "           oob_score=False, random_state=None, verbose=0, warm_start=False),\n",
       "          fit_params=None, iid='warn', n_iter=10, n_jobs=None,\n",
       "          param_distributions={'n_estimators': [100, 200, 300], 'max_depth': array([10., 20., 30., 40., 50.]), 'min_samples_leaf': [1, 2, 3, 4], 'min_samples_split': [2, 5, 10], 'max_features': [1.0, 0.5, 0.25]},\n",
       "          pre_dispatch='2*n_jobs', random_state=None, refit=True,\n",
       "          return_train_score='warn', scoring=None, verbose=0)"
      ]
     },
     "execution_count": 68,
     "metadata": {},
     "output_type": "execute_result"
    }
   ],
   "source": [
    "estimator.fit(X_train, y_train)"
   ]
  },
  {
   "cell_type": "code",
   "execution_count": 69,
   "metadata": {},
   "outputs": [
    {
     "name": "stdout",
     "output_type": "stream",
     "text": [
      "The R2 for the training set is  0.9272131422211255\n",
      "The R2 for the testing set is  0.6995087929044878\n",
      "The root mean squared error is $ 67.82695674739544\n",
      "The best hyperparameter is  {'n_estimators': 300, 'min_samples_split': 5, 'min_samples_leaf': 1, 'max_features': 0.25, 'max_depth': 50.0}\n"
     ]
    }
   ],
   "source": [
    "y_pred = estimator.predict(X_test)\n",
    "# R2 for the trainig set\n",
    "print('The R2 for the training set is ', estimator.score(X_train, y_train))\n",
    "# R2 for the test set\n",
    "print('The R2 for the testing set is ', estimator.score(X_test, y_test))\n",
    "# Root Mean Squared Error\n",
    "rmse = np.sqrt(mean_squared_error(y_test, y_pred))\n",
    "print('The root mean squared error is $', rmse)\n",
    "print('The best hyperparameter is ', estimator.best_params_)"
   ]
  },
  {
   "cell_type": "code",
   "execution_count": 70,
   "metadata": {},
   "outputs": [
    {
     "data": {
      "text/plain": [
       "RandomForestRegressor(bootstrap=True, criterion='mse', max_depth=50,\n",
       "           max_features=0.5, max_leaf_nodes=None,\n",
       "           min_impurity_decrease=0.0, min_impurity_split=None,\n",
       "           min_samples_leaf=1, min_samples_split=5,\n",
       "           min_weight_fraction_leaf=0.0, n_estimators=300, n_jobs=None,\n",
       "           oob_score=False, random_state=None, verbose=0, warm_start=False)"
      ]
     },
     "execution_count": 70,
     "metadata": {},
     "output_type": "execute_result"
    }
   ],
   "source": [
    "# Use the best hyperparameters for the random forest regressor\n",
    "rf = RandomForestRegressor(n_estimators=300, min_samples_split=5, min_samples_leaf=1, \n",
    "                           max_features=0.5, max_depth=50)\n",
    "rf.fit(X_train, y_train)"
   ]
  },
  {
   "cell_type": "code",
   "execution_count": 71,
   "metadata": {},
   "outputs": [],
   "source": [
    "importances = rf.feature_importances_"
   ]
  },
  {
   "cell_type": "code",
   "execution_count": 72,
   "metadata": {},
   "outputs": [],
   "source": [
    "importances = rf.feature_importances_\n",
    "\n",
    "indices = np.argsort(importances)\n",
    "\n",
    "featurename = [names[i] for i in indices] "
   ]
  },
  {
   "cell_type": "code",
   "execution_count": 73,
   "metadata": {
    "scrolled": true
   },
   "outputs": [],
   "source": [
    "indices = np.argsort(importances)"
   ]
  },
  {
   "cell_type": "code",
   "execution_count": 74,
   "metadata": {},
   "outputs": [
    {
     "data": {
      "image/png": "[encoded data removed]",
      "text/plain": [
       "<matplotlib.figure.Figure at 0x1a24386780>"
      ]
     },
     "metadata": {},
     "output_type": "display_data"
    }
   ],
   "source": [
    "# Plot the feature importances with the feature names\n",
    "plt.figure(figsize=(8, 8))\n",
    "plt.title(\"Feature importances\")\n",
    "plt.barh(range(10), importances[indices][-10:],\n",
    "       color=\"r\", align=\"center\")\n",
    "# If you want to define your own labels,\n",
    "# change indices to a list of labels on the following line.\n",
    "plt.yticks(range(10), featurename[-10:])\n",
    "plt.ylim([-1, 10])\n",
    "plt.show()"
   ]
  },
  {
   "cell_type": "markdown",
   "metadata": {},
   "source": [
    "### As we can see from the above plot, the three most important features the random forest regression selected are bedroom, accommodates, and cleaning fee, which are slightly different from what were selected by other algorithms. The bedrooms and number of people the house accommodates are highly correlated features. "
   ]
  },
  {
   "cell_type": "markdown",
   "metadata": {},
   "source": [
    "### In the in-depth machine learning analysis, I tested simple linear regression, lasso regression, ridge regression, gradient boosting machines and random forest to predict the listing price of SF Airbnb listing. GridSearchCV or RandomizedSearchCV were used to fine tuning the hyperparameters. So far, gradient boosting machines got the best result, 0.71 for the testing set R2 and the lowest RMSE $66.48. "
   ]
  },
  {
   "cell_type": "code",
   "execution_count": 88,
   "metadata": {},
   "outputs": [
    {
     "name": "stdout",
     "output_type": "stream",
     "text": [
      "The average of the price in the training set is  192.5073690812167\n"
     ]
    }
   ],
   "source": [
    "# Calculate the average of the y_train\n",
    "y_mean = np.mean(y_train)\n",
    "print('The average of the price in the training set is ', y_mean)"
   ]
  },
  {
   "cell_type": "code",
   "execution_count": 90,
   "metadata": {},
   "outputs": [
    {
     "name": "stdout",
     "output_type": "stream",
     "text": [
      "The RMSE of the prediction of the test set using the average of the price of training set is 123.73371083348935\n"
     ]
    }
   ],
   "source": [
    "# Create a np array and fill it with y_mean values \n",
    "y_pred = np.empty(len(y_test))\n",
    "y_pred.fill(y_mean)\n",
    "\n",
    "# Use y_mean to predict the price in the test set.\n",
    "RMSE1 = np.sqrt(mean_squared_error(y_test, y_pred))\n",
    "print('The RMSE of the prediction of the test set using the average of the price of training set is', RMSE1)"
   ]
  },
  {
   "cell_type": "code",
   "execution_count": 91,
   "metadata": {},
   "outputs": [
    {
     "data": {
      "text/plain": [
       "123.5983319642197"
      ]
     },
     "execution_count": 91,
     "metadata": {},
     "output_type": "execute_result"
    }
   ],
   "source": [
    "# Or use the average of the total dataset to predict the price of each listing, the RMSE becomes the standard deviation.\n",
    "np.std(y)"
   ]
  },
  {
   "cell_type": "markdown",
   "metadata": {},
   "source": [
    "### The analysis above shows that the machine learning modeling result is much better than just use the average of a sample to predict unknow data in the population."
   ]
  },
  {
   "cell_type": "code",
   "execution_count": null,
   "metadata": {},
   "outputs": [],
   "source": []
  }
 ],
 "metadata": {
  "kernelspec": {
   "display_name": "Python 3",
   "language": "python",
   "name": "python3"
  },
  "language_info": {
   "codemirror_mode": {
    "name": "ipython",
    "version": 3
   },
   "file_extension": ".py",
   "mimetype": "text/x-python",
   "name": "python",
   "nbconvert_exporter": "python",
   "pygments_lexer": "ipython3",
   "version": "3.6.4"
  }
 },
 "nbformat": 4,
 "nbformat_minor": 2
}
