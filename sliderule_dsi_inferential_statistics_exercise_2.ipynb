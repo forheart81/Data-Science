{
 "cells": [
  {
   "cell_type": "markdown",
   "metadata": {},
   "source": [
    "# Examining Racial Discrimination in the US Job Market\n",
    "\n",
    "### Background\n",
    "Racial discrimination continues to be pervasive in cultures throughout the world. Researchers examined the level of racial discrimination in the United States labor market by randomly assigning identical résumés to black-sounding or white-sounding names and observing the impact on requests for interviews from employers.\n",
    "\n",
    "### Data\n",
    "In the dataset provided, each row represents a resume. The 'race' column has two values, 'b' and 'w', indicating black-sounding and white-sounding. The column 'call' has two values, 1 and 0, indicating whether the resume received a call from employers or not.\n",
    "\n",
    "Note that the 'b' and 'w' values in race are assigned randomly to the resumes when presented to the employer."
   ]
  },
  {
   "cell_type": "markdown",
   "metadata": {},
   "source": [
    "<div class=\"span5 alert alert-info\">\n",
    "### Exercises\n",
    "You will perform a statistical analysis to establish whether race has a significant impact on the rate of callbacks for resumes.\n",
    "\n",
    "Answer the following questions **in this notebook below and submit to your Github account**. \n",
    "\n",
    "   1. What test is appropriate for this problem? Does CLT apply?\n",
    "   2. What are the null and alternate hypotheses?\n",
    "   3. Compute margin of error, confidence interval, and p-value. Try using both the bootstrapping and the frequentist statistical approaches.\n",
    "   4. Write a story describing the statistical significance in the context or the original problem.\n",
    "   5. Does your analysis mean that race/name is the most important factor in callback success? Why or why not? If not, how would you amend your analysis?\n",
    "\n",
    "You can include written notes in notebook cells using Markdown: \n",
    "   - In the control panel at the top, choose Cell > Cell Type > Markdown\n",
    "   - Markdown syntax: http://nestacms.com/docs/creating-content/markdown-cheat-sheet\n",
    "\n",
    "\n",
    "#### Resources\n",
    "+ Experiment information and data source: http://www.povertyactionlab.org/evaluation/discrimination-job-market-united-states\n",
    "+ Scipy statistical methods: http://docs.scipy.org/doc/scipy/reference/stats.html \n",
    "+ Markdown syntax: http://nestacms.com/docs/creating-content/markdown-cheat-sheet\n",
    "+ Formulas for the Bernoulli distribution: https://en.wikipedia.org/wiki/Bernoulli_distribution\n",
    "</div>\n",
    "****"
   ]
  },
  {
   "cell_type": "code",
   "execution_count": 1,
   "metadata": {},
   "outputs": [],
   "source": [
    "import pandas as pd\n",
    "import numpy as np\n",
    "from scipy import stats"
   ]
  },
  {
   "cell_type": "code",
   "execution_count": 2,
   "metadata": {},
   "outputs": [],
   "source": [
    "data = pd.io.stata.read_stata('data/us_job_market_discrimination.dta')"
   ]
  },
  {
   "cell_type": "code",
   "execution_count": 3,
   "metadata": {},
   "outputs": [
    {
     "data": {
      "text/plain": [
       "235.0"
      ]
     },
     "execution_count": 3,
     "metadata": {},
     "output_type": "execute_result"
    }
   ],
   "source": [
    "# number of callbacks for white-sounding names\n",
    "sum(data[data.race=='w'].call)"
   ]
  },
  {
   "cell_type": "code",
   "execution_count": 4,
   "metadata": {},
   "outputs": [
    {
     "data": {
      "text/plain": [
       "157.0"
      ]
     },
     "execution_count": 4,
     "metadata": {},
     "output_type": "execute_result"
    }
   ],
   "source": [
    "# number of callbacks for black-sounding names\n",
    "sum(data[data.race=='b'].call)"
   ]
  },
  {
   "cell_type": "code",
   "execution_count": 5,
   "metadata": {
    "scrolled": true
   },
   "outputs": [
    {
     "data": {
      "text/html": [
       "<div>\n",
       "<style scoped>\n",
       "    .dataframe tbody tr th:only-of-type {\n",
       "        vertical-align: middle;\n",
       "    }\n",
       "\n",
       "    .dataframe tbody tr th {\n",
       "        vertical-align: top;\n",
       "    }\n",
       "\n",
       "    .dataframe thead th {\n",
       "        text-align: right;\n",
       "    }\n",
       "</style>\n",
       "<table border=\"1\" class=\"dataframe\">\n",
       "  <thead>\n",
       "    <tr style=\"text-align: right;\">\n",
       "      <th></th>\n",
       "      <th>id</th>\n",
       "      <th>ad</th>\n",
       "      <th>education</th>\n",
       "      <th>ofjobs</th>\n",
       "      <th>yearsexp</th>\n",
       "      <th>honors</th>\n",
       "      <th>volunteer</th>\n",
       "      <th>military</th>\n",
       "      <th>empholes</th>\n",
       "      <th>occupspecific</th>\n",
       "      <th>...</th>\n",
       "      <th>compreq</th>\n",
       "      <th>orgreq</th>\n",
       "      <th>manuf</th>\n",
       "      <th>transcom</th>\n",
       "      <th>bankreal</th>\n",
       "      <th>trade</th>\n",
       "      <th>busservice</th>\n",
       "      <th>othservice</th>\n",
       "      <th>missind</th>\n",
       "      <th>ownership</th>\n",
       "    </tr>\n",
       "  </thead>\n",
       "  <tbody>\n",
       "    <tr>\n",
       "      <th>0</th>\n",
       "      <td>b</td>\n",
       "      <td>1</td>\n",
       "      <td>4</td>\n",
       "      <td>2</td>\n",
       "      <td>6</td>\n",
       "      <td>0</td>\n",
       "      <td>0</td>\n",
       "      <td>0</td>\n",
       "      <td>1</td>\n",
       "      <td>17</td>\n",
       "      <td>...</td>\n",
       "      <td>1.0</td>\n",
       "      <td>0.0</td>\n",
       "      <td>1.0</td>\n",
       "      <td>0.0</td>\n",
       "      <td>0.0</td>\n",
       "      <td>0.0</td>\n",
       "      <td>0.0</td>\n",
       "      <td>0.0</td>\n",
       "      <td>0.0</td>\n",
       "      <td></td>\n",
       "    </tr>\n",
       "    <tr>\n",
       "      <th>1</th>\n",
       "      <td>b</td>\n",
       "      <td>1</td>\n",
       "      <td>3</td>\n",
       "      <td>3</td>\n",
       "      <td>6</td>\n",
       "      <td>0</td>\n",
       "      <td>1</td>\n",
       "      <td>1</td>\n",
       "      <td>0</td>\n",
       "      <td>316</td>\n",
       "      <td>...</td>\n",
       "      <td>1.0</td>\n",
       "      <td>0.0</td>\n",
       "      <td>1.0</td>\n",
       "      <td>0.0</td>\n",
       "      <td>0.0</td>\n",
       "      <td>0.0</td>\n",
       "      <td>0.0</td>\n",
       "      <td>0.0</td>\n",
       "      <td>0.0</td>\n",
       "      <td></td>\n",
       "    </tr>\n",
       "    <tr>\n",
       "      <th>2</th>\n",
       "      <td>b</td>\n",
       "      <td>1</td>\n",
       "      <td>4</td>\n",
       "      <td>1</td>\n",
       "      <td>6</td>\n",
       "      <td>0</td>\n",
       "      <td>0</td>\n",
       "      <td>0</td>\n",
       "      <td>0</td>\n",
       "      <td>19</td>\n",
       "      <td>...</td>\n",
       "      <td>1.0</td>\n",
       "      <td>0.0</td>\n",
       "      <td>1.0</td>\n",
       "      <td>0.0</td>\n",
       "      <td>0.0</td>\n",
       "      <td>0.0</td>\n",
       "      <td>0.0</td>\n",
       "      <td>0.0</td>\n",
       "      <td>0.0</td>\n",
       "      <td></td>\n",
       "    </tr>\n",
       "    <tr>\n",
       "      <th>3</th>\n",
       "      <td>b</td>\n",
       "      <td>1</td>\n",
       "      <td>3</td>\n",
       "      <td>4</td>\n",
       "      <td>6</td>\n",
       "      <td>0</td>\n",
       "      <td>1</td>\n",
       "      <td>0</td>\n",
       "      <td>1</td>\n",
       "      <td>313</td>\n",
       "      <td>...</td>\n",
       "      <td>1.0</td>\n",
       "      <td>0.0</td>\n",
       "      <td>1.0</td>\n",
       "      <td>0.0</td>\n",
       "      <td>0.0</td>\n",
       "      <td>0.0</td>\n",
       "      <td>0.0</td>\n",
       "      <td>0.0</td>\n",
       "      <td>0.0</td>\n",
       "      <td></td>\n",
       "    </tr>\n",
       "    <tr>\n",
       "      <th>4</th>\n",
       "      <td>b</td>\n",
       "      <td>1</td>\n",
       "      <td>3</td>\n",
       "      <td>3</td>\n",
       "      <td>22</td>\n",
       "      <td>0</td>\n",
       "      <td>0</td>\n",
       "      <td>0</td>\n",
       "      <td>0</td>\n",
       "      <td>313</td>\n",
       "      <td>...</td>\n",
       "      <td>1.0</td>\n",
       "      <td>1.0</td>\n",
       "      <td>0.0</td>\n",
       "      <td>0.0</td>\n",
       "      <td>0.0</td>\n",
       "      <td>0.0</td>\n",
       "      <td>0.0</td>\n",
       "      <td>1.0</td>\n",
       "      <td>0.0</td>\n",
       "      <td>Nonprofit</td>\n",
       "    </tr>\n",
       "  </tbody>\n",
       "</table>\n",
       "<p>5 rows × 65 columns</p>\n",
       "</div>"
      ],
      "text/plain": [
       "  id ad  education  ofjobs  yearsexp  honors  volunteer  military  empholes  \\\n",
       "0  b  1          4       2         6       0          0         0         1   \n",
       "1  b  1          3       3         6       0          1         1         0   \n",
       "2  b  1          4       1         6       0          0         0         0   \n",
       "3  b  1          3       4         6       0          1         0         1   \n",
       "4  b  1          3       3        22       0          0         0         0   \n",
       "\n",
       "   occupspecific    ...      compreq  orgreq  manuf  transcom  bankreal trade  \\\n",
       "0             17    ...          1.0     0.0    1.0       0.0       0.0   0.0   \n",
       "1            316    ...          1.0     0.0    1.0       0.0       0.0   0.0   \n",
       "2             19    ...          1.0     0.0    1.0       0.0       0.0   0.0   \n",
       "3            313    ...          1.0     0.0    1.0       0.0       0.0   0.0   \n",
       "4            313    ...          1.0     1.0    0.0       0.0       0.0   0.0   \n",
       "\n",
       "  busservice othservice  missind  ownership  \n",
       "0        0.0        0.0      0.0             \n",
       "1        0.0        0.0      0.0             \n",
       "2        0.0        0.0      0.0             \n",
       "3        0.0        0.0      0.0             \n",
       "4        0.0        1.0      0.0  Nonprofit  \n",
       "\n",
       "[5 rows x 65 columns]"
      ]
     },
     "execution_count": 5,
     "metadata": {},
     "output_type": "execute_result"
    }
   ],
   "source": [
    "data.head()"
   ]
  },
  {
   "cell_type": "code",
   "execution_count": null,
   "metadata": {},
   "outputs": [],
   "source": []
  },
  {
   "cell_type": "markdown",
   "metadata": {
    "collapsed": true
   },
   "source": [
    "<div class=\"span5 alert alert-success\">\n",
    "<p>Your answers to Q1 and Q2 here</p>\n",
    "</div>"
   ]
  },
  {
   "cell_type": "markdown",
   "metadata": {},
   "source": [
    "### 1. What test is appropriate for this problem? Does CLT apply?\n",
    "### 2. What are the null and alternate hypotheses?"
   ]
  },
  {
   "cell_type": "markdown",
   "metadata": {},
   "source": [
    "1. The appropriate test for this problem is null hypothesis testing, namely using either bootstrap replicates or frequentist statistics to test the hypothesis if there is no significant difference between the black and white call rates of resumes. The Central Limit Theorem does apply here because 1) it meets the sample size assumption. CLT states that the sampling distribution of the sample means approaches a normal distribution as the sample size gets larger — no matter what the shape of the population distribution. This fact holds especially true for sample sizes over 30. The sample size is 4879 here, large enough for the CLT to apply. 2). The sampling is random and independent. "
   ]
  },
  {
   "cell_type": "markdown",
   "metadata": {},
   "source": [
    "2. The null nypothesis is, there is no significant difference between the the resume call rate of with black and white sounding names. The alternate hypothesis is, there is a significant difference between the the resume call rate of with black and white sounding names."
   ]
  },
  {
   "cell_type": "code",
   "execution_count": 6,
   "metadata": {},
   "outputs": [],
   "source": [
    "w = data[data.race=='w']\n",
    "b = data[data.race=='b']"
   ]
  },
  {
   "cell_type": "markdown",
   "metadata": {},
   "source": [
    "### 3. Compute margin of error, confidence interval, and p-value. Try using both the bootstrapping and the frequentist statistical approaches."
   ]
  },
  {
   "cell_type": "markdown",
   "metadata": {},
   "source": [
    "#### The assumption of this hypothesis test is that all other criteria are randomly distributed in this dataset, and the black and white names are also randomly assigned to these resumes."
   ]
  },
  {
   "cell_type": "markdown",
   "metadata": {},
   "source": [
    "#### 1) Using bootstraping approach"
   ]
  },
  {
   "cell_type": "code",
   "execution_count": 7,
   "metadata": {},
   "outputs": [
    {
     "name": "stdout",
     "output_type": "stream",
     "text": [
      "numbers of black and white names are 2435 and 2435\n",
      "numbers of calls from black and white names are 157.0 and 235.0\n",
      "the call rates from resumes of black and white names are 0.06447638603696099 and 0.09650924024640657\n"
     ]
    }
   ],
   "source": [
    "# numbers of black and white sounding names\n",
    "n_b = len(b)\n",
    "n_w = len(w)\n",
    "# numbers of calls \n",
    "c_b = sum(data[data.race=='b'].call)\n",
    "c_w = sum(data[data.race=='w'].call)\n",
    "# Call rate\n",
    "cr_b = c_b/n_b\n",
    "cr_w = c_w/n_w\n",
    "print('numbers of black and white names are', n_b, 'and', n_w)\n",
    "print('numbers of calls from black and white names are', c_b, 'and', c_w)\n",
    "print('the call rates from resumes of black and white names are', cr_b, 'and', cr_w)"
   ]
  },
  {
   "cell_type": "code",
   "execution_count": 8,
   "metadata": {},
   "outputs": [],
   "source": [
    "call_array = np.array(data.call)"
   ]
  },
  {
   "cell_type": "code",
   "execution_count": 9,
   "metadata": {},
   "outputs": [
    {
     "data": {
      "text/plain": [
       "0.032032854209445585"
      ]
     },
     "execution_count": 9,
     "metadata": {},
     "output_type": "execute_result"
    }
   ],
   "source": [
    "# Under the null hypothesis, there is no difference between the the resume call rate of with black and white sounding names. \n",
    "# And the difference in the call rates happens purely by chance .\n",
    "# The difference between the call rates\n",
    "diff = cr_w - cr_b\n",
    "diff"
   ]
  },
  {
   "cell_type": "code",
   "execution_count": 24,
   "metadata": {},
   "outputs": [],
   "source": [
    "# create bootstrap samples\n",
    "bs_diff = np.empty(10000)\n",
    "for i in range(10000):\n",
    "    bs_sample_b = np.random.choice(call_array, size=n_b)\n",
    "    # bs_b is the call rate of resume from black sounding names, bs_w is the call rate for the 'white'\n",
    "    bs_b = np.sum(bs_sample_b)/n_b\n",
    "    bs_w = (np.sum(call_array)-np.sum(bs_sample_b))/n_w\n",
    "    bs_diff[i] = bs_w - bs_b"
   ]
  },
  {
   "cell_type": "code",
   "execution_count": 25,
   "metadata": {},
   "outputs": [],
   "source": [
    "import matplotlib.pyplot as plt"
   ]
  },
  {
   "cell_type": "code",
   "execution_count": 29,
   "metadata": {},
   "outputs": [
    {
     "data": {
      "text/plain": [
       "(array([  1.,   0.,   1.,   2.,   5.,   8.,  11.,  17.,  12.,  42.,  26.,\n",
       "         46., 124., 116., 168., 174., 235., 241., 298., 388., 230., 427.,\n",
       "        497., 554., 546., 891., 580., 603., 568., 527., 514., 410., 359.,\n",
       "        166., 263., 209., 195., 141., 166.,  88.,  53.,  33.,  24.,  24.,\n",
       "          7.,   5.,   3.,   0.,   0.,   2.]),\n",
       " array([-4.27104723e-02, -4.10677618e-02, -3.94250513e-02, -3.77823409e-02,\n",
       "        -3.61396304e-02, -3.44969199e-02, -3.28542094e-02, -3.12114990e-02,\n",
       "        -2.95687885e-02, -2.79260780e-02, -2.62833676e-02, -2.46406571e-02,\n",
       "        -2.29979466e-02, -2.13552361e-02, -1.97125257e-02, -1.80698152e-02,\n",
       "        -1.64271047e-02, -1.47843943e-02, -1.31416838e-02, -1.14989733e-02,\n",
       "        -9.85626283e-03, -8.21355236e-03, -6.57084189e-03, -4.92813142e-03,\n",
       "        -3.28542094e-03, -1.64271047e-03,  6.93889390e-18,  1.64271047e-03,\n",
       "         3.28542094e-03,  4.92813142e-03,  6.57084189e-03,  8.21355236e-03,\n",
       "         9.85626283e-03,  1.14989733e-02,  1.31416838e-02,  1.47843943e-02,\n",
       "         1.64271047e-02,  1.80698152e-02,  1.97125257e-02,  2.13552361e-02,\n",
       "         2.29979466e-02,  2.46406571e-02,  2.62833676e-02,  2.79260780e-02,\n",
       "         2.95687885e-02,  3.12114990e-02,  3.28542094e-02,  3.44969199e-02,\n",
       "         3.61396304e-02,  3.77823409e-02,  3.94250513e-02]),\n",
       " <a list of 50 Patch objects>)"
      ]
     },
     "execution_count": 29,
     "metadata": {},
     "output_type": "execute_result"
    },
    {
     "data": {
      "image/png": "[encoded data removed]",
      "text/plain": [
       "<Figure size 432x288 with 1 Axes>"
      ]
     },
     "metadata": {},
     "output_type": "display_data"
    }
   ],
   "source": [
    "plt.hist(bs_diff, bins=50)"
   ]
  },
  {
   "cell_type": "code",
   "execution_count": 30,
   "metadata": {},
   "outputs": [
    {
     "name": "stdout",
     "output_type": "stream",
     "text": [
      "p-value is 0.001\n"
     ]
    }
   ],
   "source": [
    "# p-value\n",
    "p = np.sum(bs_diff >= diff) / 10000\n",
    "print('p-value is', p)"
   ]
  },
  {
   "cell_type": "code",
   "execution_count": 31,
   "metadata": {},
   "outputs": [
    {
     "name": "stdout",
     "output_type": "stream",
     "text": [
      "The 95% confidence interval is [-0.02217659  0.02135524]\n"
     ]
    }
   ],
   "source": [
    "# Set the significance level alpha = 0.05, the 2.5% to 97.5% percentile is\n",
    "conf_int = np.percentile(bs_diff, [2.5, 97.5])\n",
    "print('The 95% confidence interval is', conf_int)"
   ]
  },
  {
   "cell_type": "code",
   "execution_count": 33,
   "metadata": {},
   "outputs": [
    {
     "data": {
      "text/plain": [
       "(-0.021484492297029784, 0.021619030284709455)"
      ]
     },
     "execution_count": 33,
     "metadata": {},
     "output_type": "execute_result"
    }
   ],
   "source": [
    "# Calculate the 95% confidence interval\n",
    "bs_diff_mean = np.mean(bs_diff)\n",
    "bs_diff_std = np.std(bs_diff)\n",
    "stats.norm.interval(0.95, loc=bs_diff_mean, scale=bs_diff_std)"
   ]
  },
  {
   "cell_type": "code",
   "execution_count": 35,
   "metadata": {},
   "outputs": [
    {
     "data": {
      "text/plain": [
       "0.02155215731681788"
      ]
     },
     "execution_count": 35,
     "metadata": {},
     "output_type": "execute_result"
    }
   ],
   "source": [
    "# Margin of Error for 95% confidence interval corresponds to a z-value of 1.96\n",
    "1.96*bs_diff_std"
   ]
  },
  {
   "cell_type": "markdown",
   "metadata": {},
   "source": [
    "#### 2) Using the frequentist statistical approach"
   ]
  },
  {
   "cell_type": "code",
   "execution_count": 16,
   "metadata": {},
   "outputs": [
    {
     "name": "stdout",
     "output_type": "stream",
     "text": [
      "The standard deviations of the call rate in and black and white groups are 0.24559963 and 0.29528835\n",
      "The standard deviation of the difference of these two groups is 0.007783370603907358\n"
     ]
    }
   ],
   "source": [
    "# The mean difference of call rates in these two groups (w and b) is normally distributed, and the standard deviation std_diff \n",
    "# is given by std_diff = sqrt(std_b^2/n_b+std_w^2/n_w)\n",
    "std_b = np.std(np.array(b.call))\n",
    "std_w = np.std(np.array(w.call))\n",
    "std_diff = np.sqrt(std_b**2/n_b+std_w**2/n_w)\n",
    "print('The standard deviations of the call rate in and black and white groups are', std_b, 'and', std_w)\n",
    "print('The standard deviation of the difference of these two groups is', std_diff)"
   ]
  },
  {
   "cell_type": "code",
   "execution_count": 17,
   "metadata": {},
   "outputs": [
    {
     "name": "stdout",
     "output_type": "stream",
     "text": [
      "The z-score is 4.115550426619112\n"
     ]
    }
   ],
   "source": [
    "# Calculate the z-score of the difference here \n",
    "# The theoretical difference of the two groups should be 0 if the hypothesis that there is no difference between call rates is true.\n",
    "diff_theo = 0\n",
    "z = (diff-diff_theo)/std_diff\n",
    "print('The z-score is', z)"
   ]
  },
  {
   "cell_type": "code",
   "execution_count": 18,
   "metadata": {},
   "outputs": [
    {
     "name": "stdout",
     "output_type": "stream",
     "text": [
      "The p-value is 1.9312826800541776e-05\n"
     ]
    }
   ],
   "source": [
    "# one sided p-value using stats.norm.sf(abs(z))\n",
    "p_value = stats.norm.sf(abs(z)) \n",
    "print('The p-value is', p_value)"
   ]
  },
  {
   "cell_type": "code",
   "execution_count": 19,
   "metadata": {},
   "outputs": [
    {
     "data": {
      "text/plain": [
       "3.862565360108355e-05"
      ]
     },
     "execution_count": 19,
     "metadata": {},
     "output_type": "execute_result"
    }
   ],
   "source": [
    "# two sided p-value using stats.norm.cdf(-z)*2 \n",
    "# two sided p-value is the right one to use here if the alternative hypothesis that the callback success for white is significantly\n",
    "# higher than that of the black, or the call back success for 'black' is significantly higher than that of the 'white'.\n",
    "p_value2 = stats.norm.cdf(-z) * 2\n",
    "p_value2"
   ]
  },
  {
   "cell_type": "code",
   "execution_count": 38,
   "metadata": {},
   "outputs": [
    {
     "name": "stdout",
     "output_type": "stream",
     "text": [
      "The 95% confidence interval of the difference of call rates of black and white is (-0.015255126061986191, 0.015255126061986191)\n"
     ]
    }
   ],
   "source": [
    "# The 95% confidence interval correspond to a significance level of 0.05\n",
    "conf_int2 = stats.norm.interval(0.95, loc=diff_theo, scale=std_diff)\n",
    "print('The 95% confidence interval of the difference of call rates of black and white is', conf_int2)"
   ]
  },
  {
   "cell_type": "markdown",
   "metadata": {},
   "source": [
    "The real difference in this case 0.032 is outside the margin of error."
   ]
  },
  {
   "cell_type": "markdown",
   "metadata": {},
   "source": [
    "<div class=\"span5 alert alert-success\">\n",
    "<p> Your answers to Q4 and Q5 here </p>\n",
    "</div>"
   ]
  },
  {
   "cell_type": "markdown",
   "metadata": {
    "collapsed": true
   },
   "source": [
    "### 4. Write a story describing the statistical significance in the context or the original problem."
   ]
  },
  {
   "cell_type": "markdown",
   "metadata": {},
   "source": [
    "Assuming other criteria are the same or randomly distributed among the groups with black or white sounding names, both approaches show that the p-value of getting such a big difference in the black and white resume call rates is so low that the hypothesis there is no significant difference in call rates is faulse. The difference in the call rates did not happen purely by chance, and it is associated with the black or white sounding names."
   ]
  },
  {
   "cell_type": "markdown",
   "metadata": {},
   "source": [
    "### 5. Does your analysis mean that race/name is the most important factor in callback success? Why or why not? If not, how would you amend your analysis?"
   ]
  },
  {
   "cell_type": "markdown",
   "metadata": {},
   "source": [
    "This analysis does not necessarily mean race/name is the most important factor in callback success because there are so many other criteria out there that could affect the callback success. \n",
    "I would analyze a few other factors and evaluation the relationship between them and the callback success."
   ]
  },
  {
   "cell_type": "code",
   "execution_count": 21,
   "metadata": {},
   "outputs": [],
   "source": [
    "from IPython.display import display"
   ]
  },
  {
   "cell_type": "code",
   "execution_count": 22,
   "metadata": {},
   "outputs": [
    {
     "data": {
      "text/html": [
       "<div>\n",
       "<style scoped>\n",
       "    .dataframe tbody tr th:only-of-type {\n",
       "        vertical-align: middle;\n",
       "    }\n",
       "\n",
       "    .dataframe tbody tr th {\n",
       "        vertical-align: top;\n",
       "    }\n",
       "\n",
       "    .dataframe thead th {\n",
       "        text-align: right;\n",
       "    }\n",
       "</style>\n",
       "<table border=\"1\" class=\"dataframe\">\n",
       "  <thead>\n",
       "    <tr style=\"text-align: right;\">\n",
       "      <th></th>\n",
       "      <th>education</th>\n",
       "      <th>ofjobs</th>\n",
       "      <th>yearsexp</th>\n",
       "      <th>honors</th>\n",
       "      <th>volunteer</th>\n",
       "      <th>military</th>\n",
       "      <th>empholes</th>\n",
       "      <th>occupspecific</th>\n",
       "      <th>occupbroad</th>\n",
       "      <th>workinschool</th>\n",
       "      <th>email</th>\n",
       "      <th>computerskills</th>\n",
       "      <th>specialskills</th>\n",
       "      <th>h</th>\n",
       "      <th>l</th>\n",
       "      <th>adid</th>\n",
       "      <th>fracblack</th>\n",
       "      <th>fracwhite</th>\n",
       "      <th>lmedhhinc</th>\n",
       "      <th>fracdropout</th>\n",
       "      <th>fraccolp</th>\n",
       "      <th>linc</th>\n",
       "      <th>col</th>\n",
       "      <th>eoe</th>\n",
       "      <th>parent_sales</th>\n",
       "      <th>parent_emp</th>\n",
       "      <th>branch_sales</th>\n",
       "      <th>branch_emp</th>\n",
       "      <th>fed</th>\n",
       "      <th>fracblack_empzip</th>\n",
       "      <th>fracwhite_empzip</th>\n",
       "      <th>lmedhhinc_empzip</th>\n",
       "      <th>fracdropout_empzip</th>\n",
       "      <th>fraccolp_empzip</th>\n",
       "      <th>linc_empzip</th>\n",
       "      <th>manager</th>\n",
       "      <th>supervisor</th>\n",
       "      <th>secretary</th>\n",
       "      <th>offsupport</th>\n",
       "      <th>salesrep</th>\n",
       "      <th>retailsales</th>\n",
       "      <th>req</th>\n",
       "      <th>expreq</th>\n",
       "      <th>comreq</th>\n",
       "      <th>educreq</th>\n",
       "      <th>compreq</th>\n",
       "      <th>orgreq</th>\n",
       "      <th>manuf</th>\n",
       "      <th>transcom</th>\n",
       "      <th>bankreal</th>\n",
       "      <th>trade</th>\n",
       "      <th>busservice</th>\n",
       "      <th>othservice</th>\n",
       "      <th>missind</th>\n",
       "    </tr>\n",
       "    <tr>\n",
       "      <th>call</th>\n",
       "      <th></th>\n",
       "      <th></th>\n",
       "      <th></th>\n",
       "      <th></th>\n",
       "      <th></th>\n",
       "      <th></th>\n",
       "      <th></th>\n",
       "      <th></th>\n",
       "      <th></th>\n",
       "      <th></th>\n",
       "      <th></th>\n",
       "      <th></th>\n",
       "      <th></th>\n",
       "      <th></th>\n",
       "      <th></th>\n",
       "      <th></th>\n",
       "      <th></th>\n",
       "      <th></th>\n",
       "      <th></th>\n",
       "      <th></th>\n",
       "      <th></th>\n",
       "      <th></th>\n",
       "      <th></th>\n",
       "      <th></th>\n",
       "      <th></th>\n",
       "      <th></th>\n",
       "      <th></th>\n",
       "      <th></th>\n",
       "      <th></th>\n",
       "      <th></th>\n",
       "      <th></th>\n",
       "      <th></th>\n",
       "      <th></th>\n",
       "      <th></th>\n",
       "      <th></th>\n",
       "      <th></th>\n",
       "      <th></th>\n",
       "      <th></th>\n",
       "      <th></th>\n",
       "      <th></th>\n",
       "      <th></th>\n",
       "      <th></th>\n",
       "      <th></th>\n",
       "      <th></th>\n",
       "      <th></th>\n",
       "      <th></th>\n",
       "      <th></th>\n",
       "      <th></th>\n",
       "      <th></th>\n",
       "      <th></th>\n",
       "      <th></th>\n",
       "      <th></th>\n",
       "      <th></th>\n",
       "      <th></th>\n",
       "    </tr>\n",
       "  </thead>\n",
       "  <tbody>\n",
       "    <tr>\n",
       "      <th>0.0</th>\n",
       "      <td>3.619696</td>\n",
       "      <td>3.660563</td>\n",
       "      <td>7.751228</td>\n",
       "      <td>0.048013</td>\n",
       "      <td>0.410451</td>\n",
       "      <td>0.098928</td>\n",
       "      <td>0.437472</td>\n",
       "      <td>213.860875</td>\n",
       "      <td>3.460697</td>\n",
       "      <td>0.563644</td>\n",
       "      <td>0.475435</td>\n",
       "      <td>0.823805</td>\n",
       "      <td>0.313310</td>\n",
       "      <td>0.498437</td>\n",
       "      <td>0.501563</td>\n",
       "      <td>644.512939</td>\n",
       "      <td>0.313002</td>\n",
       "      <td>0.539347</td>\n",
       "      <td>10.142312</td>\n",
       "      <td>0.187040</td>\n",
       "      <td>0.211467</td>\n",
       "      <td>9.542634</td>\n",
       "      <td>0.720634</td>\n",
       "      <td>0.290755</td>\n",
       "      <td>580.995850</td>\n",
       "      <td>2191.904541</td>\n",
       "      <td>203.602310</td>\n",
       "      <td>768.117249</td>\n",
       "      <td>0.113438</td>\n",
       "      <td>0.078705</td>\n",
       "      <td>0.845355</td>\n",
       "      <td>10.661489</td>\n",
       "      <td>0.101429</td>\n",
       "      <td>0.332549</td>\n",
       "      <td>10.030473</td>\n",
       "      <td>0.154310</td>\n",
       "      <td>0.078160</td>\n",
       "      <td>0.332291</td>\n",
       "      <td>0.114113</td>\n",
       "      <td>0.153417</td>\n",
       "      <td>0.167709</td>\n",
       "      <td>0.792318</td>\n",
       "      <td>0.438142</td>\n",
       "      <td>0.124609</td>\n",
       "      <td>0.109870</td>\n",
       "      <td>0.440822</td>\n",
       "      <td>0.075257</td>\n",
       "      <td>0.085306</td>\n",
       "      <td>0.028584</td>\n",
       "      <td>0.085753</td>\n",
       "      <td>0.216615</td>\n",
       "      <td>0.266860</td>\n",
       "      <td>0.15096</td>\n",
       "      <td>0.165922</td>\n",
       "    </tr>\n",
       "    <tr>\n",
       "      <th>1.0</th>\n",
       "      <td>3.604592</td>\n",
       "      <td>3.670918</td>\n",
       "      <td>8.890306</td>\n",
       "      <td>0.107143</td>\n",
       "      <td>0.423469</td>\n",
       "      <td>0.076531</td>\n",
       "      <td>0.568878</td>\n",
       "      <td>235.936224</td>\n",
       "      <td>3.719388</td>\n",
       "      <td>0.512755</td>\n",
       "      <td>0.522959</td>\n",
       "      <td>0.783163</td>\n",
       "      <td>0.505102</td>\n",
       "      <td>0.545918</td>\n",
       "      <td>0.454082</td>\n",
       "      <td>734.767883</td>\n",
       "      <td>0.285926</td>\n",
       "      <td>0.581963</td>\n",
       "      <td>10.203009</td>\n",
       "      <td>0.169992</td>\n",
       "      <td>0.240760</td>\n",
       "      <td>9.644422</td>\n",
       "      <td>0.706633</td>\n",
       "      <td>0.295918</td>\n",
       "      <td>677.433594</td>\n",
       "      <td>3557.262451</td>\n",
       "      <td>105.912766</td>\n",
       "      <td>597.571411</td>\n",
       "      <td>0.130802</td>\n",
       "      <td>0.084698</td>\n",
       "      <td>0.820905</td>\n",
       "      <td>10.572091</td>\n",
       "      <td>0.105458</td>\n",
       "      <td>0.352861</td>\n",
       "      <td>10.046303</td>\n",
       "      <td>0.127551</td>\n",
       "      <td>0.066327</td>\n",
       "      <td>0.339286</td>\n",
       "      <td>0.170918</td>\n",
       "      <td>0.125000</td>\n",
       "      <td>0.170918</td>\n",
       "      <td>0.729592</td>\n",
       "      <td>0.403061</td>\n",
       "      <td>0.127551</td>\n",
       "      <td>0.071429</td>\n",
       "      <td>0.395408</td>\n",
       "      <td>0.043367</td>\n",
       "      <td>0.056122</td>\n",
       "      <td>0.051020</td>\n",
       "      <td>0.076531</td>\n",
       "      <td>0.183673</td>\n",
       "      <td>0.278061</td>\n",
       "      <td>0.19898</td>\n",
       "      <td>0.155612</td>\n",
       "    </tr>\n",
       "  </tbody>\n",
       "</table>\n",
       "</div>"
      ],
      "text/plain": [
       "      education    ofjobs  yearsexp    honors  volunteer  military  empholes  \\\n",
       "call                                                                           \n",
       "0.0    3.619696  3.660563  7.751228  0.048013   0.410451  0.098928  0.437472   \n",
       "1.0    3.604592  3.670918  8.890306  0.107143   0.423469  0.076531  0.568878   \n",
       "\n",
       "      occupspecific  occupbroad  workinschool     email  computerskills  \\\n",
       "call                                                                      \n",
       "0.0      213.860875    3.460697      0.563644  0.475435        0.823805   \n",
       "1.0      235.936224    3.719388      0.512755  0.522959        0.783163   \n",
       "\n",
       "      specialskills         h         l        adid  fracblack  fracwhite  \\\n",
       "call                                                                        \n",
       "0.0        0.313310  0.498437  0.501563  644.512939   0.313002   0.539347   \n",
       "1.0        0.505102  0.545918  0.454082  734.767883   0.285926   0.581963   \n",
       "\n",
       "      lmedhhinc  fracdropout  fraccolp      linc       col       eoe  \\\n",
       "call                                                                   \n",
       "0.0   10.142312     0.187040  0.211467  9.542634  0.720634  0.290755   \n",
       "1.0   10.203009     0.169992  0.240760  9.644422  0.706633  0.295918   \n",
       "\n",
       "      parent_sales   parent_emp  branch_sales  branch_emp       fed  \\\n",
       "call                                                                  \n",
       "0.0     580.995850  2191.904541    203.602310  768.117249  0.113438   \n",
       "1.0     677.433594  3557.262451    105.912766  597.571411  0.130802   \n",
       "\n",
       "      fracblack_empzip  fracwhite_empzip  lmedhhinc_empzip  \\\n",
       "call                                                         \n",
       "0.0           0.078705          0.845355         10.661489   \n",
       "1.0           0.084698          0.820905         10.572091   \n",
       "\n",
       "      fracdropout_empzip  fraccolp_empzip  linc_empzip   manager  supervisor  \\\n",
       "call                                                                           \n",
       "0.0             0.101429         0.332549    10.030473  0.154310    0.078160   \n",
       "1.0             0.105458         0.352861    10.046303  0.127551    0.066327   \n",
       "\n",
       "      secretary  offsupport  salesrep  retailsales       req    expreq  \\\n",
       "call                                                                     \n",
       "0.0    0.332291    0.114113  0.153417     0.167709  0.792318  0.438142   \n",
       "1.0    0.339286    0.170918  0.125000     0.170918  0.729592  0.403061   \n",
       "\n",
       "        comreq   educreq   compreq    orgreq     manuf  transcom  bankreal  \\\n",
       "call                                                                         \n",
       "0.0   0.124609  0.109870  0.440822  0.075257  0.085306  0.028584  0.085753   \n",
       "1.0   0.127551  0.071429  0.395408  0.043367  0.056122  0.051020  0.076531   \n",
       "\n",
       "         trade  busservice  othservice   missind  \n",
       "call                                              \n",
       "0.0   0.216615    0.266860     0.15096  0.165922  \n",
       "1.0   0.183673    0.278061     0.19898  0.155612  "
      ]
     },
     "metadata": {},
     "output_type": "display_data"
    }
   ],
   "source": [
    "callback = data.groupby('call').mean()\n",
    "pd.options.display.max_columns = None\n",
    "display(callback)"
   ]
  },
  {
   "cell_type": "markdown",
   "metadata": {},
   "source": [
    "So as showed above, other important factors that might affect the callback success include 'yearsexp', 'honors', 'empholes', 'occupspecific', 'occupbroad', 'email', 'specialskills', 'h', 'adid', 'fraccoip', 'parent_sales', etc. Then I would analyze if there is any significant difference in the race groups, 'b' and 'w'."
   ]
  },
  {
   "cell_type": "code",
   "execution_count": 23,
   "metadata": {},
   "outputs": [
    {
     "data": {
      "text/html": [
       "<div>\n",
       "<style scoped>\n",
       "    .dataframe tbody tr th:only-of-type {\n",
       "        vertical-align: middle;\n",
       "    }\n",
       "\n",
       "    .dataframe tbody tr th {\n",
       "        vertical-align: top;\n",
       "    }\n",
       "\n",
       "    .dataframe thead th {\n",
       "        text-align: right;\n",
       "    }\n",
       "</style>\n",
       "<table border=\"1\" class=\"dataframe\">\n",
       "  <thead>\n",
       "    <tr style=\"text-align: right;\">\n",
       "      <th></th>\n",
       "      <th>education</th>\n",
       "      <th>ofjobs</th>\n",
       "      <th>yearsexp</th>\n",
       "      <th>honors</th>\n",
       "      <th>volunteer</th>\n",
       "      <th>military</th>\n",
       "      <th>empholes</th>\n",
       "      <th>occupspecific</th>\n",
       "      <th>occupbroad</th>\n",
       "      <th>workinschool</th>\n",
       "      <th>email</th>\n",
       "      <th>computerskills</th>\n",
       "      <th>specialskills</th>\n",
       "      <th>h</th>\n",
       "      <th>l</th>\n",
       "      <th>call</th>\n",
       "      <th>adid</th>\n",
       "      <th>fracblack</th>\n",
       "      <th>fracwhite</th>\n",
       "      <th>lmedhhinc</th>\n",
       "      <th>fracdropout</th>\n",
       "      <th>fraccolp</th>\n",
       "      <th>linc</th>\n",
       "      <th>col</th>\n",
       "      <th>eoe</th>\n",
       "      <th>parent_sales</th>\n",
       "      <th>parent_emp</th>\n",
       "      <th>branch_sales</th>\n",
       "      <th>branch_emp</th>\n",
       "      <th>fed</th>\n",
       "      <th>fracblack_empzip</th>\n",
       "      <th>fracwhite_empzip</th>\n",
       "      <th>lmedhhinc_empzip</th>\n",
       "      <th>fracdropout_empzip</th>\n",
       "      <th>fraccolp_empzip</th>\n",
       "      <th>linc_empzip</th>\n",
       "      <th>manager</th>\n",
       "      <th>supervisor</th>\n",
       "      <th>secretary</th>\n",
       "      <th>offsupport</th>\n",
       "      <th>salesrep</th>\n",
       "      <th>retailsales</th>\n",
       "      <th>req</th>\n",
       "      <th>expreq</th>\n",
       "      <th>comreq</th>\n",
       "      <th>educreq</th>\n",
       "      <th>compreq</th>\n",
       "      <th>orgreq</th>\n",
       "      <th>manuf</th>\n",
       "      <th>transcom</th>\n",
       "      <th>bankreal</th>\n",
       "      <th>trade</th>\n",
       "      <th>busservice</th>\n",
       "      <th>othservice</th>\n",
       "      <th>missind</th>\n",
       "    </tr>\n",
       "    <tr>\n",
       "      <th>race</th>\n",
       "      <th></th>\n",
       "      <th></th>\n",
       "      <th></th>\n",
       "      <th></th>\n",
       "      <th></th>\n",
       "      <th></th>\n",
       "      <th></th>\n",
       "      <th></th>\n",
       "      <th></th>\n",
       "      <th></th>\n",
       "      <th></th>\n",
       "      <th></th>\n",
       "      <th></th>\n",
       "      <th></th>\n",
       "      <th></th>\n",
       "      <th></th>\n",
       "      <th></th>\n",
       "      <th></th>\n",
       "      <th></th>\n",
       "      <th></th>\n",
       "      <th></th>\n",
       "      <th></th>\n",
       "      <th></th>\n",
       "      <th></th>\n",
       "      <th></th>\n",
       "      <th></th>\n",
       "      <th></th>\n",
       "      <th></th>\n",
       "      <th></th>\n",
       "      <th></th>\n",
       "      <th></th>\n",
       "      <th></th>\n",
       "      <th></th>\n",
       "      <th></th>\n",
       "      <th></th>\n",
       "      <th></th>\n",
       "      <th></th>\n",
       "      <th></th>\n",
       "      <th></th>\n",
       "      <th></th>\n",
       "      <th></th>\n",
       "      <th></th>\n",
       "      <th></th>\n",
       "      <th></th>\n",
       "      <th></th>\n",
       "      <th></th>\n",
       "      <th></th>\n",
       "      <th></th>\n",
       "      <th></th>\n",
       "      <th></th>\n",
       "      <th></th>\n",
       "      <th></th>\n",
       "      <th></th>\n",
       "      <th></th>\n",
       "      <th></th>\n",
       "    </tr>\n",
       "  </thead>\n",
       "  <tbody>\n",
       "    <tr>\n",
       "      <th>b</th>\n",
       "      <td>3.616016</td>\n",
       "      <td>3.658316</td>\n",
       "      <td>7.829569</td>\n",
       "      <td>0.051335</td>\n",
       "      <td>0.414374</td>\n",
       "      <td>0.101848</td>\n",
       "      <td>0.445996</td>\n",
       "      <td>216.744969</td>\n",
       "      <td>3.487885</td>\n",
       "      <td>0.560986</td>\n",
       "      <td>0.479671</td>\n",
       "      <td>0.832444</td>\n",
       "      <td>0.327310</td>\n",
       "      <td>0.502259</td>\n",
       "      <td>0.497741</td>\n",
       "      <td>0.064476</td>\n",
       "      <td>651.777832</td>\n",
       "      <td>0.313214</td>\n",
       "      <td>0.540329</td>\n",
       "      <td>10.143023</td>\n",
       "      <td>0.185319</td>\n",
       "      <td>0.212640</td>\n",
       "      <td>9.547022</td>\n",
       "      <td>0.722793</td>\n",
       "      <td>0.29117</td>\n",
       "      <td>587.686462</td>\n",
       "      <td>2287.05127</td>\n",
       "      <td>196.050659</td>\n",
       "      <td>755.416992</td>\n",
       "      <td>0.114765</td>\n",
       "      <td>0.079096</td>\n",
       "      <td>0.843762</td>\n",
       "      <td>10.65568</td>\n",
       "      <td>0.101692</td>\n",
       "      <td>0.333873</td>\n",
       "      <td>10.031505</td>\n",
       "      <td>0.151951</td>\n",
       "      <td>0.077207</td>\n",
       "      <td>0.333060</td>\n",
       "      <td>0.118686</td>\n",
       "      <td>0.151129</td>\n",
       "      <td>0.167967</td>\n",
       "      <td>0.787269</td>\n",
       "      <td>0.435318</td>\n",
       "      <td>0.124846</td>\n",
       "      <td>0.106776</td>\n",
       "      <td>0.437372</td>\n",
       "      <td>0.07269</td>\n",
       "      <td>0.082957</td>\n",
       "      <td>0.03039</td>\n",
       "      <td>0.08501</td>\n",
       "      <td>0.213963</td>\n",
       "      <td>0.267762</td>\n",
       "      <td>0.154825</td>\n",
       "      <td>0.165092</td>\n",
       "    </tr>\n",
       "    <tr>\n",
       "      <th>w</th>\n",
       "      <td>3.620945</td>\n",
       "      <td>3.664476</td>\n",
       "      <td>7.856263</td>\n",
       "      <td>0.054209</td>\n",
       "      <td>0.408624</td>\n",
       "      <td>0.092402</td>\n",
       "      <td>0.450103</td>\n",
       "      <td>214.530595</td>\n",
       "      <td>3.475154</td>\n",
       "      <td>0.558111</td>\n",
       "      <td>0.478850</td>\n",
       "      <td>0.808624</td>\n",
       "      <td>0.330185</td>\n",
       "      <td>0.502259</td>\n",
       "      <td>0.497741</td>\n",
       "      <td>0.096509</td>\n",
       "      <td>651.777832</td>\n",
       "      <td>0.308439</td>\n",
       "      <td>0.545211</td>\n",
       "      <td>10.151353</td>\n",
       "      <td>0.186026</td>\n",
       "      <td>0.214998</td>\n",
       "      <td>9.554592</td>\n",
       "      <td>0.716222</td>\n",
       "      <td>0.29117</td>\n",
       "      <td>587.686462</td>\n",
       "      <td>2287.05127</td>\n",
       "      <td>196.050659</td>\n",
       "      <td>755.416992</td>\n",
       "      <td>0.114765</td>\n",
       "      <td>0.079096</td>\n",
       "      <td>0.843762</td>\n",
       "      <td>10.65568</td>\n",
       "      <td>0.101692</td>\n",
       "      <td>0.333873</td>\n",
       "      <td>10.031505</td>\n",
       "      <td>0.152361</td>\n",
       "      <td>0.077207</td>\n",
       "      <td>0.332649</td>\n",
       "      <td>0.118686</td>\n",
       "      <td>0.151129</td>\n",
       "      <td>0.167967</td>\n",
       "      <td>0.787269</td>\n",
       "      <td>0.435318</td>\n",
       "      <td>0.124846</td>\n",
       "      <td>0.106776</td>\n",
       "      <td>0.436961</td>\n",
       "      <td>0.07269</td>\n",
       "      <td>0.082957</td>\n",
       "      <td>0.03039</td>\n",
       "      <td>0.08501</td>\n",
       "      <td>0.213963</td>\n",
       "      <td>0.267762</td>\n",
       "      <td>0.154825</td>\n",
       "      <td>0.165092</td>\n",
       "    </tr>\n",
       "  </tbody>\n",
       "</table>\n",
       "</div>"
      ],
      "text/plain": [
       "      education    ofjobs  yearsexp    honors  volunteer  military  empholes  \\\n",
       "race                                                                           \n",
       "b      3.616016  3.658316  7.829569  0.051335   0.414374  0.101848  0.445996   \n",
       "w      3.620945  3.664476  7.856263  0.054209   0.408624  0.092402  0.450103   \n",
       "\n",
       "      occupspecific  occupbroad  workinschool     email  computerskills  \\\n",
       "race                                                                      \n",
       "b        216.744969    3.487885      0.560986  0.479671        0.832444   \n",
       "w        214.530595    3.475154      0.558111  0.478850        0.808624   \n",
       "\n",
       "      specialskills         h         l      call        adid  fracblack  \\\n",
       "race                                                                       \n",
       "b          0.327310  0.502259  0.497741  0.064476  651.777832   0.313214   \n",
       "w          0.330185  0.502259  0.497741  0.096509  651.777832   0.308439   \n",
       "\n",
       "      fracwhite  lmedhhinc  fracdropout  fraccolp      linc       col  \\\n",
       "race                                                                    \n",
       "b      0.540329  10.143023     0.185319  0.212640  9.547022  0.722793   \n",
       "w      0.545211  10.151353     0.186026  0.214998  9.554592  0.716222   \n",
       "\n",
       "          eoe  parent_sales  parent_emp  branch_sales  branch_emp       fed  \\\n",
       "race                                                                          \n",
       "b     0.29117    587.686462  2287.05127    196.050659  755.416992  0.114765   \n",
       "w     0.29117    587.686462  2287.05127    196.050659  755.416992  0.114765   \n",
       "\n",
       "      fracblack_empzip  fracwhite_empzip  lmedhhinc_empzip  \\\n",
       "race                                                         \n",
       "b             0.079096          0.843762          10.65568   \n",
       "w             0.079096          0.843762          10.65568   \n",
       "\n",
       "      fracdropout_empzip  fraccolp_empzip  linc_empzip   manager  supervisor  \\\n",
       "race                                                                           \n",
       "b               0.101692         0.333873    10.031505  0.151951    0.077207   \n",
       "w               0.101692         0.333873    10.031505  0.152361    0.077207   \n",
       "\n",
       "      secretary  offsupport  salesrep  retailsales       req    expreq  \\\n",
       "race                                                                     \n",
       "b      0.333060    0.118686  0.151129     0.167967  0.787269  0.435318   \n",
       "w      0.332649    0.118686  0.151129     0.167967  0.787269  0.435318   \n",
       "\n",
       "        comreq   educreq   compreq   orgreq     manuf  transcom  bankreal  \\\n",
       "race                                                                        \n",
       "b     0.124846  0.106776  0.437372  0.07269  0.082957   0.03039   0.08501   \n",
       "w     0.124846  0.106776  0.436961  0.07269  0.082957   0.03039   0.08501   \n",
       "\n",
       "         trade  busservice  othservice   missind  \n",
       "race                                              \n",
       "b     0.213963    0.267762    0.154825  0.165092  \n",
       "w     0.213963    0.267762    0.154825  0.165092  "
      ]
     },
     "metadata": {},
     "output_type": "display_data"
    }
   ],
   "source": [
    "race_df = data.groupby('race').mean()\n",
    "display(race_df)"
   ]
  },
  {
   "cell_type": "markdown",
   "metadata": {},
   "source": [
    "### There is no significant difference in all other factors in the two race groups. The conclusion is along with many other factors, race also plays a significant factor in callback success in this case."
   ]
  },
  {
   "cell_type": "code",
   "execution_count": null,
   "metadata": {},
   "outputs": [],
   "source": []
  }
 ],
 "metadata": {
  "kernelspec": {
   "display_name": "Python 3",
   "language": "python",
   "name": "python3"
  },
  "language_info": {
   "codemirror_mode": {
    "name": "ipython",
    "version": 3
   },
   "file_extension": ".py",
   "mimetype": "text/x-python",
   "name": "python",
   "nbconvert_exporter": "python",
   "pygments_lexer": "ipython3",
   "version": "3.6.5"
  }
 },
 "nbformat": 4,
 "nbformat_minor": 1
}
